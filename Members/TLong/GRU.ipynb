{
 "cells": [
  {
   "cell_type": "code",
   "execution_count": 1,
   "metadata": {},
   "outputs": [],
   "source": [
    "import numpy as np\n",
    "import pandas as pd\n",
    "from sklearn.preprocessing import MinMaxScaler\n",
    "from sklearn.metrics import accuracy_score\n",
    "import matplotlib.pyplot as plt\n",
    "from sklearn.metrics import mean_squared_error, mean_absolute_error,mean_absolute_percentage_error\n",
    "from tensorflow.keras.models import Sequential,Model\n",
    "from tensorflow.keras.layers import Dense, LSTM,GRU\n",
    "from tensorflow import keras"
   ]
  },
  {
   "cell_type": "code",
   "execution_count": 2,
   "metadata": {},
   "outputs": [],
   "source": [
    "data = pd.read_csv(\"D:\\\\học đại học\\\\20222\\\\machine learning\\\\saved_data.csv\")"
   ]
  },
  {
   "cell_type": "code",
   "execution_count": 3,
   "metadata": {},
   "outputs": [],
   "source": [
    "time=data['Date']\n",
    "data=data.drop('Date', axis=1)\n",
    "target=\"BTC_close\""
   ]
  },
  {
   "cell_type": "code",
   "execution_count": 4,
   "metadata": {},
   "outputs": [
    {
     "data": {
      "text/html": [
       "<div>\n",
       "<style scoped>\n",
       "    .dataframe tbody tr th:only-of-type {\n",
       "        vertical-align: middle;\n",
       "    }\n",
       "\n",
       "    .dataframe tbody tr th {\n",
       "        vertical-align: top;\n",
       "    }\n",
       "\n",
       "    .dataframe thead th {\n",
       "        text-align: right;\n",
       "    }\n",
       "</style>\n",
       "<table border=\"1\" class=\"dataframe\">\n",
       "  <thead>\n",
       "    <tr style=\"text-align: right;\">\n",
       "      <th></th>\n",
       "      <th>BTC_close</th>\n",
       "      <th>BTC_open</th>\n",
       "      <th>BTC_high</th>\n",
       "      <th>BTC_low</th>\n",
       "      <th>BTC_volume</th>\n",
       "      <th>Active_Addr_Cnt</th>\n",
       "      <th>Difficulty</th>\n",
       "      <th>Mean_Block_Size(in_bytes)</th>\n",
       "      <th>Sum_Block_Weight</th>\n",
       "      <th>Total_Fees(USD)</th>\n",
       "      <th>...</th>\n",
       "      <th>ETH</th>\n",
       "      <th>LTC</th>\n",
       "      <th>DOGE</th>\n",
       "      <th>XRP</th>\n",
       "      <th>GOLD</th>\n",
       "      <th>SILVER</th>\n",
       "      <th>COPPER</th>\n",
       "      <th>S&amp;P500</th>\n",
       "      <th>DJI</th>\n",
       "      <th>JP225</th>\n",
       "    </tr>\n",
       "  </thead>\n",
       "  <tbody>\n",
       "    <tr>\n",
       "      <th>0</th>\n",
       "      <td>0.1</td>\n",
       "      <td>0.1</td>\n",
       "      <td>0.1</td>\n",
       "      <td>0.1</td>\n",
       "      <td>0.26</td>\n",
       "      <td>936.0</td>\n",
       "      <td>182.0</td>\n",
       "      <td>1090.745856</td>\n",
       "      <td>789700.0</td>\n",
       "      <td>0.000000</td>\n",
       "      <td>...</td>\n",
       "      <td>0.0</td>\n",
       "      <td>0.0</td>\n",
       "      <td>0.0</td>\n",
       "      <td>0.0</td>\n",
       "      <td>1191.7</td>\n",
       "      <td>17.693</td>\n",
       "      <td>0.00</td>\n",
       "      <td>1083.48</td>\n",
       "      <td>10229.96</td>\n",
       "      <td>9300.46</td>\n",
       "    </tr>\n",
       "    <tr>\n",
       "      <th>1</th>\n",
       "      <td>0.1</td>\n",
       "      <td>0.1</td>\n",
       "      <td>0.1</td>\n",
       "      <td>0.1</td>\n",
       "      <td>0.58</td>\n",
       "      <td>784.0</td>\n",
       "      <td>182.0</td>\n",
       "      <td>603.821256</td>\n",
       "      <td>499964.0</td>\n",
       "      <td>0.000000</td>\n",
       "      <td>...</td>\n",
       "      <td>0.0</td>\n",
       "      <td>0.0</td>\n",
       "      <td>0.0</td>\n",
       "      <td>0.0</td>\n",
       "      <td>1191.8</td>\n",
       "      <td>17.803</td>\n",
       "      <td>0.00</td>\n",
       "      <td>1069.59</td>\n",
       "      <td>10120.53</td>\n",
       "      <td>9278.83</td>\n",
       "    </tr>\n",
       "    <tr>\n",
       "      <th>2</th>\n",
       "      <td>0.1</td>\n",
       "      <td>0.1</td>\n",
       "      <td>0.1</td>\n",
       "      <td>0.1</td>\n",
       "      <td>2.16</td>\n",
       "      <td>594.0</td>\n",
       "      <td>182.0</td>\n",
       "      <td>572.443182</td>\n",
       "      <td>403000.0</td>\n",
       "      <td>0.000000</td>\n",
       "      <td>...</td>\n",
       "      <td>0.0</td>\n",
       "      <td>0.0</td>\n",
       "      <td>0.0</td>\n",
       "      <td>0.0</td>\n",
       "      <td>1195.6</td>\n",
       "      <td>18.120</td>\n",
       "      <td>7002.75</td>\n",
       "      <td>1093.67</td>\n",
       "      <td>10322.30</td>\n",
       "      <td>9220.88</td>\n",
       "    </tr>\n",
       "    <tr>\n",
       "      <th>3</th>\n",
       "      <td>0.1</td>\n",
       "      <td>0.1</td>\n",
       "      <td>0.1</td>\n",
       "      <td>0.1</td>\n",
       "      <td>2.40</td>\n",
       "      <td>655.0</td>\n",
       "      <td>182.0</td>\n",
       "      <td>530.932990</td>\n",
       "      <td>412004.0</td>\n",
       "      <td>0.000606</td>\n",
       "      <td>...</td>\n",
       "      <td>0.0</td>\n",
       "      <td>0.0</td>\n",
       "      <td>0.0</td>\n",
       "      <td>0.0</td>\n",
       "      <td>1187.8</td>\n",
       "      <td>18.101</td>\n",
       "      <td>7018.25</td>\n",
       "      <td>1102.66</td>\n",
       "      <td>10424.62</td>\n",
       "      <td>9430.96</td>\n",
       "    </tr>\n",
       "    <tr>\n",
       "      <th>4</th>\n",
       "      <td>0.1</td>\n",
       "      <td>0.1</td>\n",
       "      <td>0.1</td>\n",
       "      <td>0.1</td>\n",
       "      <td>0.50</td>\n",
       "      <td>959.0</td>\n",
       "      <td>182.0</td>\n",
       "      <td>1519.539683</td>\n",
       "      <td>1148772.0</td>\n",
       "      <td>0.000000</td>\n",
       "      <td>...</td>\n",
       "      <td>0.0</td>\n",
       "      <td>0.0</td>\n",
       "      <td>0.0</td>\n",
       "      <td>0.0</td>\n",
       "      <td>1187.8</td>\n",
       "      <td>18.101</td>\n",
       "      <td>7018.25</td>\n",
       "      <td>1102.66</td>\n",
       "      <td>10424.62</td>\n",
       "      <td>9430.96</td>\n",
       "    </tr>\n",
       "  </tbody>\n",
       "</table>\n",
       "<p>5 rows × 23 columns</p>\n",
       "</div>"
      ],
      "text/plain": [
       "   BTC_close  BTC_open  BTC_high  BTC_low  BTC_volume  Active_Addr_Cnt   \n",
       "0        0.1       0.1       0.1      0.1        0.26            936.0  \\\n",
       "1        0.1       0.1       0.1      0.1        0.58            784.0   \n",
       "2        0.1       0.1       0.1      0.1        2.16            594.0   \n",
       "3        0.1       0.1       0.1      0.1        2.40            655.0   \n",
       "4        0.1       0.1       0.1      0.1        0.50            959.0   \n",
       "\n",
       "   Difficulty  Mean_Block_Size(in_bytes)  Sum_Block_Weight  Total_Fees(USD)   \n",
       "0       182.0                1090.745856          789700.0         0.000000  \\\n",
       "1       182.0                 603.821256          499964.0         0.000000   \n",
       "2       182.0                 572.443182          403000.0         0.000000   \n",
       "3       182.0                 530.932990          412004.0         0.000606   \n",
       "4       182.0                1519.539683         1148772.0         0.000000   \n",
       "\n",
       "   ...  ETH  LTC  DOGE  XRP    GOLD  SILVER   COPPER   S&P500       DJI   \n",
       "0  ...  0.0  0.0   0.0  0.0  1191.7  17.693     0.00  1083.48  10229.96  \\\n",
       "1  ...  0.0  0.0   0.0  0.0  1191.8  17.803     0.00  1069.59  10120.53   \n",
       "2  ...  0.0  0.0   0.0  0.0  1195.6  18.120  7002.75  1093.67  10322.30   \n",
       "3  ...  0.0  0.0   0.0  0.0  1187.8  18.101  7018.25  1102.66  10424.62   \n",
       "4  ...  0.0  0.0   0.0  0.0  1187.8  18.101  7018.25  1102.66  10424.62   \n",
       "\n",
       "     JP225  \n",
       "0  9300.46  \n",
       "1  9278.83  \n",
       "2  9220.88  \n",
       "3  9430.96  \n",
       "4  9430.96  \n",
       "\n",
       "[5 rows x 23 columns]"
      ]
     },
     "execution_count": 4,
     "metadata": {},
     "output_type": "execute_result"
    }
   ],
   "source": [
    "data.head()"
   ]
  },
  {
   "cell_type": "code",
   "execution_count": 5,
   "metadata": {},
   "outputs": [
    {
     "data": {
      "text/plain": [
       "()"
      ]
     },
     "execution_count": 5,
     "metadata": {},
     "output_type": "execute_result"
    }
   ],
   "source": [
    "target=np.array(target)\n",
    "target.shape"
   ]
  },
  {
   "cell_type": "code",
   "execution_count": 6,
   "metadata": {},
   "outputs": [],
   "source": [
    "train_data= data.copy().iloc[:int(0.7*len(data)),:]\n",
    "train_np= train_data.to_numpy()\n",
    "val_data=data.copy().iloc[int(0.7*len(data)):int(0.85*len(data)),:]\n",
    "val_np=val_data.to_numpy()\n",
    "test_data=data.copy().iloc[int(0.85*len(data)):,:]\n",
    "test_np=test_data.to_numpy()"
   ]
  },
  {
   "cell_type": "code",
   "execution_count": 7,
   "metadata": {},
   "outputs": [],
   "source": [
    "train_np = np.asarray(train_np).astype('float32')\n",
    "val_np = np.asarray(val_np).astype('float32')\n",
    "test_np = np.asarray(test_np).astype('float32')"
   ]
  },
  {
   "cell_type": "code",
   "execution_count": 8,
   "metadata": {},
   "outputs": [],
   "source": [
    "time_step=40\n",
    "train_time_line=[]\n",
    "val_time_line=[]\n",
    "test_time_line=[]"
   ]
  },
  {
   "cell_type": "code",
   "execution_count": 9,
   "metadata": {},
   "outputs": [],
   "source": [
    "def scale_sequence_data(df,timesteps ,close_col_idx):\n",
    "    x = []\n",
    "    y = []\n",
    "    timeLine=[]\n",
    "    for i in range(len(df)-timesteps):    \n",
    "        scaler=MinMaxScaler()      \n",
    "        scaler.fit(df[i:i+timesteps,:])\n",
    "        timeLine.append((scaler.data_min_[close_col_idx],scaler.data_max_[close_col_idx]))\n",
    "        x.append(scaler.transform(df[i:i+timesteps,:]))\n",
    "        value=df[i+timesteps].reshape(1,-1)\n",
    "        value=scaler.transform(value)\n",
    "        y.append(value[:,close_col_idx])\n",
    "\n",
    "    return np.array(x),np.array(y),timeLine\n"
   ]
  },
  {
   "cell_type": "code",
   "execution_count": 10,
   "metadata": {},
   "outputs": [],
   "source": [
    "train_x, train_y,train_time_line = scale_sequence_data(train_np, time_step,data.columns.get_loc('BTC_close'))\n",
    "val_x,val_y,val_time_line =scale_sequence_data(val_np,time_step ,data.columns.get_loc('BTC_close'))\n",
    "test_x, test_y,test_time_line = scale_sequence_data(test_np, time_step,data.columns.get_loc('BTC_close'))"
   ]
  },
  {
   "cell_type": "code",
   "execution_count": 43,
   "metadata": {},
   "outputs": [],
   "source": [
    "model=Sequential()\n",
    "model.add(GRU(units=100,return_sequences=True,recurrent_dropout=0.25))\n",
    "model.add(GRU(units=100,return_sequences =True,recurrent_dropout=0.25))\n",
    "model.add(GRU(units=64,return_sequences=False,recurrent_dropout=0.25))\n",
    "model.add(Dense(1,activation='tanh'))\n",
    "moniter=keras.callbacks.EarlyStopping(monitor='val_loss', patience=15,  verbose=1,restore_best_weights=True)\n",
    "model.compile(optimizer='adam',loss='MeanSquaredError',metrics=['mean_squared_error'])\n",
    "model.fit(train_x,train_y,epochs=1, batch_size=32,validation_data=(val_x,val_y),callbacks=[moniter])\n",
    "model.summary()"
   ]
  },
  {
   "cell_type": "code",
   "execution_count": null,
   "metadata": {},
   "outputs": [
    {
     "name": "stdout",
     "output_type": "stream",
     "text": [
      "Epoch 1/50\n"
     ]
    },
    {
     "name": "stdout",
     "output_type": "stream",
     "text": [
      "101/101 [==============================] - 13s 76ms/step - loss: 0.0288 - val_loss: 0.0249\n",
      "Epoch 2/50\n",
      "101/101 [==============================] - 7s 71ms/step - loss: 0.0248 - val_loss: 0.0266\n",
      "Epoch 3/50\n",
      "101/101 [==============================] - 7s 71ms/step - loss: 0.0235 - val_loss: 0.0234\n",
      "Epoch 4/50\n",
      "101/101 [==============================] - 7s 71ms/step - loss: 0.0228 - val_loss: 0.0231\n",
      "Epoch 5/50\n",
      "101/101 [==============================] - 7s 72ms/step - loss: 0.0221 - val_loss: 0.0225\n",
      "Epoch 6/50\n",
      "101/101 [==============================] - 7s 71ms/step - loss: 0.0213 - val_loss: 0.0227\n",
      "Epoch 7/50\n",
      "101/101 [==============================] - 7s 70ms/step - loss: 0.0210 - val_loss: 0.0218\n",
      "Epoch 8/50\n",
      "101/101 [==============================] - 7s 74ms/step - loss: 0.0220 - val_loss: 0.0223\n",
      "Epoch 9/50\n",
      "101/101 [==============================] - 7s 73ms/step - loss: 0.0207 - val_loss: 0.0229\n",
      "Epoch 10/50\n",
      "101/101 [==============================] - 7s 72ms/step - loss: 0.0212 - val_loss: 0.0249\n",
      "Epoch 11/50\n",
      "101/101 [==============================] - 7s 73ms/step - loss: 0.0209 - val_loss: 0.0218\n",
      "Epoch 12/50\n",
      "101/101 [==============================] - 7s 73ms/step - loss: 0.0202 - val_loss: 0.0222\n",
      "Epoch 13/50\n",
      "101/101 [==============================] - 7s 72ms/step - loss: 0.0204 - val_loss: 0.0218\n",
      "Epoch 14/50\n",
      "101/101 [==============================] - 7s 73ms/step - loss: 0.0200 - val_loss: 0.0222\n",
      "Epoch 15/50\n",
      "101/101 [==============================] - 7s 72ms/step - loss: 0.0202 - val_loss: 0.0223\n",
      "Epoch 16/50\n",
      "101/101 [==============================] - 7s 72ms/step - loss: 0.0199 - val_loss: 0.0249\n",
      "Epoch 17/50\n",
      "101/101 [==============================] - 7s 73ms/step - loss: 0.0199 - val_loss: 0.0235\n",
      "Epoch 18/50\n",
      "101/101 [==============================] - 7s 73ms/step - loss: 0.0196 - val_loss: 0.0238\n",
      "Epoch 19/50\n",
      "101/101 [==============================] - 7s 73ms/step - loss: 0.0195 - val_loss: 0.0221\n",
      "Epoch 20/50\n",
      "101/101 [==============================] - 7s 74ms/step - loss: 0.0192 - val_loss: 0.0218\n",
      "Epoch 21/50\n",
      "101/101 [==============================] - 7s 74ms/step - loss: 0.0195 - val_loss: 0.0217\n",
      "Epoch 22/50\n",
      "101/101 [==============================] - 7s 73ms/step - loss: 0.0189 - val_loss: 0.0218\n",
      "Epoch 23/50\n",
      "101/101 [==============================] - 7s 74ms/step - loss: 0.0195 - val_loss: 0.0243\n",
      "Epoch 24/50\n",
      "101/101 [==============================] - 7s 73ms/step - loss: 0.0185 - val_loss: 0.0233\n",
      "Epoch 25/50\n",
      "101/101 [==============================] - 7s 73ms/step - loss: 0.0187 - val_loss: 0.0219\n",
      "Epoch 26/50\n",
      "101/101 [==============================] - 7s 73ms/step - loss: 0.0186 - val_loss: 0.0221\n",
      "Epoch 27/50\n",
      "101/101 [==============================] - 7s 74ms/step - loss: 0.0182 - val_loss: 0.0227\n",
      "Epoch 28/50\n",
      "101/101 [==============================] - 7s 73ms/step - loss: 0.0182 - val_loss: 0.0231\n",
      "Epoch 29/50\n",
      "101/101 [==============================] - 8s 76ms/step - loss: 0.0179 - val_loss: 0.0236\n",
      "Epoch 30/50\n",
      "101/101 [==============================] - 8s 74ms/step - loss: 0.0184 - val_loss: 0.0220\n",
      "Epoch 31/50\n",
      "101/101 [==============================] - 8s 75ms/step - loss: 0.0181 - val_loss: 0.0223\n",
      "Epoch 32/50\n",
      "101/101 [==============================] - 8s 75ms/step - loss: 0.0175 - val_loss: 0.0219\n",
      "Epoch 33/50\n",
      "101/101 [==============================] - 8s 75ms/step - loss: 0.0174 - val_loss: 0.0221\n",
      "Epoch 34/50\n",
      "101/101 [==============================] - 8s 75ms/step - loss: 0.0169 - val_loss: 0.0225\n",
      "Epoch 35/50\n",
      "101/101 [==============================] - 8s 75ms/step - loss: 0.0172 - val_loss: 0.0223\n",
      "Epoch 36/50\n",
      "101/101 [==============================] - ETA: 0s - loss: 0.0167Restoring model weights from the end of the best epoch: 21.\n",
      "101/101 [==============================] - 8s 74ms/step - loss: 0.0167 - val_loss: 0.0227\n",
      "Epoch 36: early stopping\n"
     ]
    },
    {
     "data": {
      "text/plain": [
       "<keras.src.callbacks.History at 0x219d89b08e0>"
      ]
     },
     "execution_count": 36,
     "metadata": {},
     "output_type": "execute_result"
    }
   ],
   "source": [
    "model.compile(optimizer='adam',loss='MeanSquaredError')\n",
    "model.fit(train_x,train_y,epochs=50, batch_size=32,validation_data=(val_x,val_y),callbacks=[moniter])"
   ]
  },
  {
   "cell_type": "code",
   "execution_count": null,
   "metadata": {},
   "outputs": [
    {
     "name": "stdout",
     "output_type": "stream",
     "text": [
      "101/101 [==============================] - 1s 13ms/step - loss: 0.0182\n",
      "21/21 [==============================] - 0s 12ms/step - loss: 0.0217\n",
      "21/21 [==============================] - 0s 12ms/step - loss: 0.0236\n"
     ]
    },
    {
     "data": {
      "text/plain": [
       "0.02355339378118515"
      ]
     },
     "execution_count": 37,
     "metadata": {},
     "output_type": "execute_result"
    }
   ],
   "source": [
    "model.evaluate(train_x,train_y)\n",
    "model.evaluate(val_x,val_y)\n",
    "model.evaluate(test_x,test_y)"
   ]
  },
  {
   "cell_type": "code",
   "execution_count": null,
   "metadata": {},
   "outputs": [
    {
     "name": "stdout",
     "output_type": "stream",
     "text": [
      "21/21 [==============================] - 1s 12ms/step\n",
      "101/101 [==============================] - 1s 13ms/step\n",
      "21/21 [==============================] - 0s 12ms/step\n"
     ]
    }
   ],
   "source": [
    "predictions = model.predict(test_x)\n",
    "test_y=test_y.reshape(-1,1)\n",
    "prec_train=model.predict(train_x)\n",
    "pre_val=model.predict(val_x)"
   ]
  },
  {
   "cell_type": "code",
   "execution_count": null,
   "metadata": {},
   "outputs": [],
   "source": [
    "def inverseTransform(value, timeline):\n",
    "    result = []\n",
    "    for i in range(len(timeline)):\n",
    "        min_val = timeline[i][0]\n",
    "        max_val = timeline[i][1]\n",
    "        original_value = (value[i] * (max_val - min_val)) + min_val\n",
    "        result.append(original_value)\n",
    "    return np.array(result)"
   ]
  },
  {
   "cell_type": "code",
   "execution_count": null,
   "metadata": {},
   "outputs": [],
   "source": [
    "test_after_inverse=inverseTransform(predictions,test_time_line)\n",
    "true_after_inverse=inverseTransform(test_y,test_time_line)\n",
    "inverse_train_pred=inverseTransform(prec_train,train_time_line)\n",
    "inverse_train_true=inverseTransform(train_y,train_time_line)"
   ]
  },
  {
   "cell_type": "code",
   "execution_count": null,
   "metadata": {},
   "outputs": [
    {
     "name": "stdout",
     "output_type": "stream",
     "text": [
      "Test accuracy for train set\n",
      "Root Mean Square Error (RMSE): 192.3068\n",
      "Mean Absolute Percentage Error (MAPE): 0.036587037\n",
      "AUC test: 0.4527363184079602\n",
      "Test accuracy for test set\n",
      "Root Mean Square Error (RMSE): 1303.7797\n",
      "Mean Absolute Percentage Error (MAPE): 0.026464604\n",
      "AUC test: 0.45288753799392095\n"
     ]
    }
   ],
   "source": [
    "true_train=inverse_train_true\n",
    "prediction_train=inverse_train_pred\n",
    "prediction_test=test_after_inverse\n",
    "true_test=true_after_inverse\n",
    "def AUC(true_test,prediction_test):\n",
    "    count = 0\n",
    "    for i in range(1,len(true_test)):\n",
    "        if (true_test[i] - true_test[i-1]) * (prediction_test[i] - prediction_test[i-1]) > 0:\n",
    "            count += 1\n",
    "    return count/(len(true_test)-1)\n",
    "print(\"Test accuracy for train set\")\n",
    "#RMSE\n",
    "print(\"Root Mean Square Error (RMSE):\", np.sqrt(mean_squared_error(true_train, prediction_train)))\n",
    "\n",
    "#MAPE\n",
    "print(\"Mean Absolute Percentage Error (MAPE):\", mean_absolute_percentage_error(true_train,prediction_train))\n",
    "#AUC\n",
    "print(\"AUC test:\",AUC(true_train,prediction_train))\n",
    "print(\"Test accuracy for test set\")\n",
    "#RMSE\n",
    "print(\"Root Mean Square Error (RMSE):\", np.sqrt(mean_squared_error(true_test, prediction_test)))\n",
    "\n",
    "#MAPE\n",
    "print(\"Mean Absolute Percentage Error (MAPE):\", mean_absolute_percentage_error(true_test,prediction_test))\n",
    "#AUC\n",
    "print(\"AUC test:\",AUC(true_test,prediction_test))"
   ]
  },
  {
   "cell_type": "code",
   "execution_count": null,
   "metadata": {},
   "outputs": [
    {
     "data": {
      "image/png": "[encoded data removed]",
      "text/plain": [
       "<Figure size 1200x600 with 1 Axes>"
      ]
     },
     "metadata": {},
     "output_type": "display_data"
    }
   ],
   "source": [
    "# Plot the predicted and actual prices\n",
    "plt.figure(figsize=(12,6))\n",
    "plt.plot(true_after_inverse, label='Actual Prices')\n",
    "plt.plot(test_after_inverse, label='Predicted Prices')\n",
    "\n",
    "plt.title('test')\n",
    "plt.xlabel('Time')\n",
    "plt.ylabel('Price')\n",
    "plt.legend()\n",
    "plt.show()"
   ]
  }
 ],
 "metadata": {
  "kernelspec": {
   "display_name": "Python 3",
   "language": "python",
   "name": "python3"
  },
  "language_info": {
   "codemirror_mode": {
    "name": "ipython",
    "version": 3
   },
   "file_extension": ".py",
   "mimetype": "text/x-python",
   "name": "python",
   "nbconvert_exporter": "python",
   "pygments_lexer": "ipython3",
   "version": "3.10.4"
  },
  "orig_nbformat": 4
 },
 "nbformat": 4,
 "nbformat_minor": 2
}
