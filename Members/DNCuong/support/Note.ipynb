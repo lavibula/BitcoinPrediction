{
 "cells": [
  {
   "attachments": {},
   "cell_type": "markdown",
   "metadata": {},
   "source": [
    "# 1.Git"
   ]
  },
  {
   "attachments": {},
   "cell_type": "markdown",
   "metadata": {},
   "source": [
    "## Thực dùng: \n",
    "Để commit sự thay đổi của bạn trên Github repository, hãy làm theo các bước sau:\n",
    "\n",
    "1. Mở terminal hoặc Git Bash.\n",
    "2. `cd` vào thư mục chứa repository của bạn.\n",
    "3. Sử dụng lệnh `git checkout main` để chuyển sang nhánh chính (main branch).\n",
    "4. Sử dụng lệnh `git pull` để đảm bảo rằng bạn đang có phiên bản mới nhất của repo trên máy tính của bạn.\n",
    "5. Sử dụng lệnh `git add Member/DNCuong` để đưa thư mục con DNCuong  vào staged area.\n",
    "6. Sử dụng lệnh `git status` để xác nhận thư mục con đã được đưa vào staged area.\n",
    "7. Sử dụng lệnh `git commit -m \"Thêm thư mục DNCuong\"` để commit các thay đổi với message là \"Thêm thư mục DNCuong\" (bạn có thể tùy chỉnh message sao cho phù hợp với nội dung commit của bạn).\n",
    "8. Sử dụng lệnh `git push` để đẩy các commit mới nhất của bạn lên Github.\n",
    "9. git revert 550cecb48afe8551e6eb759e0da08b02cce3f597  ->  git push\n",
    "10. git reset đưa các file về trạng thái trên web, commit thì lấy lại được, ko commit (save) thì chịu. \n",
    "\n"
   ]
  },
  {
   "attachments": {},
   "cell_type": "markdown",
   "metadata": {},
   "source": [
    "Để push file Cuong.ipynb lên repository PredictionBitcoin, bạn có thể thực hiện theo các bước sau:\n",
    "git status\n",
    "git branch\n",
    "git pull origin main\n",
    "3. Chuyển đến thư mục Member/DNCuong:\n",
    "```\n",
    "cd Member/DNCuong\n",
    "```\n",
    "4. Sử dụng lệnh git add để thêm file Cuong.ipynb vào staged area:\n",
    "```\n",
    "git add Cuong.ipynb\n",
    "```\n",
    "5. Sau đó, sử dụng lệnh git commit để commit các thay đổi đã được thêm vào staged area:\n",
    "```\n",
    "git commit -m \"Update Cuong's notebook\"\n",
    "```\n",
    "git push origin main\n",
    "\n"
   ]
  },
  {
   "attachments": {},
   "cell_type": "markdown",
   "metadata": {},
   "source": [
    "Để push toàn bộ thư mực DNCuong lên github. \n",
    "\n",
    "\\Members> git add DNCuong  <br>\n",
    "\\Members> git commit -m 'DNC update Mul_Linear_reg'"
   ]
  },
  {
   "attachments": {},
   "cell_type": "markdown",
   "metadata": {},
   "source": [
    "Khi không xử lý được lỗi git, giải pháp cuối là clone nhánh main(nhánh làm việc)\n",
    "git clone -b main https://github.com/lavibula/ML20222.PredictionBitcoin/ myFolder"
   ]
  }
 ],
 "metadata": {
  "kernelspec": {
   "display_name": "Python 3",
   "language": "python",
   "name": "python3"
  },
  "language_info": {
   "codemirror_mode": {
    "name": "ipython",
    "version": 3
   },
   "file_extension": ".py",
   "mimetype": "text/x-python",
   "name": "python",
   "nbconvert_exporter": "python",
   "pygments_lexer": "ipython3",
   "version": "3.11.3"
  },
  "orig_nbformat": 4
 },
 "nbformat": 4,
 "nbformat_minor": 2
}
