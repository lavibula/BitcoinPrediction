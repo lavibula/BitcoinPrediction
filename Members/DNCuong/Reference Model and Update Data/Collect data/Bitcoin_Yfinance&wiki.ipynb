{
 "cells": [
  {
   "attachments": {},
   "cell_type": "markdown",
   "id": "599da5b5",
   "metadata": {},
   "source": [
    "Link tham khảo: yfinance+wiki - use XGboot\n",
    "https://github.com/dataquestio/project-walkthroughs/blob/master/bitcoin_price/prediction.ipynb  (https://www.youtube.com/watch?v=TF2Nx_ifmrU&t=2550s)"
   ]
  },
  {
   "cell_type": "code",
   "execution_count": 1,
   "id": "9925ad2f-9c50-45e5-8533-eebf1a5fd7d2",
   "metadata": {},
   "outputs": [],
   "source": [
    "import yfinance as yf # down data chứng khoán từ yf - data rất mới đến hiện tại. \n",
    "import os\n",
    "import pandas as pd"
   ]
  },
  {
   "cell_type": "code",
   "execution_count": 2,
   "id": "130eb0f5-a3ab-4b7a-a3aa-bb1c8437d6f2",
   "metadata": {},
   "outputs": [],
   "source": [
    "btc_ticker = yf.Ticker(\"BTC-USD\")"
   ]
  },
  {
   "cell_type": "code",
   "execution_count": 3,
   "id": "d71ca889-3406-4139-9da6-792dfc844e19",
   "metadata": {},
   "outputs": [],
   "source": [
    "if os.path.exists(\"btc.csv\"):\n",
    "    btc = pd.read_csv(\"btc.csv\", index_col=0)\n",
    "else:\n",
    "    btc = btc_ticker.history(period=\"max\")\n",
    "    btc.to_csv(\"btc.csv\")"
   ]
  },
  {
   "cell_type": "code",
   "execution_count": 4,
   "id": "fae85f03-d041-4cdd-832b-5a769e998236",
   "metadata": {},
   "outputs": [
    {
     "data": {
      "text/html": [
       "<div>\n",
       "<style scoped>\n",
       "    .dataframe tbody tr th:only-of-type {\n",
       "        vertical-align: middle;\n",
       "    }\n",
       "\n",
       "    .dataframe tbody tr th {\n",
       "        vertical-align: top;\n",
       "    }\n",
       "\n",
       "    .dataframe thead th {\n",
       "        text-align: right;\n",
       "    }\n",
       "</style>\n",
       "<table border=\"1\" class=\"dataframe\">\n",
       "  <thead>\n",
       "    <tr style=\"text-align: right;\">\n",
       "      <th></th>\n",
       "      <th>Open</th>\n",
       "      <th>High</th>\n",
       "      <th>Low</th>\n",
       "      <th>Close</th>\n",
       "      <th>Volume</th>\n",
       "      <th>Dividends</th>\n",
       "      <th>Stock Splits</th>\n",
       "    </tr>\n",
       "    <tr>\n",
       "      <th>Date</th>\n",
       "      <th></th>\n",
       "      <th></th>\n",
       "      <th></th>\n",
       "      <th></th>\n",
       "      <th></th>\n",
       "      <th></th>\n",
       "      <th></th>\n",
       "    </tr>\n",
       "  </thead>\n",
       "  <tbody>\n",
       "    <tr>\n",
       "      <th>2014-09-17 00:00:00+00:00</th>\n",
       "      <td>465.864014</td>\n",
       "      <td>468.174011</td>\n",
       "      <td>452.421997</td>\n",
       "      <td>457.334015</td>\n",
       "      <td>21056800</td>\n",
       "      <td>0.0</td>\n",
       "      <td>0.0</td>\n",
       "    </tr>\n",
       "    <tr>\n",
       "      <th>2014-09-18 00:00:00+00:00</th>\n",
       "      <td>456.859985</td>\n",
       "      <td>456.859985</td>\n",
       "      <td>413.104004</td>\n",
       "      <td>424.440002</td>\n",
       "      <td>34483200</td>\n",
       "      <td>0.0</td>\n",
       "      <td>0.0</td>\n",
       "    </tr>\n",
       "    <tr>\n",
       "      <th>2014-09-19 00:00:00+00:00</th>\n",
       "      <td>424.102997</td>\n",
       "      <td>427.834991</td>\n",
       "      <td>384.532013</td>\n",
       "      <td>394.795990</td>\n",
       "      <td>37919700</td>\n",
       "      <td>0.0</td>\n",
       "      <td>0.0</td>\n",
       "    </tr>\n",
       "    <tr>\n",
       "      <th>2014-09-20 00:00:00+00:00</th>\n",
       "      <td>394.673004</td>\n",
       "      <td>423.295990</td>\n",
       "      <td>389.882996</td>\n",
       "      <td>408.903992</td>\n",
       "      <td>36863600</td>\n",
       "      <td>0.0</td>\n",
       "      <td>0.0</td>\n",
       "    </tr>\n",
       "    <tr>\n",
       "      <th>2014-09-21 00:00:00+00:00</th>\n",
       "      <td>408.084991</td>\n",
       "      <td>412.425995</td>\n",
       "      <td>393.181000</td>\n",
       "      <td>398.821014</td>\n",
       "      <td>26580100</td>\n",
       "      <td>0.0</td>\n",
       "      <td>0.0</td>\n",
       "    </tr>\n",
       "    <tr>\n",
       "      <th>...</th>\n",
       "      <td>...</td>\n",
       "      <td>...</td>\n",
       "      <td>...</td>\n",
       "      <td>...</td>\n",
       "      <td>...</td>\n",
       "      <td>...</td>\n",
       "      <td>...</td>\n",
       "    </tr>\n",
       "    <tr>\n",
       "      <th>2023-06-17 00:00:00+00:00</th>\n",
       "      <td>26328.679688</td>\n",
       "      <td>26769.394531</td>\n",
       "      <td>26174.492188</td>\n",
       "      <td>26510.675781</td>\n",
       "      <td>11090276850</td>\n",
       "      <td>0.0</td>\n",
       "      <td>0.0</td>\n",
       "    </tr>\n",
       "    <tr>\n",
       "      <th>2023-06-18 00:00:00+00:00</th>\n",
       "      <td>26510.457031</td>\n",
       "      <td>26675.925781</td>\n",
       "      <td>26325.890625</td>\n",
       "      <td>26336.212891</td>\n",
       "      <td>9565695129</td>\n",
       "      <td>0.0</td>\n",
       "      <td>0.0</td>\n",
       "    </tr>\n",
       "    <tr>\n",
       "      <th>2023-06-19 00:00:00+00:00</th>\n",
       "      <td>26335.441406</td>\n",
       "      <td>26984.611328</td>\n",
       "      <td>26312.832031</td>\n",
       "      <td>26851.029297</td>\n",
       "      <td>12826986222</td>\n",
       "      <td>0.0</td>\n",
       "      <td>0.0</td>\n",
       "    </tr>\n",
       "    <tr>\n",
       "      <th>2023-06-20 00:00:00+00:00</th>\n",
       "      <td>26841.664062</td>\n",
       "      <td>28388.968750</td>\n",
       "      <td>26668.791016</td>\n",
       "      <td>28327.488281</td>\n",
       "      <td>22211859147</td>\n",
       "      <td>0.0</td>\n",
       "      <td>0.0</td>\n",
       "    </tr>\n",
       "    <tr>\n",
       "      <th>2023-06-21 00:00:00+00:00</th>\n",
       "      <td>28283.410156</td>\n",
       "      <td>28941.525391</td>\n",
       "      <td>28283.410156</td>\n",
       "      <td>28918.359375</td>\n",
       "      <td>25611612160</td>\n",
       "      <td>0.0</td>\n",
       "      <td>0.0</td>\n",
       "    </tr>\n",
       "  </tbody>\n",
       "</table>\n",
       "<p>3200 rows × 7 columns</p>\n",
       "</div>"
      ],
      "text/plain": [
       "                                   Open          High           Low   \n",
       "Date                                                                  \n",
       "2014-09-17 00:00:00+00:00    465.864014    468.174011    452.421997  \\\n",
       "2014-09-18 00:00:00+00:00    456.859985    456.859985    413.104004   \n",
       "2014-09-19 00:00:00+00:00    424.102997    427.834991    384.532013   \n",
       "2014-09-20 00:00:00+00:00    394.673004    423.295990    389.882996   \n",
       "2014-09-21 00:00:00+00:00    408.084991    412.425995    393.181000   \n",
       "...                                 ...           ...           ...   \n",
       "2023-06-17 00:00:00+00:00  26328.679688  26769.394531  26174.492188   \n",
       "2023-06-18 00:00:00+00:00  26510.457031  26675.925781  26325.890625   \n",
       "2023-06-19 00:00:00+00:00  26335.441406  26984.611328  26312.832031   \n",
       "2023-06-20 00:00:00+00:00  26841.664062  28388.968750  26668.791016   \n",
       "2023-06-21 00:00:00+00:00  28283.410156  28941.525391  28283.410156   \n",
       "\n",
       "                                  Close       Volume  Dividends  Stock Splits  \n",
       "Date                                                                           \n",
       "2014-09-17 00:00:00+00:00    457.334015     21056800        0.0           0.0  \n",
       "2014-09-18 00:00:00+00:00    424.440002     34483200        0.0           0.0  \n",
       "2014-09-19 00:00:00+00:00    394.795990     37919700        0.0           0.0  \n",
       "2014-09-20 00:00:00+00:00    408.903992     36863600        0.0           0.0  \n",
       "2014-09-21 00:00:00+00:00    398.821014     26580100        0.0           0.0  \n",
       "...                                 ...          ...        ...           ...  \n",
       "2023-06-17 00:00:00+00:00  26510.675781  11090276850        0.0           0.0  \n",
       "2023-06-18 00:00:00+00:00  26336.212891   9565695129        0.0           0.0  \n",
       "2023-06-19 00:00:00+00:00  26851.029297  12826986222        0.0           0.0  \n",
       "2023-06-20 00:00:00+00:00  28327.488281  22211859147        0.0           0.0  \n",
       "2023-06-21 00:00:00+00:00  28918.359375  25611612160        0.0           0.0  \n",
       "\n",
       "[3200 rows x 7 columns]"
      ]
     },
     "execution_count": 4,
     "metadata": {},
     "output_type": "execute_result"
    }
   ],
   "source": [
    "btc"
   ]
  },
  {
   "cell_type": "code",
   "execution_count": 5,
   "id": "086d0aef-f2e4-42eb-9e41-4e4bad1f13d1",
   "metadata": {},
   "outputs": [],
   "source": [
    "btc.index = pd.to_datetime(btc.index)"
   ]
  },
  {
   "cell_type": "code",
   "execution_count": 6,
   "id": "1067f63d-91fd-425a-80a1-fccd1eba3612",
   "metadata": {},
   "outputs": [],
   "source": [
    "del btc[\"Dividends\"]\n",
    "del btc[\"Stock Splits\"]"
   ]
  },
  {
   "cell_type": "code",
   "execution_count": 7,
   "id": "1fd1a503-412e-419f-b3e0-e32bf829ed0d",
   "metadata": {},
   "outputs": [],
   "source": [
    "btc.columns = [c.lower() for c in btc.columns]"
   ]
  },
  {
   "cell_type": "code",
   "execution_count": 8,
   "id": "0f3d1839-bc67-45b7-b1a0-8d8f60c62b50",
   "metadata": {},
   "outputs": [
    {
     "data": {
      "text/plain": [
       "<Axes: xlabel='Date'>"
      ]
     },
     "execution_count": 8,
     "metadata": {},
     "output_type": "execute_result"
    },
    {
     "data": {
      "image/png": "[encoded data removed]",
      "text/plain": [
       "<Figure size 640x480 with 1 Axes>"
      ]
     },
     "metadata": {},
     "output_type": "display_data"
    }
   ],
   "source": [
    "btc.plot.line(y=\"close\", use_index=True)"
   ]
  },
  {
   "cell_type": "code",
   "execution_count": 9,
   "id": "17bb4150-7dc3-4dcb-92ac-5b2149899563",
   "metadata": {},
   "outputs": [
    {
     "ename": "FileNotFoundError",
     "evalue": "[Errno 2] No such file or directory: 'wikipedia_edits.csv'",
     "output_type": "error",
     "traceback": [
      "\u001b[1;31m---------------------------------------------------------------------------\u001b[0m",
      "\u001b[1;31mFileNotFoundError\u001b[0m                         Traceback (most recent call last)",
      "Cell \u001b[1;32mIn[9], line 1\u001b[0m\n\u001b[1;32m----> 1\u001b[0m wiki \u001b[39m=\u001b[39m pd\u001b[39m.\u001b[39;49mread_csv(\u001b[39m\"\u001b[39;49m\u001b[39mwikipedia_edits.csv\u001b[39;49m\u001b[39m\"\u001b[39;49m, index_col\u001b[39m=\u001b[39;49m\u001b[39m0\u001b[39;49m, parse_dates\u001b[39m=\u001b[39;49m\u001b[39mTrue\u001b[39;49;00m)\n",
      "File \u001b[1;32mc:\\Users\\Administrator\\AppData\\Local\\Programs\\Python\\Python311\\Lib\\site-packages\\pandas\\io\\parsers\\readers.py:912\u001b[0m, in \u001b[0;36mread_csv\u001b[1;34m(filepath_or_buffer, sep, delimiter, header, names, index_col, usecols, dtype, engine, converters, true_values, false_values, skipinitialspace, skiprows, skipfooter, nrows, na_values, keep_default_na, na_filter, verbose, skip_blank_lines, parse_dates, infer_datetime_format, keep_date_col, date_parser, date_format, dayfirst, cache_dates, iterator, chunksize, compression, thousands, decimal, lineterminator, quotechar, quoting, doublequote, escapechar, comment, encoding, encoding_errors, dialect, on_bad_lines, delim_whitespace, low_memory, memory_map, float_precision, storage_options, dtype_backend)\u001b[0m\n\u001b[0;32m    899\u001b[0m kwds_defaults \u001b[39m=\u001b[39m _refine_defaults_read(\n\u001b[0;32m    900\u001b[0m     dialect,\n\u001b[0;32m    901\u001b[0m     delimiter,\n\u001b[1;32m   (...)\u001b[0m\n\u001b[0;32m    908\u001b[0m     dtype_backend\u001b[39m=\u001b[39mdtype_backend,\n\u001b[0;32m    909\u001b[0m )\n\u001b[0;32m    910\u001b[0m kwds\u001b[39m.\u001b[39mupdate(kwds_defaults)\n\u001b[1;32m--> 912\u001b[0m \u001b[39mreturn\u001b[39;00m _read(filepath_or_buffer, kwds)\n",
      "File \u001b[1;32mc:\\Users\\Administrator\\AppData\\Local\\Programs\\Python\\Python311\\Lib\\site-packages\\pandas\\io\\parsers\\readers.py:577\u001b[0m, in \u001b[0;36m_read\u001b[1;34m(filepath_or_buffer, kwds)\u001b[0m\n\u001b[0;32m    574\u001b[0m _validate_names(kwds\u001b[39m.\u001b[39mget(\u001b[39m\"\u001b[39m\u001b[39mnames\u001b[39m\u001b[39m\"\u001b[39m, \u001b[39mNone\u001b[39;00m))\n\u001b[0;32m    576\u001b[0m \u001b[39m# Create the parser.\u001b[39;00m\n\u001b[1;32m--> 577\u001b[0m parser \u001b[39m=\u001b[39m TextFileReader(filepath_or_buffer, \u001b[39m*\u001b[39;49m\u001b[39m*\u001b[39;49mkwds)\n\u001b[0;32m    579\u001b[0m \u001b[39mif\u001b[39;00m chunksize \u001b[39mor\u001b[39;00m iterator:\n\u001b[0;32m    580\u001b[0m     \u001b[39mreturn\u001b[39;00m parser\n",
      "File \u001b[1;32mc:\\Users\\Administrator\\AppData\\Local\\Programs\\Python\\Python311\\Lib\\site-packages\\pandas\\io\\parsers\\readers.py:1407\u001b[0m, in \u001b[0;36mTextFileReader.__init__\u001b[1;34m(self, f, engine, **kwds)\u001b[0m\n\u001b[0;32m   1404\u001b[0m     \u001b[39mself\u001b[39m\u001b[39m.\u001b[39moptions[\u001b[39m\"\u001b[39m\u001b[39mhas_index_names\u001b[39m\u001b[39m\"\u001b[39m] \u001b[39m=\u001b[39m kwds[\u001b[39m\"\u001b[39m\u001b[39mhas_index_names\u001b[39m\u001b[39m\"\u001b[39m]\n\u001b[0;32m   1406\u001b[0m \u001b[39mself\u001b[39m\u001b[39m.\u001b[39mhandles: IOHandles \u001b[39m|\u001b[39m \u001b[39mNone\u001b[39;00m \u001b[39m=\u001b[39m \u001b[39mNone\u001b[39;00m\n\u001b[1;32m-> 1407\u001b[0m \u001b[39mself\u001b[39m\u001b[39m.\u001b[39m_engine \u001b[39m=\u001b[39m \u001b[39mself\u001b[39;49m\u001b[39m.\u001b[39;49m_make_engine(f, \u001b[39mself\u001b[39;49m\u001b[39m.\u001b[39;49mengine)\n",
      "File \u001b[1;32mc:\\Users\\Administrator\\AppData\\Local\\Programs\\Python\\Python311\\Lib\\site-packages\\pandas\\io\\parsers\\readers.py:1661\u001b[0m, in \u001b[0;36mTextFileReader._make_engine\u001b[1;34m(self, f, engine)\u001b[0m\n\u001b[0;32m   1659\u001b[0m     \u001b[39mif\u001b[39;00m \u001b[39m\"\u001b[39m\u001b[39mb\u001b[39m\u001b[39m\"\u001b[39m \u001b[39mnot\u001b[39;00m \u001b[39min\u001b[39;00m mode:\n\u001b[0;32m   1660\u001b[0m         mode \u001b[39m+\u001b[39m\u001b[39m=\u001b[39m \u001b[39m\"\u001b[39m\u001b[39mb\u001b[39m\u001b[39m\"\u001b[39m\n\u001b[1;32m-> 1661\u001b[0m \u001b[39mself\u001b[39m\u001b[39m.\u001b[39mhandles \u001b[39m=\u001b[39m get_handle(\n\u001b[0;32m   1662\u001b[0m     f,\n\u001b[0;32m   1663\u001b[0m     mode,\n\u001b[0;32m   1664\u001b[0m     encoding\u001b[39m=\u001b[39;49m\u001b[39mself\u001b[39;49m\u001b[39m.\u001b[39;49moptions\u001b[39m.\u001b[39;49mget(\u001b[39m\"\u001b[39;49m\u001b[39mencoding\u001b[39;49m\u001b[39m\"\u001b[39;49m, \u001b[39mNone\u001b[39;49;00m),\n\u001b[0;32m   1665\u001b[0m     compression\u001b[39m=\u001b[39;49m\u001b[39mself\u001b[39;49m\u001b[39m.\u001b[39;49moptions\u001b[39m.\u001b[39;49mget(\u001b[39m\"\u001b[39;49m\u001b[39mcompression\u001b[39;49m\u001b[39m\"\u001b[39;49m, \u001b[39mNone\u001b[39;49;00m),\n\u001b[0;32m   1666\u001b[0m     memory_map\u001b[39m=\u001b[39;49m\u001b[39mself\u001b[39;49m\u001b[39m.\u001b[39;49moptions\u001b[39m.\u001b[39;49mget(\u001b[39m\"\u001b[39;49m\u001b[39mmemory_map\u001b[39;49m\u001b[39m\"\u001b[39;49m, \u001b[39mFalse\u001b[39;49;00m),\n\u001b[0;32m   1667\u001b[0m     is_text\u001b[39m=\u001b[39;49mis_text,\n\u001b[0;32m   1668\u001b[0m     errors\u001b[39m=\u001b[39;49m\u001b[39mself\u001b[39;49m\u001b[39m.\u001b[39;49moptions\u001b[39m.\u001b[39;49mget(\u001b[39m\"\u001b[39;49m\u001b[39mencoding_errors\u001b[39;49m\u001b[39m\"\u001b[39;49m, \u001b[39m\"\u001b[39;49m\u001b[39mstrict\u001b[39;49m\u001b[39m\"\u001b[39;49m),\n\u001b[0;32m   1669\u001b[0m     storage_options\u001b[39m=\u001b[39;49m\u001b[39mself\u001b[39;49m\u001b[39m.\u001b[39;49moptions\u001b[39m.\u001b[39;49mget(\u001b[39m\"\u001b[39;49m\u001b[39mstorage_options\u001b[39;49m\u001b[39m\"\u001b[39;49m, \u001b[39mNone\u001b[39;49;00m),\n\u001b[0;32m   1670\u001b[0m )\n\u001b[0;32m   1671\u001b[0m \u001b[39massert\u001b[39;00m \u001b[39mself\u001b[39m\u001b[39m.\u001b[39mhandles \u001b[39mis\u001b[39;00m \u001b[39mnot\u001b[39;00m \u001b[39mNone\u001b[39;00m\n\u001b[0;32m   1672\u001b[0m f \u001b[39m=\u001b[39m \u001b[39mself\u001b[39m\u001b[39m.\u001b[39mhandles\u001b[39m.\u001b[39mhandle\n",
      "File \u001b[1;32mc:\\Users\\Administrator\\AppData\\Local\\Programs\\Python\\Python311\\Lib\\site-packages\\pandas\\io\\common.py:859\u001b[0m, in \u001b[0;36mget_handle\u001b[1;34m(path_or_buf, mode, encoding, compression, memory_map, is_text, errors, storage_options)\u001b[0m\n\u001b[0;32m    854\u001b[0m \u001b[39melif\u001b[39;00m \u001b[39misinstance\u001b[39m(handle, \u001b[39mstr\u001b[39m):\n\u001b[0;32m    855\u001b[0m     \u001b[39m# Check whether the filename is to be opened in binary mode.\u001b[39;00m\n\u001b[0;32m    856\u001b[0m     \u001b[39m# Binary mode does not support 'encoding' and 'newline'.\u001b[39;00m\n\u001b[0;32m    857\u001b[0m     \u001b[39mif\u001b[39;00m ioargs\u001b[39m.\u001b[39mencoding \u001b[39mand\u001b[39;00m \u001b[39m\"\u001b[39m\u001b[39mb\u001b[39m\u001b[39m\"\u001b[39m \u001b[39mnot\u001b[39;00m \u001b[39min\u001b[39;00m ioargs\u001b[39m.\u001b[39mmode:\n\u001b[0;32m    858\u001b[0m         \u001b[39m# Encoding\u001b[39;00m\n\u001b[1;32m--> 859\u001b[0m         handle \u001b[39m=\u001b[39m \u001b[39mopen\u001b[39;49m(\n\u001b[0;32m    860\u001b[0m             handle,\n\u001b[0;32m    861\u001b[0m             ioargs\u001b[39m.\u001b[39;49mmode,\n\u001b[0;32m    862\u001b[0m             encoding\u001b[39m=\u001b[39;49mioargs\u001b[39m.\u001b[39;49mencoding,\n\u001b[0;32m    863\u001b[0m             errors\u001b[39m=\u001b[39;49merrors,\n\u001b[0;32m    864\u001b[0m             newline\u001b[39m=\u001b[39;49m\u001b[39m\"\u001b[39;49m\u001b[39m\"\u001b[39;49m,\n\u001b[0;32m    865\u001b[0m         )\n\u001b[0;32m    866\u001b[0m     \u001b[39melse\u001b[39;00m:\n\u001b[0;32m    867\u001b[0m         \u001b[39m# Binary mode\u001b[39;00m\n\u001b[0;32m    868\u001b[0m         handle \u001b[39m=\u001b[39m \u001b[39mopen\u001b[39m(handle, ioargs\u001b[39m.\u001b[39mmode)\n",
      "\u001b[1;31mFileNotFoundError\u001b[0m: [Errno 2] No such file or directory: 'wikipedia_edits.csv'"
     ]
    }
   ],
   "source": [
    "wiki = pd.read_csv(\"wikipedia_edits.csv\", index_col=0, parse_dates=True)"
   ]
  },
  {
   "cell_type": "code",
   "execution_count": null,
   "id": "10685b74-a2fb-4399-9a50-83d1fb0a986a",
   "metadata": {},
   "outputs": [
    {
     "data": {
      "text/html": [
       "<div>\n",
       "<style scoped>\n",
       "    .dataframe tbody tr th:only-of-type {\n",
       "        vertical-align: middle;\n",
       "    }\n",
       "\n",
       "    .dataframe tbody tr th {\n",
       "        vertical-align: top;\n",
       "    }\n",
       "\n",
       "    .dataframe thead th {\n",
       "        text-align: right;\n",
       "    }\n",
       "</style>\n",
       "<table border=\"1\" class=\"dataframe\">\n",
       "  <thead>\n",
       "    <tr style=\"text-align: right;\">\n",
       "      <th></th>\n",
       "      <th>edit_count</th>\n",
       "      <th>sentiment</th>\n",
       "      <th>neg_sentiment</th>\n",
       "    </tr>\n",
       "  </thead>\n",
       "  <tbody>\n",
       "    <tr>\n",
       "      <th>2009-04-06</th>\n",
       "      <td>0.133333</td>\n",
       "      <td>-0.018351</td>\n",
       "      <td>0.025000</td>\n",
       "    </tr>\n",
       "    <tr>\n",
       "      <th>2009-04-07</th>\n",
       "      <td>0.000000</td>\n",
       "      <td>0.000000</td>\n",
       "      <td>0.000000</td>\n",
       "    </tr>\n",
       "    <tr>\n",
       "      <th>2009-04-08</th>\n",
       "      <td>0.000000</td>\n",
       "      <td>0.000000</td>\n",
       "      <td>0.000000</td>\n",
       "    </tr>\n",
       "    <tr>\n",
       "      <th>2009-04-09</th>\n",
       "      <td>0.000000</td>\n",
       "      <td>0.000000</td>\n",
       "      <td>0.000000</td>\n",
       "    </tr>\n",
       "    <tr>\n",
       "      <th>2009-04-10</th>\n",
       "      <td>0.000000</td>\n",
       "      <td>0.000000</td>\n",
       "      <td>0.000000</td>\n",
       "    </tr>\n",
       "    <tr>\n",
       "      <th>...</th>\n",
       "      <td>...</td>\n",
       "      <td>...</td>\n",
       "      <td>...</td>\n",
       "    </tr>\n",
       "    <tr>\n",
       "      <th>2022-09-04</th>\n",
       "      <td>0.400000</td>\n",
       "      <td>-0.108480</td>\n",
       "      <td>0.150000</td>\n",
       "    </tr>\n",
       "    <tr>\n",
       "      <th>2022-09-05</th>\n",
       "      <td>0.400000</td>\n",
       "      <td>-0.108480</td>\n",
       "      <td>0.150000</td>\n",
       "    </tr>\n",
       "    <tr>\n",
       "      <th>2022-09-06</th>\n",
       "      <td>0.433333</td>\n",
       "      <td>-0.081502</td>\n",
       "      <td>0.150000</td>\n",
       "    </tr>\n",
       "    <tr>\n",
       "      <th>2022-09-07</th>\n",
       "      <td>0.433333</td>\n",
       "      <td>-0.081502</td>\n",
       "      <td>0.150000</td>\n",
       "    </tr>\n",
       "    <tr>\n",
       "      <th>2022-09-08</th>\n",
       "      <td>0.466667</td>\n",
       "      <td>-0.114104</td>\n",
       "      <td>0.183333</td>\n",
       "    </tr>\n",
       "  </tbody>\n",
       "</table>\n",
       "<p>4904 rows × 3 columns</p>\n",
       "</div>"
      ],
      "text/plain": [
       "            edit_count  sentiment  neg_sentiment\n",
       "2009-04-06    0.133333  -0.018351       0.025000\n",
       "2009-04-07    0.000000   0.000000       0.000000\n",
       "2009-04-08    0.000000   0.000000       0.000000\n",
       "2009-04-09    0.000000   0.000000       0.000000\n",
       "2009-04-10    0.000000   0.000000       0.000000\n",
       "...                ...        ...            ...\n",
       "2022-09-04    0.400000  -0.108480       0.150000\n",
       "2022-09-05    0.400000  -0.108480       0.150000\n",
       "2022-09-06    0.433333  -0.081502       0.150000\n",
       "2022-09-07    0.433333  -0.081502       0.150000\n",
       "2022-09-08    0.466667  -0.114104       0.183333\n",
       "\n",
       "[4904 rows x 3 columns]"
      ]
     },
     "execution_count": 97,
     "metadata": {},
     "output_type": "execute_result"
    }
   ],
   "source": [
    "wiki"
   ]
  },
  {
   "cell_type": "code",
   "execution_count": null,
   "id": "dbb1b8f3-2058-4e67-9b86-0aef8cfde65c",
   "metadata": {},
   "outputs": [],
   "source": [
    "btc = btc.merge(wiki, left_index=True, right_index=True)"
   ]
  },
  {
   "cell_type": "code",
   "execution_count": null,
   "id": "8767cdef-7b18-4902-ab92-e2f9d802f174",
   "metadata": {},
   "outputs": [],
   "source": [
    "btc[\"tomorrow\"] = btc[\"close\"].shift(-1)"
   ]
  },
  {
   "cell_type": "code",
   "execution_count": null,
   "id": "bef1484f-353d-4bdf-afbf-9274b396d8a2",
   "metadata": {},
   "outputs": [],
   "source": [
    "btc[\"target\"] = (btc[\"tomorrow\"] > btc[\"close\"]).astype(int)"
   ]
  },
  {
   "cell_type": "code",
   "execution_count": null,
   "id": "c696cca8-ff0b-4735-b87d-5d41e6d8eccf",
   "metadata": {},
   "outputs": [
    {
     "data": {
      "text/plain": [
       "1    1563\n",
       "0    1351\n",
       "Name: target, dtype: int64"
      ]
     },
     "execution_count": 101,
     "metadata": {},
     "output_type": "execute_result"
    }
   ],
   "source": [
    "btc[\"target\"].value_counts()"
   ]
  },
  {
   "cell_type": "code",
   "execution_count": null,
   "id": "641e7710-24e0-408a-83e4-9c651fac29a7",
   "metadata": {},
   "outputs": [
    {
     "data": {
      "text/html": [
       "<div>\n",
       "<style scoped>\n",
       "    .dataframe tbody tr th:only-of-type {\n",
       "        vertical-align: middle;\n",
       "    }\n",
       "\n",
       "    .dataframe tbody tr th {\n",
       "        vertical-align: top;\n",
       "    }\n",
       "\n",
       "    .dataframe thead th {\n",
       "        text-align: right;\n",
       "    }\n",
       "</style>\n",
       "<table border=\"1\" class=\"dataframe\">\n",
       "  <thead>\n",
       "    <tr style=\"text-align: right;\">\n",
       "      <th></th>\n",
       "      <th>open</th>\n",
       "      <th>high</th>\n",
       "      <th>low</th>\n",
       "      <th>close</th>\n",
       "      <th>volume</th>\n",
       "      <th>edit_count</th>\n",
       "      <th>sentiment</th>\n",
       "      <th>neg_sentiment</th>\n",
       "      <th>tomorrow</th>\n",
       "      <th>target</th>\n",
       "    </tr>\n",
       "  </thead>\n",
       "  <tbody>\n",
       "    <tr>\n",
       "      <th>2014-09-17</th>\n",
       "      <td>465.864014</td>\n",
       "      <td>468.174011</td>\n",
       "      <td>452.421997</td>\n",
       "      <td>457.334015</td>\n",
       "      <td>21056800</td>\n",
       "      <td>5.033333</td>\n",
       "      <td>-0.232191</td>\n",
       "      <td>0.532718</td>\n",
       "      <td>424.440002</td>\n",
       "      <td>0</td>\n",
       "    </tr>\n",
       "    <tr>\n",
       "      <th>2014-09-18</th>\n",
       "      <td>456.859985</td>\n",
       "      <td>456.859985</td>\n",
       "      <td>413.104004</td>\n",
       "      <td>424.440002</td>\n",
       "      <td>34483200</td>\n",
       "      <td>5.066667</td>\n",
       "      <td>-0.232759</td>\n",
       "      <td>0.532718</td>\n",
       "      <td>394.795990</td>\n",
       "      <td>0</td>\n",
       "    </tr>\n",
       "    <tr>\n",
       "      <th>2014-09-19</th>\n",
       "      <td>424.102997</td>\n",
       "      <td>427.834991</td>\n",
       "      <td>384.532013</td>\n",
       "      <td>394.795990</td>\n",
       "      <td>37919700</td>\n",
       "      <td>5.200000</td>\n",
       "      <td>-0.235415</td>\n",
       "      <td>0.549385</td>\n",
       "      <td>408.903992</td>\n",
       "      <td>1</td>\n",
       "    </tr>\n",
       "    <tr>\n",
       "      <th>2014-09-20</th>\n",
       "      <td>394.673004</td>\n",
       "      <td>423.295990</td>\n",
       "      <td>389.882996</td>\n",
       "      <td>408.903992</td>\n",
       "      <td>36863600</td>\n",
       "      <td>5.200000</td>\n",
       "      <td>-0.233185</td>\n",
       "      <td>0.549385</td>\n",
       "      <td>398.821014</td>\n",
       "      <td>0</td>\n",
       "    </tr>\n",
       "    <tr>\n",
       "      <th>2014-09-21</th>\n",
       "      <td>408.084991</td>\n",
       "      <td>412.425995</td>\n",
       "      <td>393.181000</td>\n",
       "      <td>398.821014</td>\n",
       "      <td>26580100</td>\n",
       "      <td>5.233333</td>\n",
       "      <td>-0.204017</td>\n",
       "      <td>0.532718</td>\n",
       "      <td>402.152008</td>\n",
       "      <td>1</td>\n",
       "    </tr>\n",
       "    <tr>\n",
       "      <th>...</th>\n",
       "      <td>...</td>\n",
       "      <td>...</td>\n",
       "      <td>...</td>\n",
       "      <td>...</td>\n",
       "      <td>...</td>\n",
       "      <td>...</td>\n",
       "      <td>...</td>\n",
       "      <td>...</td>\n",
       "      <td>...</td>\n",
       "      <td>...</td>\n",
       "    </tr>\n",
       "    <tr>\n",
       "      <th>2022-09-04</th>\n",
       "      <td>19832.470703</td>\n",
       "      <td>19999.689453</td>\n",
       "      <td>19636.816406</td>\n",
       "      <td>19986.712891</td>\n",
       "      <td>25245861652</td>\n",
       "      <td>0.400000</td>\n",
       "      <td>-0.108480</td>\n",
       "      <td>0.150000</td>\n",
       "      <td>19812.371094</td>\n",
       "      <td>0</td>\n",
       "    </tr>\n",
       "    <tr>\n",
       "      <th>2022-09-05</th>\n",
       "      <td>19988.789062</td>\n",
       "      <td>20031.160156</td>\n",
       "      <td>19673.046875</td>\n",
       "      <td>19812.371094</td>\n",
       "      <td>28813460025</td>\n",
       "      <td>0.400000</td>\n",
       "      <td>-0.108480</td>\n",
       "      <td>0.150000</td>\n",
       "      <td>18837.667969</td>\n",
       "      <td>0</td>\n",
       "    </tr>\n",
       "    <tr>\n",
       "      <th>2022-09-06</th>\n",
       "      <td>19817.724609</td>\n",
       "      <td>20155.269531</td>\n",
       "      <td>18800.171875</td>\n",
       "      <td>18837.667969</td>\n",
       "      <td>43403978910</td>\n",
       "      <td>0.433333</td>\n",
       "      <td>-0.081502</td>\n",
       "      <td>0.150000</td>\n",
       "      <td>19290.324219</td>\n",
       "      <td>1</td>\n",
       "    </tr>\n",
       "    <tr>\n",
       "      <th>2022-09-07</th>\n",
       "      <td>18837.683594</td>\n",
       "      <td>19427.171875</td>\n",
       "      <td>18644.466797</td>\n",
       "      <td>19290.324219</td>\n",
       "      <td>35239757134</td>\n",
       "      <td>0.433333</td>\n",
       "      <td>-0.081502</td>\n",
       "      <td>0.150000</td>\n",
       "      <td>19337.371094</td>\n",
       "      <td>1</td>\n",
       "    </tr>\n",
       "    <tr>\n",
       "      <th>2022-09-08</th>\n",
       "      <td>19309.482422</td>\n",
       "      <td>19410.619141</td>\n",
       "      <td>19089.548828</td>\n",
       "      <td>19337.371094</td>\n",
       "      <td>33201930240</td>\n",
       "      <td>0.466667</td>\n",
       "      <td>-0.114104</td>\n",
       "      <td>0.183333</td>\n",
       "      <td>NaN</td>\n",
       "      <td>0</td>\n",
       "    </tr>\n",
       "  </tbody>\n",
       "</table>\n",
       "<p>2914 rows × 10 columns</p>\n",
       "</div>"
      ],
      "text/plain": [
       "                    open          high           low         close  \\\n",
       "2014-09-17    465.864014    468.174011    452.421997    457.334015   \n",
       "2014-09-18    456.859985    456.859985    413.104004    424.440002   \n",
       "2014-09-19    424.102997    427.834991    384.532013    394.795990   \n",
       "2014-09-20    394.673004    423.295990    389.882996    408.903992   \n",
       "2014-09-21    408.084991    412.425995    393.181000    398.821014   \n",
       "...                  ...           ...           ...           ...   \n",
       "2022-09-04  19832.470703  19999.689453  19636.816406  19986.712891   \n",
       "2022-09-05  19988.789062  20031.160156  19673.046875  19812.371094   \n",
       "2022-09-06  19817.724609  20155.269531  18800.171875  18837.667969   \n",
       "2022-09-07  18837.683594  19427.171875  18644.466797  19290.324219   \n",
       "2022-09-08  19309.482422  19410.619141  19089.548828  19337.371094   \n",
       "\n",
       "                 volume  edit_count  sentiment  neg_sentiment      tomorrow  \\\n",
       "2014-09-17     21056800    5.033333  -0.232191       0.532718    424.440002   \n",
       "2014-09-18     34483200    5.066667  -0.232759       0.532718    394.795990   \n",
       "2014-09-19     37919700    5.200000  -0.235415       0.549385    408.903992   \n",
       "2014-09-20     36863600    5.200000  -0.233185       0.549385    398.821014   \n",
       "2014-09-21     26580100    5.233333  -0.204017       0.532718    402.152008   \n",
       "...                 ...         ...        ...            ...           ...   \n",
       "2022-09-04  25245861652    0.400000  -0.108480       0.150000  19812.371094   \n",
       "2022-09-05  28813460025    0.400000  -0.108480       0.150000  18837.667969   \n",
       "2022-09-06  43403978910    0.433333  -0.081502       0.150000  19290.324219   \n",
       "2022-09-07  35239757134    0.433333  -0.081502       0.150000  19337.371094   \n",
       "2022-09-08  33201930240    0.466667  -0.114104       0.183333           NaN   \n",
       "\n",
       "            target  \n",
       "2014-09-17       0  \n",
       "2014-09-18       0  \n",
       "2014-09-19       1  \n",
       "2014-09-20       0  \n",
       "2014-09-21       1  \n",
       "...            ...  \n",
       "2022-09-04       0  \n",
       "2022-09-05       0  \n",
       "2022-09-06       1  \n",
       "2022-09-07       1  \n",
       "2022-09-08       0  \n",
       "\n",
       "[2914 rows x 10 columns]"
      ]
     },
     "execution_count": 102,
     "metadata": {},
     "output_type": "execute_result"
    }
   ],
   "source": [
    "btc"
   ]
  },
  {
   "cell_type": "code",
   "execution_count": null,
   "id": "4f781df2-f1a6-4499-ad69-8749daadc142",
   "metadata": {},
   "outputs": [
    {
     "data": {
      "text/plain": [
       "RandomForestClassifier(min_samples_split=50, random_state=1)"
      ]
     },
     "execution_count": 103,
     "metadata": {},
     "output_type": "execute_result"
    }
   ],
   "source": [
    "from sklearn.ensemble import RandomForestClassifier\n",
    "\n",
    "model = RandomForestClassifier(n_estimators=100, min_samples_split=50, random_state=1)\n",
    "\n",
    "train = btc.iloc[:-200]\n",
    "test = btc.iloc[-200:]\n",
    "\n",
    "predictors = [\"close\", \"volume\", \"open\", \"high\", \"low\", \"edit_count\", \"sentiment\", \"neg_sentiment\"]\n",
    "model.fit(train[predictors], train[\"target\"])"
   ]
  },
  {
   "cell_type": "code",
   "execution_count": null,
   "id": "5db58bd9-009f-400c-9692-1d0787d40de8",
   "metadata": {},
   "outputs": [
    {
     "data": {
      "text/plain": [
       "0.48484848484848486"
      ]
     },
     "execution_count": 104,
     "metadata": {},
     "output_type": "execute_result"
    }
   ],
   "source": [
    "from sklearn.metrics import precision_score\n",
    "\n",
    "preds = model.predict(test[predictors])\n",
    "preds = pd.Series(preds, index=test.index)\n",
    "precision_score(test[\"target\"], preds)"
   ]
  },
  {
   "cell_type": "code",
   "execution_count": null,
   "id": "bce7d7dd-4f0d-4405-ad17-42516045941f",
   "metadata": {},
   "outputs": [],
   "source": [
    "def predict(train, test, predictors, model):\n",
    "    model.fit(train[predictors], train[\"target\"])\n",
    "    preds = model.predict(test[predictors])\n",
    "    preds = pd.Series(preds, index=test.index, name=\"predictions\")\n",
    "    combined = pd.concat([test[\"target\"], preds], axis=1)\n",
    "    return combined"
   ]
  },
  {
   "cell_type": "code",
   "execution_count": null,
   "id": "bec7bbe6-7c57-4ae9-82ca-404182d8218d",
   "metadata": {},
   "outputs": [],
   "source": [
    "def backtest(data, model, predictors, start=1095, step=150):\n",
    "    all_predictions = []\n",
    "\n",
    "    for i in range(start, data.shape[0], step):\n",
    "        train = data.iloc[0:i].copy()\n",
    "        test = data.iloc[i:(i+step)].copy()\n",
    "        predictions = predict(train, test, predictors, model)\n",
    "        all_predictions.append(predictions)\n",
    "    \n",
    "    return pd.concat(all_predictions)"
   ]
  },
  {
   "cell_type": "code",
   "execution_count": null,
   "id": "0d70183c-1ee0-48e8-b012-16804463e6d0",
   "metadata": {},
   "outputs": [],
   "source": [
    "from xgboost import XGBClassifier\n",
    "\n",
    "model = XGBClassifier(random_state=1, learning_rate=.1, n_estimators=200)\n",
    "predictions = backtest(btc, model, predictors)"
   ]
  },
  {
   "cell_type": "code",
   "execution_count": null,
   "id": "c363f4ad-68ae-4733-8cfa-fc61b1a15e6f",
   "metadata": {},
   "outputs": [
    {
     "data": {
      "text/plain": [
       "1    1084\n",
       "0     735\n",
       "Name: predictions, dtype: int64"
      ]
     },
     "execution_count": 108,
     "metadata": {},
     "output_type": "execute_result"
    }
   ],
   "source": [
    "predictions[\"predictions\"].value_counts()"
   ]
  },
  {
   "cell_type": "code",
   "execution_count": null,
   "id": "ed54e2de-089d-450b-8a5e-88d4a2dbdfcd",
   "metadata": {},
   "outputs": [
    {
     "data": {
      "text/plain": [
       "0.5009225092250923"
      ]
     },
     "execution_count": 109,
     "metadata": {},
     "output_type": "execute_result"
    }
   ],
   "source": [
    "precision_score(predictions[\"target\"], predictions[\"predictions\"])"
   ]
  },
  {
   "cell_type": "code",
   "execution_count": null,
   "id": "ef3a6fd5-4e97-4011-be28-9fd115c8b004",
   "metadata": {},
   "outputs": [],
   "source": [
    "def compute_rolling(btc):\n",
    "    horizons = [2,7,60,365]\n",
    "    new_predictors = [\"close\", \"sentiment\", \"neg_sentiment\"]\n",
    "\n",
    "    for horizon in horizons:\n",
    "        rolling_averages = btc.rolling(horizon, min_periods=1).mean()\n",
    "\n",
    "        ratio_column = f\"close_ratio_{horizon}\"\n",
    "        btc[ratio_column] = btc[\"close\"] / rolling_averages[\"close\"]\n",
    "        \n",
    "        edit_column = f\"edit_{horizon}\"\n",
    "        btc[edit_column] = rolling_averages[\"edit_count\"]\n",
    "\n",
    "        rolling = btc.rolling(horizon, closed='left', min_periods=1).mean()\n",
    "        trend_column = f\"trend_{horizon}\"\n",
    "        btc[trend_column] = rolling[\"target\"]\n",
    "\n",
    "        new_predictors+= [ratio_column, trend_column, edit_column]\n",
    "    return btc, new_predictors"
   ]
  },
  {
   "cell_type": "code",
   "execution_count": null,
   "id": "bb127d2d-5bef-42d1-89ad-759bdbb45a7e",
   "metadata": {},
   "outputs": [],
   "source": [
    "btc, new_predictors = compute_rolling(btc.copy())"
   ]
  },
  {
   "cell_type": "code",
   "execution_count": null,
   "id": "159bf89c-e329-4d1c-a21d-fed642d2dad2",
   "metadata": {},
   "outputs": [],
   "source": [
    "predictions = backtest(btc, model, new_predictors)"
   ]
  },
  {
   "cell_type": "code",
   "execution_count": null,
   "id": "ab6dbc06-6137-4f5b-8276-731c94541c29",
   "metadata": {},
   "outputs": [
    {
     "data": {
      "text/plain": [
       "0.5386289445048966"
      ]
     },
     "execution_count": 113,
     "metadata": {},
     "output_type": "execute_result"
    }
   ],
   "source": [
    "precision_score(predictions[\"target\"], predictions[\"predictions\"])"
   ]
  },
  {
   "cell_type": "code",
   "execution_count": null,
   "id": "4187bd69-6af6-4e18-a6a6-069a36dc841e",
   "metadata": {},
   "outputs": [
    {
     "data": {
      "text/html": [
       "<div>\n",
       "<style scoped>\n",
       "    .dataframe tbody tr th:only-of-type {\n",
       "        vertical-align: middle;\n",
       "    }\n",
       "\n",
       "    .dataframe tbody tr th {\n",
       "        vertical-align: top;\n",
       "    }\n",
       "\n",
       "    .dataframe thead th {\n",
       "        text-align: right;\n",
       "    }\n",
       "</style>\n",
       "<table border=\"1\" class=\"dataframe\">\n",
       "  <thead>\n",
       "    <tr style=\"text-align: right;\">\n",
       "      <th></th>\n",
       "      <th>target</th>\n",
       "      <th>predictions</th>\n",
       "    </tr>\n",
       "  </thead>\n",
       "  <tbody>\n",
       "    <tr>\n",
       "      <th>2017-09-16</th>\n",
       "      <td>0</td>\n",
       "      <td>1</td>\n",
       "    </tr>\n",
       "    <tr>\n",
       "      <th>2017-09-17</th>\n",
       "      <td>1</td>\n",
       "      <td>0</td>\n",
       "    </tr>\n",
       "    <tr>\n",
       "      <th>2017-09-18</th>\n",
       "      <td>0</td>\n",
       "      <td>0</td>\n",
       "    </tr>\n",
       "    <tr>\n",
       "      <th>2017-09-19</th>\n",
       "      <td>0</td>\n",
       "      <td>1</td>\n",
       "    </tr>\n",
       "    <tr>\n",
       "      <th>2017-09-20</th>\n",
       "      <td>0</td>\n",
       "      <td>1</td>\n",
       "    </tr>\n",
       "    <tr>\n",
       "      <th>...</th>\n",
       "      <td>...</td>\n",
       "      <td>...</td>\n",
       "    </tr>\n",
       "    <tr>\n",
       "      <th>2022-09-04</th>\n",
       "      <td>0</td>\n",
       "      <td>1</td>\n",
       "    </tr>\n",
       "    <tr>\n",
       "      <th>2022-09-05</th>\n",
       "      <td>0</td>\n",
       "      <td>1</td>\n",
       "    </tr>\n",
       "    <tr>\n",
       "      <th>2022-09-06</th>\n",
       "      <td>1</td>\n",
       "      <td>1</td>\n",
       "    </tr>\n",
       "    <tr>\n",
       "      <th>2022-09-07</th>\n",
       "      <td>1</td>\n",
       "      <td>1</td>\n",
       "    </tr>\n",
       "    <tr>\n",
       "      <th>2022-09-08</th>\n",
       "      <td>0</td>\n",
       "      <td>1</td>\n",
       "    </tr>\n",
       "  </tbody>\n",
       "</table>\n",
       "<p>1819 rows × 2 columns</p>\n",
       "</div>"
      ],
      "text/plain": [
       "            target  predictions\n",
       "2017-09-16       0            1\n",
       "2017-09-17       1            0\n",
       "2017-09-18       0            0\n",
       "2017-09-19       0            1\n",
       "2017-09-20       0            1\n",
       "...            ...          ...\n",
       "2022-09-04       0            1\n",
       "2022-09-05       0            1\n",
       "2022-09-06       1            1\n",
       "2022-09-07       1            1\n",
       "2022-09-08       0            1\n",
       "\n",
       "[1819 rows x 2 columns]"
      ]
     },
     "execution_count": 114,
     "metadata": {},
     "output_type": "execute_result"
    }
   ],
   "source": [
    "predictions"
   ]
  },
  {
   "cell_type": "code",
   "execution_count": null,
   "id": "7bc631c2-0677-40dc-b57b-89eaf2182be6",
   "metadata": {},
   "outputs": [],
   "source": []
  }
 ],
 "metadata": {
  "kernelspec": {
   "display_name": "Python 3 (ipykernel)",
   "language": "python",
   "name": "python3"
  },
  "language_info": {
   "codemirror_mode": {
    "name": "ipython",
    "version": 3
   },
   "file_extension": ".py",
   "mimetype": "text/x-python",
   "name": "python",
   "nbconvert_exporter": "python",
   "pygments_lexer": "ipython3",
   "version": "3.11.3"
  }
 },
 "nbformat": 4,
 "nbformat_minor": 5
}
