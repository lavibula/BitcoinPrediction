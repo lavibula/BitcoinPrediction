{
 "cells": [
  {
   "attachments": {},
   "cell_type": "markdown",
   "metadata": {},
   "source": [
    "1. Khi lỡ tay push sai và xóa dường như hết repo. \n",
    "`git revert ...` -> `git push` \n",
    "\n",
    "2. Muốn xem lại commit trước\n",
    "`git log`\n",
    "\n",
    "commit 6c7f328abbcb40040caccfb2f90376b8652b8fe1 (origin/checking)\n",
    "Author: Đoàn Ngọc Cường <cuongmkmtpgoldfinch@gmail.com>\n",
    "Date:   Wed Jun 28 01:46:10 2023 +0700\n",
    "\n",
    "    DNC_update\n",
    "\n",
    "https://github.com/[DoanNgocCuongBKEGNH]/[BitcoinPrediction]/tree/[6c7f328abbcb40040caccfb2f90376b8652b8fe1]\n"
   ]
  }
 ],
 "metadata": {
  "language_info": {
   "name": "python"
  },
  "orig_nbformat": 4
 },
 "nbformat": 4,
 "nbformat_minor": 2
}
