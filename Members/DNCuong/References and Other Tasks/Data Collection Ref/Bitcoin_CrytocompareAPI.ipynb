{
  "cells": [
    {
      "attachments": {},
      "cell_type": "markdown",
      "metadata": {},
      "source": [
        "https://github.com/abhinavsagar/cryptocurrency-price-prediction/blob/master/price_prediction_update.ipynb\n",
        "pull data - LSTM"
      ]
    },
    {
      "cell_type": "code",
      "execution_count": 7,
      "metadata": {
        "id": "NeWVBhf1VxlH"
      },
      "outputs": [
        {
          "name": "stderr",
          "output_type": "stream",
          "text": [
            "UsageError: Line magic function `%tensorflow_version` not found.\n"
          ]
        }
      ],
      "source": [
        "%tensorflow_version 2.x\n",
        "import json\n",
        "import requests\n",
        "from keras.models import Sequential\n",
        "from keras.layers import Activation, Dense, Dropout, LSTM\n",
        "import matplotlib.pyplot as plt\n",
        "import numpy as np\n",
        "import pandas as pd\n",
        "import seaborn as sns\n",
        "from sklearn.metrics import mean_absolute_error\n",
        "%matplotlib inline"
      ]
    },
    {
      "cell_type": "code",
      "execution_count": 9,
      "metadata": {
        "_cell_guid": "79c7e3d0-c299-4dcb-8224-4455121ee9b0",
        "_uuid": "d629ff2d2480ee46fbb7e2d37f6b5fab8052498a",
        "id": "6W__OM92pskF",
        "trusted": true
      },
      "outputs": [],
      "source": [
        "import requests\n",
        "import pandas as pd\n",
        "import json\n",
        "\n",
        "endpoint = 'https://min-api.cryptocompare.com/data/histoday'\n",
        "res = requests.get(endpoint + '?fsym=BTC&tsym=CAD&limit=500')\n",
        "hist = pd.DataFrame(json.loads(res.content)['Data'])\n",
        "hist = hist.set_index('time')\n",
        "hist.index = pd.to_datetime(hist.index, unit='s')\n",
        "target_col = 'close'\n"
      ]
    },
    {
      "cell_type": "code",
      "execution_count": 3,
      "metadata": {
        "id": "IJ81oAj4sw6x"
      },
      "outputs": [],
      "source": [
        "hist.drop([\"conversionType\", \"conversionSymbol\"], axis = 'columns', inplace = True)"
      ]
    },
    {
      "cell_type": "code",
      "execution_count": 11,
      "metadata": {
        "colab": {
          "base_uri": "https://localhost:8080/",
          "height": 235
        },
        "id": "QQ9tRh3fs6wX",
        "outputId": "5ad8641b-9d99-49c8-e6d4-a927d5a1d84e"
      },
      "outputs": [
        {
          "data": {
            "text/html": [
              "<div>\n",
              "<style scoped>\n",
              "    .dataframe tbody tr th:only-of-type {\n",
              "        vertical-align: middle;\n",
              "    }\n",
              "\n",
              "    .dataframe tbody tr th {\n",
              "        vertical-align: top;\n",
              "    }\n",
              "\n",
              "    .dataframe thead th {\n",
              "        text-align: right;\n",
              "    }\n",
              "</style>\n",
              "<table border=\"1\" class=\"dataframe\">\n",
              "  <thead>\n",
              "    <tr style=\"text-align: right;\">\n",
              "      <th></th>\n",
              "      <th>high</th>\n",
              "      <th>low</th>\n",
              "      <th>open</th>\n",
              "      <th>volumefrom</th>\n",
              "      <th>volumeto</th>\n",
              "      <th>close</th>\n",
              "      <th>conversionType</th>\n",
              "      <th>conversionSymbol</th>\n",
              "    </tr>\n",
              "    <tr>\n",
              "      <th>time</th>\n",
              "      <th></th>\n",
              "      <th></th>\n",
              "      <th></th>\n",
              "      <th></th>\n",
              "      <th></th>\n",
              "      <th></th>\n",
              "      <th></th>\n",
              "      <th></th>\n",
              "    </tr>\n",
              "  </thead>\n",
              "  <tbody>\n",
              "    <tr>\n",
              "      <th>2023-06-04</th>\n",
              "      <td>36777.18</td>\n",
              "      <td>36243.36</td>\n",
              "      <td>36341.22</td>\n",
              "      <td>36.57</td>\n",
              "      <td>1330853.36</td>\n",
              "      <td>36328.16</td>\n",
              "      <td>direct</td>\n",
              "      <td></td>\n",
              "    </tr>\n",
              "    <tr>\n",
              "      <th>2023-06-05</th>\n",
              "      <td>36345.62</td>\n",
              "      <td>34230.10</td>\n",
              "      <td>36328.16</td>\n",
              "      <td>78.11</td>\n",
              "      <td>2749580.77</td>\n",
              "      <td>34604.35</td>\n",
              "      <td>direct</td>\n",
              "      <td></td>\n",
              "    </tr>\n",
              "    <tr>\n",
              "      <th>2023-06-06</th>\n",
              "      <td>36564.69</td>\n",
              "      <td>34151.79</td>\n",
              "      <td>34604.35</td>\n",
              "      <td>75.10</td>\n",
              "      <td>2635321.30</td>\n",
              "      <td>36476.25</td>\n",
              "      <td>direct</td>\n",
              "      <td></td>\n",
              "    </tr>\n",
              "    <tr>\n",
              "      <th>2023-06-07</th>\n",
              "      <td>36612.52</td>\n",
              "      <td>35054.25</td>\n",
              "      <td>36476.25</td>\n",
              "      <td>57.41</td>\n",
              "      <td>2045347.64</td>\n",
              "      <td>35466.19</td>\n",
              "      <td>direct</td>\n",
              "      <td></td>\n",
              "    </tr>\n",
              "  </tbody>\n",
              "</table>\n",
              "</div>"
            ],
            "text/plain": [
              "                high       low      open  volumefrom    volumeto     close   \n",
              "time                                                                         \n",
              "2023-06-04  36777.18  36243.36  36341.22       36.57  1330853.36  36328.16  \\\n",
              "2023-06-05  36345.62  34230.10  36328.16       78.11  2749580.77  34604.35   \n",
              "2023-06-06  36564.69  34151.79  34604.35       75.10  2635321.30  36476.25   \n",
              "2023-06-07  36612.52  35054.25  36476.25       57.41  2045347.64  35466.19   \n",
              "\n",
              "           conversionType conversionSymbol  \n",
              "time                                        \n",
              "2023-06-04         direct                   \n",
              "2023-06-05         direct                   \n",
              "2023-06-06         direct                   \n",
              "2023-06-07         direct                   "
            ]
          },
          "execution_count": 11,
          "metadata": {},
          "output_type": "execute_result"
        }
      ],
      "source": [
        "hist.head(5)\n",
        "hist.tail(4)"
      ]
    },
    {
      "cell_type": "code",
      "execution_count": 28,
      "metadata": {},
      "outputs": [
        {
          "ename": "KeyError",
          "evalue": "'CAD'",
          "output_type": "error",
          "traceback": [
            "\u001b[1;31m---------------------------------------------------------------------------\u001b[0m",
            "\u001b[1;31mKeyError\u001b[0m                                  Traceback (most recent call last)",
            "Cell \u001b[1;32mIn[28], line 2\u001b[0m\n\u001b[0;32m      1\u001b[0m res \u001b[39m=\u001b[39m requests\u001b[39m.\u001b[39mget(endpoint \u001b[39m+\u001b[39m \u001b[39m'\u001b[39m\u001b[39m?fsym=BTC&tsyms=CAD\u001b[39m\u001b[39m'\u001b[39m)\n\u001b[1;32m----> 2\u001b[0m latest_price \u001b[39m=\u001b[39m json\u001b[39m.\u001b[39;49mloads(res\u001b[39m.\u001b[39;49mcontent)[\u001b[39m'\u001b[39;49m\u001b[39mCAD\u001b[39;49m\u001b[39m'\u001b[39;49m]\n\u001b[0;32m      3\u001b[0m \u001b[39mprint\u001b[39m(\u001b[39m'\u001b[39m\u001b[39mLatest BTC/CAD price:\u001b[39m\u001b[39m'\u001b[39m, latest_price)\n",
            "\u001b[1;31mKeyError\u001b[0m: 'CAD'"
          ]
        }
      ],
      "source": [
        "res = requests.get(endpoint + '?fsym=BTC&tsyms=CAD')\n",
        "latest_price = json.loads(res.content)['CAD']\n",
        "print('Latest BTC/CAD price:', latest_price)\n"
      ]
    },
    {
      "cell_type": "code",
      "execution_count": null,
      "metadata": {},
      "outputs": [
        {
          "data": {
            "text/html": [
              "<div>\n",
              "<style scoped>\n",
              "    .dataframe tbody tr th:only-of-type {\n",
              "        vertical-align: middle;\n",
              "    }\n",
              "\n",
              "    .dataframe tbody tr th {\n",
              "        vertical-align: top;\n",
              "    }\n",
              "\n",
              "    .dataframe thead th {\n",
              "        text-align: right;\n",
              "    }\n",
              "</style>\n",
              "<table border=\"1\" class=\"dataframe\">\n",
              "  <thead>\n",
              "    <tr style=\"text-align: right;\">\n",
              "      <th></th>\n",
              "      <th>high</th>\n",
              "      <th>low</th>\n",
              "      <th>open</th>\n",
              "      <th>volumefrom</th>\n",
              "      <th>volumeto</th>\n",
              "      <th>close</th>\n",
              "    </tr>\n",
              "    <tr>\n",
              "      <th>time</th>\n",
              "      <th></th>\n",
              "      <th></th>\n",
              "      <th></th>\n",
              "      <th></th>\n",
              "      <th></th>\n",
              "      <th></th>\n",
              "    </tr>\n",
              "  </thead>\n",
              "  <tbody>\n",
              "    <tr>\n",
              "      <th>2023-06-03</th>\n",
              "      <td>36722.29</td>\n",
              "      <td>36170.47</td>\n",
              "      <td>36629.36</td>\n",
              "      <td>38.82</td>\n",
              "      <td>1415445.43</td>\n",
              "      <td>36341.22</td>\n",
              "    </tr>\n",
              "    <tr>\n",
              "      <th>2023-06-04</th>\n",
              "      <td>36777.18</td>\n",
              "      <td>36243.36</td>\n",
              "      <td>36341.22</td>\n",
              "      <td>36.57</td>\n",
              "      <td>1330853.36</td>\n",
              "      <td>36328.16</td>\n",
              "    </tr>\n",
              "    <tr>\n",
              "      <th>2023-06-05</th>\n",
              "      <td>36345.62</td>\n",
              "      <td>34230.10</td>\n",
              "      <td>36328.16</td>\n",
              "      <td>78.11</td>\n",
              "      <td>2749580.77</td>\n",
              "      <td>34604.35</td>\n",
              "    </tr>\n",
              "    <tr>\n",
              "      <th>2023-06-06</th>\n",
              "      <td>36564.69</td>\n",
              "      <td>34151.79</td>\n",
              "      <td>34604.35</td>\n",
              "      <td>75.10</td>\n",
              "      <td>2635321.30</td>\n",
              "      <td>36476.25</td>\n",
              "    </tr>\n",
              "    <tr>\n",
              "      <th>2023-06-07</th>\n",
              "      <td>36612.52</td>\n",
              "      <td>35054.25</td>\n",
              "      <td>36476.25</td>\n",
              "      <td>57.04</td>\n",
              "      <td>2032009.26</td>\n",
              "      <td>35320.91</td>\n",
              "    </tr>\n",
              "  </tbody>\n",
              "</table>\n",
              "</div>"
            ],
            "text/plain": [
              "                high       low      open  volumefrom    volumeto     close\n",
              "time                                                                      \n",
              "2023-06-03  36722.29  36170.47  36629.36       38.82  1415445.43  36341.22\n",
              "2023-06-04  36777.18  36243.36  36341.22       36.57  1330853.36  36328.16\n",
              "2023-06-05  36345.62  34230.10  36328.16       78.11  2749580.77  34604.35\n",
              "2023-06-06  36564.69  34151.79  34604.35       75.10  2635321.30  36476.25\n",
              "2023-06-07  36612.52  35054.25  36476.25       57.04  2032009.26  35320.91"
            ]
          },
          "metadata": {},
          "output_type": "display_data"
        }
      ],
      "source": [
        "hist.head(5)\n",
        "hist.tail(5)"
      ]
    },
    {
      "cell_type": "code",
      "execution_count": null,
      "metadata": {},
      "outputs": [],
      "source": [
        "import requests\n",
        "import pandas as pd\n",
        "import json\n",
        "\n",
        "endpoint = 'https://min-api.cryptocompare.com/data/histoday'\n",
        "res = requests.get(endpoint + '?fsym=BTC&tsym=CAD&limit=500')\n",
        "hist = pd.DataFrame(json.loads(res.content)['Data'])\n",
        "hist = hist.set_index('time')\n",
        "hist.index = pd.to_datetime(hist.index, unit='s')\n",
        "target_col = 'close'\n"
      ]
    },
    {
      "cell_type": "code",
      "execution_count": null,
      "metadata": {
        "id": "0Ykh8CHfpskJ",
        "trusted": true
      },
      "outputs": [],
      "source": [
        "def train_test_split(df, test_size=0.2):\n",
        "    split_row = len(df) - int(test_size * len(df))\n",
        "    train_data = df.iloc[:split_row]\n",
        "    test_data = df.iloc[split_row:]\n",
        "    return train_data, test_data"
      ]
    },
    {
      "cell_type": "code",
      "execution_count": null,
      "metadata": {
        "id": "PWKGJlxIpskM",
        "trusted": true
      },
      "outputs": [],
      "source": [
        "train, test = train_test_split(hist, test_size=0.2)"
      ]
    },
    {
      "cell_type": "code",
      "execution_count": null,
      "metadata": {
        "id": "jqfrJbQhpskP",
        "trusted": true
      },
      "outputs": [],
      "source": [
        "def line_plot(line1, line2, label1=None, label2=None, title='', lw=2):\n",
        "    fig, ax = plt.subplots(1, figsize=(13, 7))\n",
        "    ax.plot(line1, label=label1, linewidth=lw)\n",
        "    ax.plot(line2, label=label2, linewidth=lw)\n",
        "    ax.set_ylabel('price [CAD]', fontsize=14)\n",
        "    ax.set_title(title, fontsize=16)\n",
        "    ax.legend(loc='best', fontsize=16);"
      ]
    },
    {
      "cell_type": "code",
      "execution_count": null,
      "metadata": {
        "colab": {
          "base_uri": "https://localhost:8080/",
          "height": 428
        },
        "id": "9F_YTCCxpskS",
        "outputId": "b775e163-be1f-4ea4-869c-4beea7552607",
        "trusted": true
      },
      "outputs": [],
      "source": [
        "import matplotlib.pyplot as plt\n",
        "\n",
        "line_plot(train[target_col], test[target_col], 'training', 'test', title='')"
      ]
    },
    {
      "cell_type": "code",
      "execution_count": null,
      "metadata": {
        "id": "iy-je3_bpskb",
        "trusted": true
      },
      "outputs": [],
      "source": [
        "def normalise_zero_base(df):\n",
        "    return df / df.iloc[0] - 1\n",
        "\n",
        "def normalise_min_max(df):\n",
        "    return (df - df.min()) / (data.max() - df.min())"
      ]
    },
    {
      "cell_type": "code",
      "execution_count": null,
      "metadata": {
        "id": "zteL5amIpskh",
        "trusted": true
      },
      "outputs": [],
      "source": [
        "def extract_window_data(df, window_len=5, zero_base=True):\n",
        "    window_data = []\n",
        "    for idx in range(len(df) - window_len):\n",
        "        tmp = df[idx: (idx + window_len)].copy()\n",
        "        if zero_base:\n",
        "            tmp = normalise_zero_base(tmp)\n",
        "        window_data.append(tmp.values)\n",
        "    return np.array(window_data)"
      ]
    },
    {
      "cell_type": "code",
      "execution_count": null,
      "metadata": {
        "id": "aTBbhnezpskk",
        "trusted": true
      },
      "outputs": [],
      "source": [
        "def prepare_data(df, target_col, window_len=10, zero_base=True, test_size=0.2):\n",
        "    train_data, test_data = train_test_split(df, test_size=test_size)\n",
        "    X_train = extract_window_data(train_data, window_len, zero_base)\n",
        "    X_test = extract_window_data(test_data, window_len, zero_base)\n",
        "    y_train = train_data[target_col][window_len:].values\n",
        "    y_test = test_data[target_col][window_len:].values\n",
        "    if zero_base:\n",
        "        y_train = y_train / train_data[target_col][:-window_len].values - 1\n",
        "        y_test = y_test / test_data[target_col][:-window_len].values - 1\n",
        "\n",
        "    return train_data, test_data, X_train, X_test, y_train, y_test"
      ]
    },
    {
      "cell_type": "code",
      "execution_count": null,
      "metadata": {
        "id": "VjWtS2qJpskn",
        "trusted": true
      },
      "outputs": [],
      "source": [
        "def build_lstm_model(input_data, output_size, neurons=100, activ_func='linear',\n",
        "                     dropout=0.2, loss='mse', optimizer='adam'):\n",
        "    model = Sequential()\n",
        "    model.add(LSTM(neurons, input_shape=(input_data.shape[1], input_data.shape[2])))\n",
        "    model.add(Dropout(dropout))\n",
        "    model.add(Dense(units=output_size))\n",
        "    model.add(Activation(activ_func))\n",
        "\n",
        "    model.compile(loss=loss, optimizer=optimizer)\n",
        "    return model"
      ]
    },
    {
      "cell_type": "code",
      "execution_count": null,
      "metadata": {
        "id": "aADcao3Qpskq",
        "trusted": true
      },
      "outputs": [],
      "source": [
        "import numpy as np\n",
        "\n",
        "np.random.seed(42)\n",
        "window_len = 5\n",
        "test_size = 0.2\n",
        "zero_base = True\n",
        "lstm_neurons = 100\n",
        "epochs = 20\n",
        "batch_size = 32\n",
        "loss = 'mse'\n",
        "dropout = 0.2\n",
        "optimizer = 'adam'"
      ]
    },
    {
      "cell_type": "code",
      "execution_count": null,
      "metadata": {
        "id": "rAw5VBtwpskt",
        "trusted": true
      },
      "outputs": [],
      "source": [
        "train, test, X_train, X_test, y_train, y_test = prepare_data(\n",
        "    hist, target_col, window_len=window_len, zero_base=zero_base, test_size=test_size)"
      ]
    },
    {
      "cell_type": "code",
      "execution_count": 22,
      "metadata": {
        "colab": {
          "base_uri": "https://localhost:8080/"
        },
        "id": "E5T9OAwQpskw",
        "outputId": "7621c21d-98df-48fc-e995-4e390f3e8351",
        "trusted": true
      },
      "outputs": [
        {
          "name": "stdout",
          "output_type": "stream",
          "text": [
            "13/13 [==============================] - 12s 181ms/step - loss: 0.0064 - val_loss: 0.0031\n",
            "Epoch 2/20\n",
            "13/13 [==============================] - 0s 25ms/step - loss: 0.0037 - val_loss: 0.0022\n",
            "Epoch 3/20\n",
            "13/13 [==============================] - 0s 21ms/step - loss: 0.0032 - val_loss: 0.0017\n",
            "Epoch 4/20\n",
            "13/13 [==============================] - 0s 26ms/step - loss: 0.0027 - val_loss: 0.0017\n",
            "Epoch 5/20\n",
            "13/13 [==============================] - 0s 19ms/step - loss: 0.0026 - val_loss: 0.0015\n",
            "Epoch 6/20\n",
            "13/13 [==============================] - 0s 19ms/step - loss: 0.0027 - val_loss: 0.0017\n",
            "Epoch 7/20\n",
            "13/13 [==============================] - 0s 19ms/step - loss: 0.0023 - val_loss: 0.0014\n",
            "Epoch 8/20\n",
            "13/13 [==============================] - 0s 20ms/step - loss: 0.0024 - val_loss: 0.0015\n",
            "Epoch 9/20\n",
            "13/13 [==============================] - 0s 29ms/step - loss: 0.0021 - val_loss: 0.0013\n",
            "Epoch 10/20\n",
            "13/13 [==============================] - 0s 19ms/step - loss: 0.0020 - val_loss: 0.0013\n",
            "Epoch 11/20\n",
            "13/13 [==============================] - 0s 21ms/step - loss: 0.0021 - val_loss: 0.0017\n",
            "Epoch 12/20\n",
            "13/13 [==============================] - 0s 18ms/step - loss: 0.0019 - val_loss: 0.0012\n",
            "Epoch 13/20\n",
            "13/13 [==============================] - 0s 21ms/step - loss: 0.0018 - val_loss: 0.0011\n",
            "Epoch 14/20\n",
            "13/13 [==============================] - 0s 19ms/step - loss: 0.0017 - val_loss: 0.0011\n",
            "Epoch 15/20\n",
            "13/13 [==============================] - 0s 19ms/step - loss: 0.0016 - val_loss: 0.0011\n",
            "Epoch 16/20\n",
            "13/13 [==============================] - 0s 18ms/step - loss: 0.0015 - val_loss: 0.0011\n",
            "Epoch 17/20\n",
            "13/13 [==============================] - 0s 20ms/step - loss: 0.0015 - val_loss: 0.0011\n",
            "Epoch 18/20\n",
            "13/13 [==============================] - 0s 21ms/step - loss: 0.0015 - val_loss: 0.0010\n",
            "Epoch 19/20\n",
            "13/13 [==============================] - 0s 19ms/step - loss: 0.0014 - val_loss: 0.0010\n",
            "Epoch 20/20\n",
            "13/13 [==============================] - 0s 20ms/step - loss: 0.0017 - val_loss: 0.0010\n"
          ]
        }
      ],
      "source": [
        "from keras.models import Sequential\n",
        "from keras.layers import LSTM, Dropout, Dense\n",
        "from keras.layers import Activation\n",
        "\n",
        "model = build_lstm_model(\n",
        "    X_train, output_size=1, neurons=lstm_neurons, dropout=dropout, loss=loss,\n",
        "    optimizer=optimizer)\n",
        "history = model.fit(\n",
        "    X_train, y_train, validation_data=(X_test, y_test), epochs=epochs, batch_size=batch_size, verbose=1, shuffle=True)"
      ]
    },
    {
      "cell_type": "code",
      "execution_count": 23,
      "metadata": {
        "colab": {
          "base_uri": "https://localhost:8080/",
          "height": 295
        },
        "id": "qhMsatri0miT",
        "outputId": "7ab04030-c3bc-4858-d41a-e8fadac1236f"
      },
      "outputs": [
        {
          "data": {
            "image/png": "[encoded data removed]",
            "text/plain": [
              "<Figure size 640x480 with 1 Axes>"
            ]
          },
          "metadata": {},
          "output_type": "display_data"
        }
      ],
      "source": [
        "import matplotlib.pyplot as plt\n",
        "plt.plot(history.history['loss'],'r',linewidth=2, label='Train loss')\n",
        "plt.plot(history.history['val_loss'], 'g',linewidth=2, label='Validation loss')\n",
        "plt.title('LSTM')\n",
        "plt.xlabel('Epochs')\n",
        "plt.ylabel('MSE')\n",
        "plt.show()"
      ]
    },
    {
      "cell_type": "code",
      "execution_count": null,
      "metadata": {
        "colab": {
          "base_uri": "https://localhost:8080/"
        },
        "id": "mS6SPIGNpskz",
        "outputId": "0e3e1a6c-c53f-43ba-ff9b-7f9c2d5aa5fe",
        "trusted": true
      },
      "outputs": [],
      "source": [
        "targets = test[target_col][window_len:]\n",
        "preds = model.predict(X_test).squeeze()\n",
        "mean_absolute_error(preds, y_test)"
      ]
    },
    {
      "cell_type": "code",
      "execution_count": null,
      "metadata": {
        "colab": {
          "base_uri": "https://localhost:8080/"
        },
        "id": "sbhTW5T6zVAU",
        "outputId": "4b6e6180-90cf-4227-add8-9c61a0efd7fb"
      },
      "outputs": [],
      "source": [
        "from sklearn.metrics import mean_squared_error\n",
        "MAE=mean_squared_error(preds, y_test)\n",
        "MAE\n"
      ]
    },
    {
      "cell_type": "code",
      "execution_count": null,
      "metadata": {
        "colab": {
          "base_uri": "https://localhost:8080/"
        },
        "id": "jnFOCI9ezb8T",
        "outputId": "1c50a541-f9c1-422f-aaaf-7314dae06f78"
      },
      "outputs": [],
      "source": [
        "from sklearn.metrics import r2_score\n",
        "R2=r2_score(y_test, preds)\n",
        "R2"
      ]
    },
    {
      "cell_type": "code",
      "execution_count": null,
      "metadata": {
        "colab": {
          "base_uri": "https://localhost:8080/",
          "height": 428
        },
        "id": "4jU0wERepsk2",
        "outputId": "b09dca6a-d71e-4280-e271-68bd15ea2d2c",
        "trusted": true
      },
      "outputs": [],
      "source": [
        "preds = test[target_col].values[:-window_len] * (preds + 1)\n",
        "preds = pd.Series(index=targets.index, data=preds)\n",
        "line_plot(targets, preds, 'actual', 'prediction', lw=3)"
      ]
    }
  ],
  "metadata": {
    "colab": {
      "collapsed_sections": [],
      "name": "price_prediction.ipynb",
      "provenance": []
    },
    "kernelspec": {
      "display_name": "Python 3",
      "language": "python",
      "name": "python3"
    },
    "language_info": {
      "codemirror_mode": {
        "name": "ipython",
        "version": 3
      },
      "file_extension": ".py",
      "mimetype": "text/x-python",
      "name": "python",
      "nbconvert_exporter": "python",
      "pygments_lexer": "ipython3",
      "version": "3.11.3"
    }
  },
  "nbformat": 4,
  "nbformat_minor": 0
}
