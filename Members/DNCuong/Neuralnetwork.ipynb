{
 "cells": [
  {
   "attachments": {},
   "cell_type": "markdown",
   "metadata": {},
   "source": [
    "NN (ANN, CNN, GNN). \n",
    "\n",
    "Có thể sử dụng nhiều kiểu mạng nơ-ron khác nhau để train model dự đoán giá Bitcoin, bao gồm:\n",
    "ANN (Artificial Neural Network): mạng nơ-ron nhân tạo cơ bản với các lớp input, hidden và output để mô phỏng cấu trúc não người.\n",
    "CNN (Convolutional Neural Network): mạng nơ-ron tích chập được sử dụng rộng rãi trong xử lý hình ảnh và video.\n",
    "GNN (Graph Neural Network): mạng nơ-ron đồ thị được sử dụng để xử lý dữ liệu đồ thị.\n",
    "Ngoài ra, còn có nhiều kiểu mạng nơ-ron khác như RNN (Recurrent Neural Network), LSTM (Long Short-Term Memory), GRU (Gated Recurrent Unit), Autoencoder, GAN (Generative Adversarial Network), Transformer, và nhiều kiểu mạng nơ-ron khác.\n",
    "Để sử dụng các kiểu mạng nơ-ron này, cần có dữ liệu về giá Bitcoin và sử dụng các API để lấy dữ liệu này. Các API phổ biến để lấy dữ liệu về giá Bitcoin bao gồm Coingecko API và các API của các sàn giao dịch tiền điện tử."
   ]
  },
  {
   "attachments": {},
   "cell_type": "markdown",
   "metadata": {},
   "source": [
    "https://github.com/PiSimo/BitcoinForecast\n",
    "https://github.com/NishkarshRaj/100DaysofMLCode/blob/master/12_GraphNeuralNetwork/GNN.ipynb\n",
    "https://github.com/NishkarshRaj/100DaysofMLCode/tree/master/9_Deep_Learning"
   ]
  }
 ],
 "metadata": {
  "language_info": {
   "name": "python"
  },
  "orig_nbformat": 4
 },
 "nbformat": 4,
 "nbformat_minor": 2
}
