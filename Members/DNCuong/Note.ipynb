{
 "cells": [
  {
   "attachments": {},
   "cell_type": "markdown",
   "metadata": {},
   "source": [
    "- `git add`: Đưa các thay đổi vào staged area để chuẩn bị cho commit.\n",
    "- `git commit`: Tạo một commit mới với các thay đổi đã được đưa vào staged area.\n",
    "- `git push`: Đẩy các commit mới nhất lên remote repository (trên Github).\n",
    "- `git pull`: Kéo các thay đổi mới nhất từ remote repository và merge chúng vào branch hiện tại của bạn.\n",
    "- `git branch`: Liệt kê tất cả các branch cục bộ của bạn.\n",
    "- `git checkout`: Chuyển đổi sang một branch khác.\n",
    "- `git merge`: Merge các thay đổi từ branch khác vào branch hiện tại của bạn.\n",
    "- `git status`: Hiển thị trạng thái hiện tại của repository."
   ]
  },
  {
   "attachments": {},
   "cell_type": "markdown",
   "metadata": {},
   "source": [
    "Thông báo \"Your branch is up to date with 'origin/main'\" có nghĩa là nhánh hiện tại mà bạn đang làm việc đã được cập nhật và đồng bộ với nhánh chính (có tên là main) trên remote repository (thường là trên Github). \n",
    "\n",
    "Nếu bạn đã mới tạo một nhánh mới và chưa push lên remote repository thì thông báo này sẽ không hiển thị do nhánh của bạn chưa tồn tại trên remote repository. \n",
    "\n",
    "Khi bạn làm việc với Git, việc kiểm tra xem branch hiện tại của bạn đã được đồng bộ với trạng thái của remote repository là rất quan trọng. Nếu có những commit mới trên remote repository mà bạn chưa pull về máy local thì việc push code lên server của bạn có thể gây ra xung đột (conflict) và ảnh hưởng đến tiến độ làm việc của các thành viên khác trong team."
   ]
  }
 ],
 "metadata": {
  "kernelspec": {
   "display_name": "Python 3",
   "language": "python",
   "name": "python3"
  },
  "language_info": {
   "codemirror_mode": {
    "name": "ipython",
    "version": 3
   },
   "file_extension": ".py",
   "mimetype": "text/x-python",
   "name": "python",
   "nbconvert_exporter": "python",
   "pygments_lexer": "ipython3",
   "version": "3.11.3"
  },
  "orig_nbformat": 4
 },
 "nbformat": 4,
 "nbformat_minor": 2
}
