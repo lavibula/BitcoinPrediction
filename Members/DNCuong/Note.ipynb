{
 "cells": [
  {
   "attachments": {},
   "cell_type": "markdown",
   "metadata": {},
   "source": [
    "# 1.Git"
   ]
  },
  {
   "attachments": {},
   "cell_type": "markdown",
   "metadata": {},
   "source": [
    "## Thực dùng: \n",
    "Để commit sự thay đổi của bạn trên Github repository, hãy làm theo các bước sau:\n",
    "\n",
    "1. Mở terminal hoặc Git Bash.\n",
    "2. `cd` vào thư mục chứa repository của bạn.\n",
    "3. Sử dụng lệnh `git checkout main` để chuyển sang nhánh chính (main branch).\n",
    "4. Sử dụng lệnh `git pull` để đảm bảo rằng bạn đang có phiên bản mới nhất của repo trên máy tính của bạn.\n",
    "5. Sử dụng lệnh `git add Member/DNCuong` để đưa thư mục con DNCuong  vào staged area.\n",
    "6. Sử dụng lệnh `git status` để xác nhận thư mục con đã được đưa vào staged area.\n",
    "7. Sử dụng lệnh `git commit -m \"Thêm thư mục DNCuong\"` để commit các thay đổi với message là \"Thêm thư mục DNCuong\" (bạn có thể tùy chỉnh message sao cho phù hợp với nội dung commit của bạn).\n",
    "8. Sử dụng lệnh `git push` để đẩy các commit mới nhất của bạn lên Github.\n",
    "9. git revert 550cecb48afe8551e6eb759e0da08b02cce3f597  ->  git push\n",
    "10. git reset đưa các file về trạng thái trên web, commit thì lấy lại được, ko commit (save) thì chịu. \n",
    "\n"
   ]
  },
  {
   "attachments": {},
   "cell_type": "markdown",
   "metadata": {},
   "source": [
    "PS C:\\Users\\Administrator\\OneDrive - Hanoi University of Science and Technology\\ITE10 - Data Science and AI - HUST\\20222\\ML\\ML20222.PredictionBitcoin> git pull\n",
    "Already up to date.\n",
    "0222\\ML\\ML20222.PredictionBitcoin> git add Members/DNCuong\n",
    "\n",
    "PS C:\\Users\\Administrator\\OneDrive - Hanoi University of Science and Technology\\ITE10 - Data Science and AI - HUST\\2[main 123b3a95] Cuong updata folder DNCuong\n",
    " 1 file changed, 0 insertions(+), 0 deletions(-)\n",
    " rename Members/DNCuong/{Test.ipynb => Note.ipynb} (100%)\n",
    "PS C:\\Users\\Administrator\\OneDrive - Hanoi University of Science and Technology\\ITE10 - Data Science and AI - HUST\\20222\\ML\\ML20222.PredictionBitcoin> git push"
   ]
  },
  {
   "attachments": {},
   "cell_type": "markdown",
   "metadata": {},
   "source": [
    "Để push file Cuong.ipynb lên repository PredictionBitcoin, bạn có thể thực hiện theo các bước sau:\n",
    "\n",
    "1. Kiểm tra trạng thái của repository local để đảm bảo rằng bạn đang ở trên branch chính và không thiếu bất kỳ thay đổi nào: \n",
    "```\n",
    "git status\n",
    "```\n",
    "\n",
    "2. Nếu trạng thái hiện tại của repository là clean, đảm bảo rằng bạn đã pull các thay đổi mới nhất từ remote repository về:\n",
    "```\n",
    "git pull origin main\n",
    "```\n",
    "\n",
    "3. Chuyển đến thư mục Member/DNCuong:\n",
    "```\n",
    "cd Member/DNCuong\n",
    "```\n",
    "\n",
    "4. Sử dụng lệnh git add để thêm file Cuong.ipynb vào staged area:\n",
    "```\n",
    "git add Cuong.ipynb\n",
    "```\n",
    "\n",
    "5. Sau đó, sử dụng lệnh git commit để commit các thay đổi đã được thêm vào staged area:\n",
    "```\n",
    "git commit -m \"Update Cuong's notebook\"\n",
    "```\n",
    "\n",
    "6. Tiếp theo, sử dụng lệnh git push để đẩy các thay đổi đã commit trong local repository lên remote repository:\n",
    "```\n",
    "git push origin main\n",
    "```\n",
    "\n",
    "Lưu ý rằng bạn phải đã được cấp quyền truy cập và đủ quyền hạn để có thể push các thay đổi lên remote repository."
   ]
  }
 ],
 "metadata": {
  "kernelspec": {
   "display_name": "Python 3",
   "language": "python",
   "name": "python3"
  },
  "language_info": {
   "codemirror_mode": {
    "name": "ipython",
    "version": 3
   },
   "file_extension": ".py",
   "mimetype": "text/x-python",
   "name": "python",
   "nbconvert_exporter": "python",
   "pygments_lexer": "ipython3",
   "version": "3.11.3"
  },
  "orig_nbformat": 4
 },
 "nbformat": 4,
 "nbformat_minor": 2
}
