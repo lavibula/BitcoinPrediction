{
 "cells": [
  {
   "attachments": {},
   "cell_type": "markdown",
   "metadata": {},
   "source": [
    "# 1.Git"
   ]
  },
  {
   "attachments": {},
   "cell_type": "markdown",
   "metadata": {},
   "source": [
    "## Thực dùng: \n",
    "Để commit sự thay đổi của bạn trên Github repository, hãy làm theo các bước sau:\n",
    "\n",
    "1. Mở terminal hoặc Git Bash.\n",
    "2. `cd` vào thư mục chứa repository của bạn.\n",
    "3. Sử dụng lệnh `git checkout main` để chuyển sang nhánh chính (main branch).\n",
    "4. Sử dụng lệnh `git pull` để đảm bảo rằng bạn đang có phiên bản mới nhất của repo trên máy tính của bạn.\n",
    "5. Sử dụng lệnh `git add Member/DNCuong` để đưa thư mục con DNCuong  vào staged area.\n",
    "6. Sử dụng lệnh `git status` để xác nhận thư mục con đã được đưa vào staged area.\n",
    "7. Sử dụng lệnh `git commit -m \"Thêm thư mục DNCuong\"` để commit các thay đổi với message là \"Thêm thư mục DNCuong\" (bạn có thể tùy chỉnh message sao cho phù hợp với nội dung commit của bạn).\n",
    "8. Sử dụng lệnh `git push` để đẩy các commit mới nhất của bạn lên Github.\n",
    "\n"
   ]
  },
  {
   "attachments": {},
   "cell_type": "markdown",
   "metadata": {},
   "source": [
    "PS C:\\Users\\Administrator\\OneDrive - Hanoi University of Science and Technology\\ITE10 - Data Science and AI - HUST\\20222\\ML\\ML20222.PredictionBitcoin> git pull\n",
    "Already up to date.\n",
    "0222\\ML\\ML20222.PredictionBitcoin> git add Members/DNCuong\n",
    "\n",
    "PS C:\\Users\\Administrator\\OneDrive - Hanoi University of Science and Technology\\ITE10 - Data Science and AI - HUST\\2[main 123b3a95] Cuong updata folder DNCuong\n",
    " 1 file changed, 0 insertions(+), 0 deletions(-)\n",
    " rename Members/DNCuong/{Test.ipynb => Note.ipynb} (100%)\n",
    "PS C:\\Users\\Administrator\\OneDrive - Hanoi University of Science and Technology\\ITE10 - Data Science and AI - HUST\\20222\\ML\\ML20222.PredictionBitcoin> git push"
   ]
  }
 ],
 "metadata": {
  "kernelspec": {
   "display_name": "Python 3",
   "language": "python",
   "name": "python3"
  },
  "language_info": {
   "codemirror_mode": {
    "name": "ipython",
    "version": 3
   },
   "file_extension": ".py",
   "mimetype": "text/x-python",
   "name": "python",
   "nbconvert_exporter": "python",
   "pygments_lexer": "ipython3",
   "version": "3.11.3"
  },
  "orig_nbformat": 4
 },
 "nbformat": 4,
 "nbformat_minor": 2
}
