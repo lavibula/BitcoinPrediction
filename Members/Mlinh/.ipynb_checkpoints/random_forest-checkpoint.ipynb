{
 "cells": [
  {
   "cell_type": "markdown",
   "id": "30d13fe2",
   "metadata": {
    "id": "a8ecf48e"
   },
   "source": [
    "## **Modules**"
   ]
  },
  {
   "cell_type": "code",
   "execution_count": 1,
   "id": "ee227e96",
   "metadata": {
    "execution": {
     "iopub.execute_input": "2022-06-14T02:58:03.108658Z",
     "iopub.status.busy": "2022-06-14T02:58:03.108281Z",
     "iopub.status.idle": "2022-06-14T02:58:03.115619Z",
     "shell.execute_reply": "2022-06-14T02:58:03.114647Z",
     "shell.execute_reply.started": "2022-06-14T02:58:03.108627Z"
    },
    "id": "e6ab4de9",
    "scrolled": true
   },
   "outputs": [],
   "source": [
    "import numpy as np\n",
    "import pandas as pd\n",
    "import matplotlib.pyplot as plt\n",
    "\n",
    "from pandas import DataFrame\n",
    "\n",
    "from sklearn.ensemble import RandomForestClassifier\n",
    "from sklearn.model_selection import train_test_split\n",
    "from sklearn.metrics import roc_auc_score, accuracy_score"
   ]
  },
  {
   "cell_type": "markdown",
   "id": "a14b94f6",
   "metadata": {
    "id": "x00bEpgqm6xK"
   },
   "source": [
    "## **Data**"
   ]
  },
  {
   "cell_type": "markdown",
   "id": "4d5ec863",
   "metadata": {},
   "source": [
    "**Import the normalized data**"
   ]
  },
  {
   "cell_type": "code",
   "execution_count": 2,
   "id": "111e1ecd",
   "metadata": {},
   "outputs": [
    {
     "data": {
      "text/html": [
       "<div>\n",
       "<style scoped>\n",
       "    .dataframe tbody tr th:only-of-type {\n",
       "        vertical-align: middle;\n",
       "    }\n",
       "\n",
       "    .dataframe tbody tr th {\n",
       "        vertical-align: top;\n",
       "    }\n",
       "\n",
       "    .dataframe thead th {\n",
       "        text-align: right;\n",
       "    }\n",
       "</style>\n",
       "<table border=\"1\" class=\"dataframe\">\n",
       "  <thead>\n",
       "    <tr style=\"text-align: right;\">\n",
       "      <th></th>\n",
       "      <th>Date</th>\n",
       "      <th>BTC_close</th>\n",
       "      <th>BTC_open</th>\n",
       "      <th>BTC_high</th>\n",
       "      <th>BTC_low</th>\n",
       "      <th>BTC_volume</th>\n",
       "      <th>Active_Addr_Cnt</th>\n",
       "      <th>Difficulty</th>\n",
       "      <th>Mean_Block_Size(in_bytes)</th>\n",
       "      <th>Sum_Block_Weight</th>\n",
       "      <th>...</th>\n",
       "      <th>ETH</th>\n",
       "      <th>LTC</th>\n",
       "      <th>DOGE</th>\n",
       "      <th>XRP</th>\n",
       "      <th>GOLD</th>\n",
       "      <th>SILVER</th>\n",
       "      <th>COPPER</th>\n",
       "      <th>S&amp;P500</th>\n",
       "      <th>DJI</th>\n",
       "      <th>JP225</th>\n",
       "    </tr>\n",
       "  </thead>\n",
       "  <tbody>\n",
       "    <tr>\n",
       "      <th>0</th>\n",
       "      <td>2023-04-16</td>\n",
       "      <td>30310.3</td>\n",
       "      <td>30299.2</td>\n",
       "      <td>30545.3</td>\n",
       "      <td>30134.6</td>\n",
       "      <td>34.48</td>\n",
       "      <td>840992.0</td>\n",
       "      <td>4.788780e+13</td>\n",
       "      <td>1.866594e+06</td>\n",
       "      <td>495223185.0</td>\n",
       "      <td>...</td>\n",
       "      <td>2119.29</td>\n",
       "      <td>100.03</td>\n",
       "      <td>0.090465</td>\n",
       "      <td>0.52089</td>\n",
       "      <td>2015.6</td>\n",
       "      <td>25.438</td>\n",
       "      <td>9023.50</td>\n",
       "      <td>4137.64</td>\n",
       "      <td>33885.31</td>\n",
       "      <td>28493.47</td>\n",
       "    </tr>\n",
       "    <tr>\n",
       "      <th>1</th>\n",
       "      <td>2023-04-15</td>\n",
       "      <td>30299.6</td>\n",
       "      <td>30472.6</td>\n",
       "      <td>30586.5</td>\n",
       "      <td>30208.8</td>\n",
       "      <td>31.71</td>\n",
       "      <td>1045660.0</td>\n",
       "      <td>4.788780e+13</td>\n",
       "      <td>1.839875e+06</td>\n",
       "      <td>631025193.0</td>\n",
       "      <td>...</td>\n",
       "      <td>2090.59</td>\n",
       "      <td>96.66</td>\n",
       "      <td>0.088890</td>\n",
       "      <td>0.51930</td>\n",
       "      <td>2002.2</td>\n",
       "      <td>25.460</td>\n",
       "      <td>9023.50</td>\n",
       "      <td>4137.64</td>\n",
       "      <td>33885.31</td>\n",
       "      <td>28493.47</td>\n",
       "    </tr>\n",
       "    <tr>\n",
       "      <th>2</th>\n",
       "      <td>2023-04-14</td>\n",
       "      <td>30472.5</td>\n",
       "      <td>30387.4</td>\n",
       "      <td>30964.9</td>\n",
       "      <td>30026.0</td>\n",
       "      <td>98.38</td>\n",
       "      <td>1016042.0</td>\n",
       "      <td>4.788780e+13</td>\n",
       "      <td>1.759535e+06</td>\n",
       "      <td>559166432.0</td>\n",
       "      <td>...</td>\n",
       "      <td>2099.98</td>\n",
       "      <td>96.34</td>\n",
       "      <td>0.088707</td>\n",
       "      <td>0.52269</td>\n",
       "      <td>2002.2</td>\n",
       "      <td>25.460</td>\n",
       "      <td>9023.50</td>\n",
       "      <td>4137.64</td>\n",
       "      <td>33885.31</td>\n",
       "      <td>28493.47</td>\n",
       "    </tr>\n",
       "    <tr>\n",
       "      <th>3</th>\n",
       "      <td>2023-04-13</td>\n",
       "      <td>30387.4</td>\n",
       "      <td>29892.4</td>\n",
       "      <td>30524.1</td>\n",
       "      <td>29864.5</td>\n",
       "      <td>65.87</td>\n",
       "      <td>1009669.0</td>\n",
       "      <td>4.788780e+13</td>\n",
       "      <td>1.812113e+06</td>\n",
       "      <td>567094231.0</td>\n",
       "      <td>...</td>\n",
       "      <td>2012.11</td>\n",
       "      <td>94.19</td>\n",
       "      <td>0.087344</td>\n",
       "      <td>0.51244</td>\n",
       "      <td>2041.3</td>\n",
       "      <td>25.925</td>\n",
       "      <td>9058.50</td>\n",
       "      <td>4146.22</td>\n",
       "      <td>34030.34</td>\n",
       "      <td>28156.97</td>\n",
       "    </tr>\n",
       "    <tr>\n",
       "      <th>4</th>\n",
       "      <td>2023-04-12</td>\n",
       "      <td>29886.4</td>\n",
       "      <td>30209.8</td>\n",
       "      <td>30473.0</td>\n",
       "      <td>29679.5</td>\n",
       "      <td>78.69</td>\n",
       "      <td>1056542.0</td>\n",
       "      <td>4.788780e+13</td>\n",
       "      <td>1.933496e+06</td>\n",
       "      <td>635037442.0</td>\n",
       "      <td>...</td>\n",
       "      <td>1916.58</td>\n",
       "      <td>92.02</td>\n",
       "      <td>0.083398</td>\n",
       "      <td>0.50473</td>\n",
       "      <td>2010.9</td>\n",
       "      <td>25.458</td>\n",
       "      <td>8916.50</td>\n",
       "      <td>4091.95</td>\n",
       "      <td>33647.22</td>\n",
       "      <td>28082.70</td>\n",
       "    </tr>\n",
       "    <tr>\n",
       "      <th>...</th>\n",
       "      <td>...</td>\n",
       "      <td>...</td>\n",
       "      <td>...</td>\n",
       "      <td>...</td>\n",
       "      <td>...</td>\n",
       "      <td>...</td>\n",
       "      <td>...</td>\n",
       "      <td>...</td>\n",
       "      <td>...</td>\n",
       "      <td>...</td>\n",
       "      <td>...</td>\n",
       "      <td>...</td>\n",
       "      <td>...</td>\n",
       "      <td>...</td>\n",
       "      <td>...</td>\n",
       "      <td>...</td>\n",
       "      <td>...</td>\n",
       "      <td>...</td>\n",
       "      <td>...</td>\n",
       "      <td>...</td>\n",
       "      <td>...</td>\n",
       "    </tr>\n",
       "    <tr>\n",
       "      <th>4649</th>\n",
       "      <td>2010-07-24</td>\n",
       "      <td>0.1</td>\n",
       "      <td>0.1</td>\n",
       "      <td>0.1</td>\n",
       "      <td>0.1</td>\n",
       "      <td>0.50</td>\n",
       "      <td>959.0</td>\n",
       "      <td>1.820000e+02</td>\n",
       "      <td>1.519540e+03</td>\n",
       "      <td>1148772.0</td>\n",
       "      <td>...</td>\n",
       "      <td>0.00</td>\n",
       "      <td>0.00</td>\n",
       "      <td>0.000000</td>\n",
       "      <td>0.00000</td>\n",
       "      <td>1187.8</td>\n",
       "      <td>18.101</td>\n",
       "      <td>7018.25</td>\n",
       "      <td>1102.66</td>\n",
       "      <td>10424.62</td>\n",
       "      <td>9430.96</td>\n",
       "    </tr>\n",
       "    <tr>\n",
       "      <th>4650</th>\n",
       "      <td>2010-07-23</td>\n",
       "      <td>0.1</td>\n",
       "      <td>0.1</td>\n",
       "      <td>0.1</td>\n",
       "      <td>0.1</td>\n",
       "      <td>2.40</td>\n",
       "      <td>655.0</td>\n",
       "      <td>1.820000e+02</td>\n",
       "      <td>5.309330e+02</td>\n",
       "      <td>412004.0</td>\n",
       "      <td>...</td>\n",
       "      <td>0.00</td>\n",
       "      <td>0.00</td>\n",
       "      <td>0.000000</td>\n",
       "      <td>0.00000</td>\n",
       "      <td>1187.8</td>\n",
       "      <td>18.101</td>\n",
       "      <td>7018.25</td>\n",
       "      <td>1102.66</td>\n",
       "      <td>10424.62</td>\n",
       "      <td>9430.96</td>\n",
       "    </tr>\n",
       "    <tr>\n",
       "      <th>4651</th>\n",
       "      <td>2010-07-22</td>\n",
       "      <td>0.1</td>\n",
       "      <td>0.1</td>\n",
       "      <td>0.1</td>\n",
       "      <td>0.1</td>\n",
       "      <td>2.16</td>\n",
       "      <td>594.0</td>\n",
       "      <td>1.820000e+02</td>\n",
       "      <td>5.724432e+02</td>\n",
       "      <td>403000.0</td>\n",
       "      <td>...</td>\n",
       "      <td>0.00</td>\n",
       "      <td>0.00</td>\n",
       "      <td>0.000000</td>\n",
       "      <td>0.00000</td>\n",
       "      <td>1195.6</td>\n",
       "      <td>18.120</td>\n",
       "      <td>7002.75</td>\n",
       "      <td>1093.67</td>\n",
       "      <td>10322.30</td>\n",
       "      <td>9220.88</td>\n",
       "    </tr>\n",
       "    <tr>\n",
       "      <th>4652</th>\n",
       "      <td>2010-07-21</td>\n",
       "      <td>0.1</td>\n",
       "      <td>0.1</td>\n",
       "      <td>0.1</td>\n",
       "      <td>0.1</td>\n",
       "      <td>0.58</td>\n",
       "      <td>784.0</td>\n",
       "      <td>1.820000e+02</td>\n",
       "      <td>6.038213e+02</td>\n",
       "      <td>499964.0</td>\n",
       "      <td>...</td>\n",
       "      <td>0.00</td>\n",
       "      <td>0.00</td>\n",
       "      <td>0.000000</td>\n",
       "      <td>0.00000</td>\n",
       "      <td>1191.8</td>\n",
       "      <td>17.803</td>\n",
       "      <td>0.00</td>\n",
       "      <td>1069.59</td>\n",
       "      <td>10120.53</td>\n",
       "      <td>9278.83</td>\n",
       "    </tr>\n",
       "    <tr>\n",
       "      <th>4653</th>\n",
       "      <td>2010-07-20</td>\n",
       "      <td>0.1</td>\n",
       "      <td>0.1</td>\n",
       "      <td>0.1</td>\n",
       "      <td>0.1</td>\n",
       "      <td>0.26</td>\n",
       "      <td>936.0</td>\n",
       "      <td>1.820000e+02</td>\n",
       "      <td>1.090746e+03</td>\n",
       "      <td>789700.0</td>\n",
       "      <td>...</td>\n",
       "      <td>0.00</td>\n",
       "      <td>0.00</td>\n",
       "      <td>0.000000</td>\n",
       "      <td>0.00000</td>\n",
       "      <td>1191.7</td>\n",
       "      <td>17.693</td>\n",
       "      <td>0.00</td>\n",
       "      <td>1083.48</td>\n",
       "      <td>10229.96</td>\n",
       "      <td>9300.46</td>\n",
       "    </tr>\n",
       "  </tbody>\n",
       "</table>\n",
       "<p>4654 rows × 24 columns</p>\n",
       "</div>"
      ],
      "text/plain": [
       "            Date  BTC_close  BTC_open  BTC_high  BTC_low  BTC_volume   \n",
       "0     2023-04-16    30310.3   30299.2   30545.3  30134.6       34.48  \\\n",
       "1     2023-04-15    30299.6   30472.6   30586.5  30208.8       31.71   \n",
       "2     2023-04-14    30472.5   30387.4   30964.9  30026.0       98.38   \n",
       "3     2023-04-13    30387.4   29892.4   30524.1  29864.5       65.87   \n",
       "4     2023-04-12    29886.4   30209.8   30473.0  29679.5       78.69   \n",
       "...          ...        ...       ...       ...      ...         ...   \n",
       "4649  2010-07-24        0.1       0.1       0.1      0.1        0.50   \n",
       "4650  2010-07-23        0.1       0.1       0.1      0.1        2.40   \n",
       "4651  2010-07-22        0.1       0.1       0.1      0.1        2.16   \n",
       "4652  2010-07-21        0.1       0.1       0.1      0.1        0.58   \n",
       "4653  2010-07-20        0.1       0.1       0.1      0.1        0.26   \n",
       "\n",
       "      Active_Addr_Cnt    Difficulty  Mean_Block_Size(in_bytes)   \n",
       "0            840992.0  4.788780e+13               1.866594e+06  \\\n",
       "1           1045660.0  4.788780e+13               1.839875e+06   \n",
       "2           1016042.0  4.788780e+13               1.759535e+06   \n",
       "3           1009669.0  4.788780e+13               1.812113e+06   \n",
       "4           1056542.0  4.788780e+13               1.933496e+06   \n",
       "...               ...           ...                        ...   \n",
       "4649            959.0  1.820000e+02               1.519540e+03   \n",
       "4650            655.0  1.820000e+02               5.309330e+02   \n",
       "4651            594.0  1.820000e+02               5.724432e+02   \n",
       "4652            784.0  1.820000e+02               6.038213e+02   \n",
       "4653            936.0  1.820000e+02               1.090746e+03   \n",
       "\n",
       "      Sum_Block_Weight  ...      ETH     LTC      DOGE      XRP    GOLD   \n",
       "0          495223185.0  ...  2119.29  100.03  0.090465  0.52089  2015.6  \\\n",
       "1          631025193.0  ...  2090.59   96.66  0.088890  0.51930  2002.2   \n",
       "2          559166432.0  ...  2099.98   96.34  0.088707  0.52269  2002.2   \n",
       "3          567094231.0  ...  2012.11   94.19  0.087344  0.51244  2041.3   \n",
       "4          635037442.0  ...  1916.58   92.02  0.083398  0.50473  2010.9   \n",
       "...                ...  ...      ...     ...       ...      ...     ...   \n",
       "4649         1148772.0  ...     0.00    0.00  0.000000  0.00000  1187.8   \n",
       "4650          412004.0  ...     0.00    0.00  0.000000  0.00000  1187.8   \n",
       "4651          403000.0  ...     0.00    0.00  0.000000  0.00000  1195.6   \n",
       "4652          499964.0  ...     0.00    0.00  0.000000  0.00000  1191.8   \n",
       "4653          789700.0  ...     0.00    0.00  0.000000  0.00000  1191.7   \n",
       "\n",
       "      SILVER   COPPER   S&P500       DJI     JP225  \n",
       "0     25.438  9023.50  4137.64  33885.31  28493.47  \n",
       "1     25.460  9023.50  4137.64  33885.31  28493.47  \n",
       "2     25.460  9023.50  4137.64  33885.31  28493.47  \n",
       "3     25.925  9058.50  4146.22  34030.34  28156.97  \n",
       "4     25.458  8916.50  4091.95  33647.22  28082.70  \n",
       "...      ...      ...      ...       ...       ...  \n",
       "4649  18.101  7018.25  1102.66  10424.62   9430.96  \n",
       "4650  18.101  7018.25  1102.66  10424.62   9430.96  \n",
       "4651  18.120  7002.75  1093.67  10322.30   9220.88  \n",
       "4652  17.803     0.00  1069.59  10120.53   9278.83  \n",
       "4653  17.693     0.00  1083.48  10229.96   9300.46  \n",
       "\n",
       "[4654 rows x 24 columns]"
      ]
     },
     "execution_count": 2,
     "metadata": {},
     "output_type": "execute_result"
    }
   ],
   "source": [
    "file_path = \"https://raw.githubusercontent.com/lavibula/ML20222.PredictionBitcoin/main/data/saved_data.csv\"\n",
    "df = pd.read_csv(file_path)\n",
    "df"
   ]
  },
  {
   "cell_type": "markdown",
   "id": "b6ab60f5",
   "metadata": {},
   "source": [
    "**Define the periods of time that the features have in the data**\n",
    "\n",
    "For example, the features contain SMA2 which is the smoothed moving average during 2 days, so a period of time that must be in the periods list is 2."
   ]
  },
  {
   "cell_type": "code",
   "execution_count": 3,
   "id": "6fa8473d",
   "metadata": {},
   "outputs": [],
   "source": [
    "periods = [2,4,8,12,24,48,96,192]"
   ]
  },
  {
   "cell_type": "markdown",
   "id": "9cc5e9a8",
   "metadata": {},
   "source": [
    "**Label value counts**"
   ]
  },
  {
   "cell_type": "code",
   "execution_count": 4,
   "id": "d782a51d",
   "metadata": {},
   "outputs": [
    {
     "data": {
      "text/plain": [
       "BTC_close\n",
       "0.1       98\n",
       "0.3       45\n",
       "0.2       37\n",
       "0.9       33\n",
       "4.9       28\n",
       "          ..\n",
       "8497.3     1\n",
       "8476.3     1\n",
       "8661.2     1\n",
       "8783.1     1\n",
       "8264.4     1\n",
       "Name: count, Length: 3702, dtype: int64"
      ]
     },
     "execution_count": 4,
     "metadata": {},
     "output_type": "execute_result"
    }
   ],
   "source": [
    "df[\"BTC_close\"].value_counts()"
   ]
  },
  {
   "cell_type": "markdown",
   "id": "95240e7f",
   "metadata": {},
   "source": [
    "### **Data Preprocessing**"
   ]
  },
  {
   "cell_type": "markdown",
   "id": "07ec2ef3",
   "metadata": {},
   "source": [
    "**Drop useless column**"
   ]
  },
  {
   "cell_type": "markdown",
   "id": "90d47ebd",
   "metadata": {},
   "source": [
    "**Drop nan if exist**"
   ]
  },
  {
   "cell_type": "code",
   "execution_count": 6,
   "id": "62eb97fb",
   "metadata": {},
   "outputs": [
    {
     "data": {
      "text/plain": [
       "0"
      ]
     },
     "execution_count": 6,
     "metadata": {},
     "output_type": "execute_result"
    }
   ],
   "source": [
    "# Print all the amount of nan values\n",
    "df.isna().sum().sum()"
   ]
  },
  {
   "cell_type": "markdown",
   "id": "35a5530a",
   "metadata": {},
   "source": [
    "Or forward fill before drop, this forward filling can avoid data leakeage!"
   ]
  },
  {
   "cell_type": "code",
   "execution_count": 7,
   "id": "1c16cf7a",
   "metadata": {
    "execution": {
     "iopub.execute_input": "2022-06-14T01:35:27.91399Z",
     "iopub.status.busy": "2022-06-14T01:35:27.913565Z",
     "iopub.status.idle": "2022-06-14T01:35:27.931798Z",
     "shell.execute_reply": "2022-06-14T01:35:27.931085Z",
     "shell.execute_reply.started": "2022-06-14T01:35:27.913947Z"
    }
   },
   "outputs": [],
   "source": [
    "forward_fill = False\n",
    "\n",
    "if forward_fill:\n",
    "    df.ffill(inplace=True)\n",
    "else:\n",
    "    df.dropna(inplace=True)"
   ]
  },
  {
   "cell_type": "markdown",
   "id": "fc1bcfed",
   "metadata": {},
   "source": [
    "**Create train set, validation set and test set**"
   ]
  },
  {
   "cell_type": "code",
   "execution_count": 9,
   "id": "91e8a369",
   "metadata": {},
   "outputs": [],
   "source": [
    "X_df = df.drop(columns=[\"BTC_close\"])\n",
    "y_df = df[\"BTC_close\"]"
   ]
  },
  {
   "cell_type": "code",
   "execution_count": 10,
   "id": "c1cc0a29",
   "metadata": {},
   "outputs": [],
   "source": [
    "X_df = X_df.drop(columns=[\"Date\"])"
   ]
  },
  {
   "cell_type": "code",
   "execution_count": 11,
   "id": "a249c37d",
   "metadata": {},
   "outputs": [],
   "source": [
    "X_train_df, X_test_df, y_train_df, y_test_df = train_test_split(X_df, y_df, test_size=0.3, shuffle=False)\n",
    "X_val_df, X_test_df, y_val_df, y_test_df = train_test_split(X_test_df, y_test_df, test_size=0.5, shuffle=False)"
   ]
  },
  {
   "cell_type": "markdown",
   "id": "99f490eb",
   "metadata": {},
   "source": [
    "## **Model and training**"
   ]
  },
  {
   "cell_type": "markdown",
   "id": "a18f8c53",
   "metadata": {},
   "source": [
    "### Random Forest"
   ]
  },
  {
   "cell_type": "markdown",
   "id": "e79fe223",
   "metadata": {},
   "source": [
    "**Training**"
   ]
  },
  {
   "cell_type": "code",
   "execution_count": 12,
   "id": "7652d00a",
   "metadata": {},
   "outputs": [],
   "source": [
    "model_rf = RandomForestClassifier(n_estimators=100, criterion='gini', max_depth=None, min_samples_split=2, \n",
    "                                  min_samples_leaf=1, min_weight_fraction_leaf=0.0, max_features='sqrt', bootstrap=True, \n",
    "                                  oob_score=False, n_jobs=-1, random_state=1234, verbose=1)"
   ]
  },
  {
   "cell_type": "code",
   "execution_count": 13,
   "id": "37c30ef2",
   "metadata": {
    "scrolled": true
   },
   "outputs": [
    {
     "ename": "ValueError",
     "evalue": "Unknown label type: 'continuous'",
     "output_type": "error",
     "traceback": [
      "\u001b[0;31m---------------------------------------------------------------------------\u001b[0m",
      "\u001b[0;31mValueError\u001b[0m                                Traceback (most recent call last)",
      "Cell \u001b[0;32mIn[13], line 1\u001b[0m\n\u001b[0;32m----> 1\u001b[0m \u001b[43mmodel_rf\u001b[49m\u001b[38;5;241;43m.\u001b[39;49m\u001b[43mfit\u001b[49m\u001b[43m(\u001b[49m\u001b[43mX_train_df\u001b[49m\u001b[43m,\u001b[49m\u001b[43m \u001b[49m\u001b[43my_train_df\u001b[49m\u001b[43m)\u001b[49m\n",
      "File \u001b[0;32m/usr/local/lib/python3.10/site-packages/sklearn/ensemble/_forest.py:385\u001b[0m, in \u001b[0;36mBaseForest.fit\u001b[0;34m(self, X, y, sample_weight)\u001b[0m\n\u001b[1;32m    378\u001b[0m         \u001b[38;5;28;01mraise\u001b[39;00m \u001b[38;5;167;01mValueError\u001b[39;00m(\n\u001b[1;32m    379\u001b[0m             \u001b[38;5;124m\"\u001b[39m\u001b[38;5;124mSum of y is not strictly positive which \u001b[39m\u001b[38;5;124m\"\u001b[39m\n\u001b[1;32m    380\u001b[0m             \u001b[38;5;124m\"\u001b[39m\u001b[38;5;124mis necessary for Poisson regression.\u001b[39m\u001b[38;5;124m\"\u001b[39m\n\u001b[1;32m    381\u001b[0m         )\n\u001b[1;32m    383\u001b[0m \u001b[38;5;28mself\u001b[39m\u001b[38;5;241m.\u001b[39mn_outputs_ \u001b[38;5;241m=\u001b[39m y\u001b[38;5;241m.\u001b[39mshape[\u001b[38;5;241m1\u001b[39m]\n\u001b[0;32m--> 385\u001b[0m y, expanded_class_weight \u001b[38;5;241m=\u001b[39m \u001b[38;5;28;43mself\u001b[39;49m\u001b[38;5;241;43m.\u001b[39;49m\u001b[43m_validate_y_class_weight\u001b[49m\u001b[43m(\u001b[49m\u001b[43my\u001b[49m\u001b[43m)\u001b[49m\n\u001b[1;32m    387\u001b[0m \u001b[38;5;28;01mif\u001b[39;00m \u001b[38;5;28mgetattr\u001b[39m(y, \u001b[38;5;124m\"\u001b[39m\u001b[38;5;124mdtype\u001b[39m\u001b[38;5;124m\"\u001b[39m, \u001b[38;5;28;01mNone\u001b[39;00m) \u001b[38;5;241m!=\u001b[39m DOUBLE \u001b[38;5;129;01mor\u001b[39;00m \u001b[38;5;129;01mnot\u001b[39;00m y\u001b[38;5;241m.\u001b[39mflags\u001b[38;5;241m.\u001b[39mcontiguous:\n\u001b[1;32m    388\u001b[0m     y \u001b[38;5;241m=\u001b[39m np\u001b[38;5;241m.\u001b[39mascontiguousarray(y, dtype\u001b[38;5;241m=\u001b[39mDOUBLE)\n",
      "File \u001b[0;32m/usr/local/lib/python3.10/site-packages/sklearn/ensemble/_forest.py:746\u001b[0m, in \u001b[0;36mForestClassifier._validate_y_class_weight\u001b[0;34m(self, y)\u001b[0m\n\u001b[1;32m    745\u001b[0m \u001b[38;5;28;01mdef\u001b[39;00m \u001b[38;5;21m_validate_y_class_weight\u001b[39m(\u001b[38;5;28mself\u001b[39m, y):\n\u001b[0;32m--> 746\u001b[0m     \u001b[43mcheck_classification_targets\u001b[49m\u001b[43m(\u001b[49m\u001b[43my\u001b[49m\u001b[43m)\u001b[49m\n\u001b[1;32m    748\u001b[0m     y \u001b[38;5;241m=\u001b[39m np\u001b[38;5;241m.\u001b[39mcopy(y)\n\u001b[1;32m    749\u001b[0m     expanded_class_weight \u001b[38;5;241m=\u001b[39m \u001b[38;5;28;01mNone\u001b[39;00m\n",
      "File \u001b[0;32m/usr/local/lib/python3.10/site-packages/sklearn/utils/multiclass.py:218\u001b[0m, in \u001b[0;36mcheck_classification_targets\u001b[0;34m(y)\u001b[0m\n\u001b[1;32m    210\u001b[0m y_type \u001b[38;5;241m=\u001b[39m type_of_target(y, input_name\u001b[38;5;241m=\u001b[39m\u001b[38;5;124m\"\u001b[39m\u001b[38;5;124my\u001b[39m\u001b[38;5;124m\"\u001b[39m)\n\u001b[1;32m    211\u001b[0m \u001b[38;5;28;01mif\u001b[39;00m y_type \u001b[38;5;129;01mnot\u001b[39;00m \u001b[38;5;129;01min\u001b[39;00m [\n\u001b[1;32m    212\u001b[0m     \u001b[38;5;124m\"\u001b[39m\u001b[38;5;124mbinary\u001b[39m\u001b[38;5;124m\"\u001b[39m,\n\u001b[1;32m    213\u001b[0m     \u001b[38;5;124m\"\u001b[39m\u001b[38;5;124mmulticlass\u001b[39m\u001b[38;5;124m\"\u001b[39m,\n\u001b[0;32m   (...)\u001b[0m\n\u001b[1;32m    216\u001b[0m     \u001b[38;5;124m\"\u001b[39m\u001b[38;5;124mmultilabel-sequences\u001b[39m\u001b[38;5;124m\"\u001b[39m,\n\u001b[1;32m    217\u001b[0m ]:\n\u001b[0;32m--> 218\u001b[0m     \u001b[38;5;28;01mraise\u001b[39;00m \u001b[38;5;167;01mValueError\u001b[39;00m(\u001b[38;5;124m\"\u001b[39m\u001b[38;5;124mUnknown label type: \u001b[39m\u001b[38;5;132;01m%r\u001b[39;00m\u001b[38;5;124m\"\u001b[39m \u001b[38;5;241m%\u001b[39m y_type)\n",
      "\u001b[0;31mValueError\u001b[0m: Unknown label type: 'continuous'"
     ]
    }
   ],
   "source": [
    "model_rf.fit(X_train_df, y_train_df)"
   ]
  },
  {
   "cell_type": "markdown",
   "id": "c729c692",
   "metadata": {},
   "source": [
    "**Evaluation**"
   ]
  },
  {
   "cell_type": "code",
   "execution_count": 12,
   "id": "f29d8cf9",
   "metadata": {},
   "outputs": [
    {
     "name": "stderr",
     "output_type": "stream",
     "text": [
      "[Parallel(n_jobs=16)]: Using backend ThreadingBackend with 16 concurrent workers.\n",
      "[Parallel(n_jobs=16)]: Done  18 tasks      | elapsed:    0.1s\n"
     ]
    },
    {
     "name": "stdout",
     "output_type": "stream",
     "text": [
      "AUC score in the train set: 1.0\n"
     ]
    },
    {
     "name": "stderr",
     "output_type": "stream",
     "text": [
      "[Parallel(n_jobs=16)]: Done 100 out of 100 | elapsed:    0.2s finished\n"
     ]
    }
   ],
   "source": [
    "print(\"AUC score in the train set:\", roc_auc_score(y_train_df, model_rf.predict_proba(X_train_df)[:, 1]))"
   ]
  },
  {
   "cell_type": "code",
   "execution_count": 13,
   "id": "1ea6614b",
   "metadata": {},
   "outputs": [
    {
     "name": "stdout",
     "output_type": "stream",
     "text": [
      "AUC score in the validation set: 0.5383297974769913\n"
     ]
    },
    {
     "name": "stderr",
     "output_type": "stream",
     "text": [
      "[Parallel(n_jobs=16)]: Using backend ThreadingBackend with 16 concurrent workers.\n",
      "[Parallel(n_jobs=16)]: Done  18 tasks      | elapsed:    0.0s\n",
      "[Parallel(n_jobs=16)]: Done 100 out of 100 | elapsed:    0.0s finished\n"
     ]
    }
   ],
   "source": [
    "print(\"AUC score in the validation set:\", roc_auc_score(y_val_df, model_rf.predict_proba(X_val_df)[:, 1]))"
   ]
  },
  {
   "cell_type": "code",
   "execution_count": 14,
   "id": "207ae6a0",
   "metadata": {},
   "outputs": [
    {
     "name": "stdout",
     "output_type": "stream",
     "text": [
      "AUC score in the test set: 0.5220341793638587\n"
     ]
    },
    {
     "name": "stderr",
     "output_type": "stream",
     "text": [
      "[Parallel(n_jobs=16)]: Using backend ThreadingBackend with 16 concurrent workers.\n",
      "[Parallel(n_jobs=16)]: Done  18 tasks      | elapsed:    0.0s\n",
      "[Parallel(n_jobs=16)]: Done 100 out of 100 | elapsed:    0.0s finished\n"
     ]
    }
   ],
   "source": [
    "print(\"AUC score in the test set:\", roc_auc_score(y_test_df, model_rf.predict_proba(X_test_df)[:, 1]))"
   ]
  },
  {
   "cell_type": "code",
   "execution_count": 15,
   "id": "09305f03",
   "metadata": {},
   "outputs": [
    {
     "name": "stderr",
     "output_type": "stream",
     "text": [
      "[Parallel(n_jobs=16)]: Using backend ThreadingBackend with 16 concurrent workers.\n",
      "[Parallel(n_jobs=16)]: Done  18 tasks      | elapsed:    0.1s\n"
     ]
    },
    {
     "name": "stdout",
     "output_type": "stream",
     "text": [
      "Accuracy score in the train set: 1.0\n"
     ]
    },
    {
     "name": "stderr",
     "output_type": "stream",
     "text": [
      "[Parallel(n_jobs=16)]: Done 100 out of 100 | elapsed:    0.2s finished\n"
     ]
    }
   ],
   "source": [
    "print(\"Accuracy score in the train set:\", accuracy_score(y_train_df, (model_rf.predict_proba(X_train_df)[:, 1] >= 0.5) * 1))"
   ]
  },
  {
   "cell_type": "code",
   "execution_count": 16,
   "id": "e1431457",
   "metadata": {},
   "outputs": [
    {
     "name": "stdout",
     "output_type": "stream",
     "text": [
      "Accuracy score in the validation set: 0.5280041616091555\n"
     ]
    },
    {
     "name": "stderr",
     "output_type": "stream",
     "text": [
      "[Parallel(n_jobs=16)]: Using backend ThreadingBackend with 16 concurrent workers.\n",
      "[Parallel(n_jobs=16)]: Done  18 tasks      | elapsed:    0.0s\n",
      "[Parallel(n_jobs=16)]: Done 100 out of 100 | elapsed:    0.0s finished\n"
     ]
    }
   ],
   "source": [
    "print(\"Accuracy score in the validation set:\", accuracy_score(y_val_df, (model_rf.predict_proba(X_val_df)[:, 1] >= 0.5) * 1))"
   ]
  },
  {
   "cell_type": "code",
   "execution_count": 17,
   "id": "8ac374cd",
   "metadata": {},
   "outputs": [
    {
     "name": "stdout",
     "output_type": "stream",
     "text": [
      "Accuracy score in the test set: 0.5090152565880721\n"
     ]
    },
    {
     "name": "stderr",
     "output_type": "stream",
     "text": [
      "[Parallel(n_jobs=16)]: Using backend ThreadingBackend with 16 concurrent workers.\n",
      "[Parallel(n_jobs=16)]: Done  18 tasks      | elapsed:    0.0s\n",
      "[Parallel(n_jobs=16)]: Done 100 out of 100 | elapsed:    0.0s finished\n"
     ]
    }
   ],
   "source": [
    "print(\"Accuracy score in the test set:\", accuracy_score(y_test_df, (model_rf.predict_proba(X_test_df)[:, 1] >= 0.5) * 1))"
   ]
  },
  {
   "cell_type": "markdown",
   "id": "75221b7e",
   "metadata": {},
   "source": [
    "**Threshold tuning**"
   ]
  },
  {
   "cell_type": "code",
   "execution_count": 18,
   "id": "e19a36fb",
   "metadata": {},
   "outputs": [
    {
     "name": "stderr",
     "output_type": "stream",
     "text": [
      "[Parallel(n_jobs=16)]: Using backend ThreadingBackend with 16 concurrent workers.\n",
      "[Parallel(n_jobs=16)]: Done  18 tasks      | elapsed:    0.0s\n",
      "[Parallel(n_jobs=16)]: Done 100 out of 100 | elapsed:    0.1s finished\n"
     ]
    },
    {
     "name": "stdout",
     "output_type": "stream",
     "text": [
      "0.5280041616091555\n"
     ]
    }
   ],
   "source": [
    "pred_val = model_rf.predict_proba(X_val_df)[:, 1]\n",
    "tmp_pred_val = pred_val.copy()\n",
    "\n",
    "l = []\n",
    "for i in range(4000, 6000):\n",
    "    pred_val = (tmp_pred_val >= i/10000) * 1\n",
    "    l.append(accuracy_score(y_val_df, pred_val))\n",
    "\n",
    "threshold = max(l)\n",
    "print(max(l))"
   ]
  },
  {
   "cell_type": "code",
   "execution_count": 19,
   "id": "05c82b3b",
   "metadata": {},
   "outputs": [
    {
     "name": "stdout",
     "output_type": "stream",
     "text": [
      "Final testing accuracy:\n"
     ]
    },
    {
     "name": "stderr",
     "output_type": "stream",
     "text": [
      "[Parallel(n_jobs=16)]: Using backend ThreadingBackend with 16 concurrent workers.\n",
      "[Parallel(n_jobs=16)]: Done  18 tasks      | elapsed:    0.0s\n",
      "[Parallel(n_jobs=16)]: Done 100 out of 100 | elapsed:    0.0s finished\n"
     ]
    },
    {
     "data": {
      "text/plain": [
       "0.5176837725381415"
      ]
     },
     "execution_count": 19,
     "metadata": {},
     "output_type": "execute_result"
    }
   ],
   "source": [
    "pred_test = model_rf.predict_proba(X_test_df)[:,1]\n",
    "pred_test = (pred_test >= threshold) * 1\n",
    "print(\"Final testing accuracy:\")\n",
    "accuracy_score(y_test_df, pred_test)"
   ]
  },
  {
   "cell_type": "markdown",
   "id": "c49512ac",
   "metadata": {},
   "source": [
    "**Features importance**"
   ]
  },
  {
   "cell_type": "code",
   "execution_count": 20,
   "id": "dcff6fe7",
   "metadata": {},
   "outputs": [
    {
     "data": {
      "text/html": [
       "<div>\n",
       "<style scoped>\n",
       "    .dataframe tbody tr th:only-of-type {\n",
       "        vertical-align: middle;\n",
       "    }\n",
       "\n",
       "    .dataframe tbody tr th {\n",
       "        vertical-align: top;\n",
       "    }\n",
       "\n",
       "    .dataframe thead th {\n",
       "        text-align: right;\n",
       "    }\n",
       "</style>\n",
       "<table border=\"1\" class=\"dataframe\">\n",
       "  <thead>\n",
       "    <tr style=\"text-align: right;\">\n",
       "      <th></th>\n",
       "      <th>feature</th>\n",
       "      <th>importance</th>\n",
       "    </tr>\n",
       "  </thead>\n",
       "  <tbody>\n",
       "    <tr>\n",
       "      <th>32</th>\n",
       "      <td>BOP</td>\n",
       "      <td>0.002056</td>\n",
       "    </tr>\n",
       "    <tr>\n",
       "      <th>71</th>\n",
       "      <td>close_EMA2</td>\n",
       "      <td>0.001961</td>\n",
       "    </tr>\n",
       "    <tr>\n",
       "      <th>144</th>\n",
       "      <td>close_ALMA4</td>\n",
       "      <td>0.001760</td>\n",
       "    </tr>\n",
       "    <tr>\n",
       "      <th>68</th>\n",
       "      <td>close_WMA2</td>\n",
       "      <td>0.001751</td>\n",
       "    </tr>\n",
       "    <tr>\n",
       "      <th>66</th>\n",
       "      <td>close_SMA2</td>\n",
       "      <td>0.001679</td>\n",
       "    </tr>\n",
       "    <tr>\n",
       "      <th>42</th>\n",
       "      <td>ForceIndex2</td>\n",
       "      <td>0.001456</td>\n",
       "    </tr>\n",
       "    <tr>\n",
       "      <th>33</th>\n",
       "      <td>UO</td>\n",
       "      <td>0.001452</td>\n",
       "    </tr>\n",
       "    <tr>\n",
       "      <th>72</th>\n",
       "      <td>close_DEMA2</td>\n",
       "      <td>0.001449</td>\n",
       "    </tr>\n",
       "    <tr>\n",
       "      <th>1438</th>\n",
       "      <td>log_volume_resid_divide_prev</td>\n",
       "      <td>0.001427</td>\n",
       "    </tr>\n",
       "    <tr>\n",
       "      <th>67</th>\n",
       "      <td>close_SMMA2</td>\n",
       "      <td>0.001422</td>\n",
       "    </tr>\n",
       "    <tr>\n",
       "      <th>88</th>\n",
       "      <td>high_EMA2</td>\n",
       "      <td>0.001398</td>\n",
       "    </tr>\n",
       "    <tr>\n",
       "      <th>93</th>\n",
       "      <td>high_StdDev2</td>\n",
       "      <td>0.001391</td>\n",
       "    </tr>\n",
       "    <tr>\n",
       "      <th>147</th>\n",
       "      <td>close_DEMA4</td>\n",
       "      <td>0.001367</td>\n",
       "    </tr>\n",
       "    <tr>\n",
       "      <th>141</th>\n",
       "      <td>close_SMA4</td>\n",
       "      <td>0.001365</td>\n",
       "    </tr>\n",
       "    <tr>\n",
       "      <th>69</th>\n",
       "      <td>close_ALMA2</td>\n",
       "      <td>0.001335</td>\n",
       "    </tr>\n",
       "    <tr>\n",
       "      <th>220</th>\n",
       "      <td>close_TEMA8</td>\n",
       "      <td>0.001305</td>\n",
       "    </tr>\n",
       "    <tr>\n",
       "      <th>149</th>\n",
       "      <td>close_HMA4</td>\n",
       "      <td>0.001305</td>\n",
       "    </tr>\n",
       "    <tr>\n",
       "      <th>74</th>\n",
       "      <td>close_HMA2</td>\n",
       "      <td>0.001288</td>\n",
       "    </tr>\n",
       "    <tr>\n",
       "      <th>31</th>\n",
       "      <td>AccuDist</td>\n",
       "      <td>0.001284</td>\n",
       "    </tr>\n",
       "    <tr>\n",
       "      <th>1462</th>\n",
       "      <td>close_MeanDev4_over_StdDev4</td>\n",
       "      <td>0.001282</td>\n",
       "    </tr>\n",
       "  </tbody>\n",
       "</table>\n",
       "</div>"
      ],
      "text/plain": [
       "                           feature  importance\n",
       "32                             BOP    0.002056\n",
       "71                      close_EMA2    0.001961\n",
       "144                    close_ALMA4    0.001760\n",
       "68                      close_WMA2    0.001751\n",
       "66                      close_SMA2    0.001679\n",
       "42                     ForceIndex2    0.001456\n",
       "33                              UO    0.001452\n",
       "72                     close_DEMA2    0.001449\n",
       "1438  log_volume_resid_divide_prev    0.001427\n",
       "67                     close_SMMA2    0.001422\n",
       "88                       high_EMA2    0.001398\n",
       "93                    high_StdDev2    0.001391\n",
       "147                    close_DEMA4    0.001367\n",
       "141                     close_SMA4    0.001365\n",
       "69                     close_ALMA2    0.001335\n",
       "220                    close_TEMA8    0.001305\n",
       "149                     close_HMA4    0.001305\n",
       "74                      close_HMA2    0.001288\n",
       "31                        AccuDist    0.001284\n",
       "1462   close_MeanDev4_over_StdDev4    0.001282"
      ]
     },
     "execution_count": 20,
     "metadata": {},
     "output_type": "execute_result"
    }
   ],
   "source": [
    "importance_df = pd.DataFrame()\n",
    "importance_df['feature'] = model_rf.feature_names_in_\n",
    "importance_df['importance'] = model_rf.feature_importances_\n",
    "importance_df.sort_values('importance', ascending=False).head(20)"
   ]
  },
  {
   "cell_type": "markdown",
   "id": "9daa57bc",
   "metadata": {},
   "source": [
    "**Note:**\n",
    "\n",
    "The result is different at different training times, in the reality, we train multiple times the model and choose the one that gives us the best accuracy on the validation set"
   ]
  }
 ],
 "metadata": {
  "kernelspec": {
   "display_name": "Python 3 (ipykernel)",
   "language": "python",
   "name": "python3"
  },
  "language_info": {
   "codemirror_mode": {
    "name": "ipython",
    "version": 3
   },
   "file_extension": ".py",
   "mimetype": "text/x-python",
   "name": "python",
   "nbconvert_exporter": "python",
   "pygments_lexer": "ipython3",
   "version": "3.10.11"
  }
 },
 "nbformat": 4,
 "nbformat_minor": 5
}
