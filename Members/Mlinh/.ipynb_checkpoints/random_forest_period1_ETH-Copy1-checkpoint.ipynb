{
 "cells": [
  {
   "cell_type": "markdown",
   "id": "371c345f",
   "metadata": {},
   "source": [
    "# Imports"
   ]
  },
  {
   "cell_type": "code",
   "execution_count": 20,
   "id": "e805ad0d",
   "metadata": {},
   "outputs": [],
   "source": [
    "import numpy as np\n",
    "import matplotlib.pyplot as plt\n",
    "import pandas as pd\n",
    "from datetime import datetime, date"
   ]
  },
  {
   "cell_type": "markdown",
   "id": "e626b98e",
   "metadata": {},
   "source": [
    "# Load Data\n",
    "* Handle missing values, duplicated values, outlier"
   ]
  },
  {
   "cell_type": "code",
   "execution_count": 21,
   "id": "87e250f7",
   "metadata": {},
   "outputs": [],
   "source": [
    "# Import the dataset\n",
    "total = pd.read_csv(\"https://raw.githubusercontent.com/lavibula/ML20222.PredictionBitcoin/main/working/Data_working.csv\")\n",
    "#cac gia tri row > 4658 duoc xoa -> NULL\n",
    "total = total.loc[:4658,:] \n",
    "\n",
    "# First thing is to fix the data for bars/candles where there are no trades. \n",
    "# Volume/trades are a single event so fill \"NaN\"s with zeroes for relevant fields...\n",
    "total = total.fillna(method='ffill')\n",
    "\n",
    "#encode the date\n",
    "for index in total.index:\n",
    "  total.loc[index, \"Date\"] = datetime.strptime(str(total.loc[index, \"Date\"])[:10], '%d/%m/%Y').date()\n",
    "print(\"Is There any 'NaN' value: \", total.isnull().values.any())\n",
    "print(\"Is there any duplicate value: \", total.index.duplicated().any())\n"
   ]
  },
  {
   "cell_type": "markdown",
   "id": "e3fe0d20",
   "metadata": {},
   "source": [
    "# Slpit Data (Testing, Training Data Sets)"
   ]
  },
  {
   "cell_type": "code",
   "execution_count": 22,
   "id": "7ffd5cfc",
   "metadata": {},
   "outputs": [],
   "source": [
    "\"\"\"# split data\n",
    "prediction_days = 140\n",
    "df_train = historical_df[:len(historical_df) - prediction_days ]\n",
    "df_test  = historical_df[ len(historical_df) - prediction_days:]\n",
    "\n",
    "print(\"PERCENT test/total data = %\", (prediction_days/len(historical_df)) * 100)\n",
    "print(\"train data shape:\", df_train.shape)\n",
    "print(\"test data shape:\", df_test.shape)\n",
    "df_train.head(3)\"\"\"\n",
    "\n",
    "# Indicate the 'start' and 'end' time. \n",
    "Start_day = date(2015, 9, 1)\n",
    "Test_day = date(2018,12,31)\n",
    "End_day = date(2020,1,16)\n",
    "# train, test\n",
    "# find rows between start and end time \n",
    "total = total[(total[\"Date\"] >= Start_day) & (total[\"Date\"] <= End_day)].reset_index(drop = True)\n",
    "train_dataset = total[total[\"Date\"] < Test_day].reset_index(drop = True)\n",
    "test_dataset = total[total[\"Date\"] >= Test_day].reset_index(drop = True)\n",
    "print(\"PERCENT test/total data = %\", (len(test_dataset)/len(total)) * 100)"
   ]
  },
  {
   "cell_type": "code",
   "execution_count": 23,
   "id": "1131eb65",
   "metadata": {},
   "outputs": [],
   "source": [
    "X_train = train_dataset.drop([\"Date\"], axis=1)[:-1]\n",
    "Y_train = train_dataset[\"BTC_close\"][:-1]\n",
    "\n",
    "X_test = test_dataset.drop([\"Date\"], axis=1)[:-1]\n",
    "Y_test = test_dataset[\"BTC_close\"][:-1]\n"
   ]
  },
  {
   "cell_type": "code",
   "execution_count": 24,
   "id": "87af7ff1",
   "metadata": {},
   "outputs": [],
   "source": [
    "# Again fill NaN\n",
    "import numpy as np\n",
    "from sklearn.impute import KNNImputer\n",
    "imputer_train = KNNImputer(n_neighbors=10, weights=\"uniform\")\n",
    "imputer_train.fit_transform(X_train)\n",
    "\n",
    "print(\"Is There any 'NaN' value: \", X_train.isnull().values.any())\n",
    "print(\"Is there any duplicate value: \", X_train.index.duplicated().any())"
   ]
  },
  {
   "cell_type": "markdown",
   "id": "7e9cb2ec",
   "metadata": {},
   "source": [
    "# Load Model"
   ]
  },
  {
   "cell_type": "code",
   "execution_count": 25,
   "id": "53c11106",
   "metadata": {},
   "outputs": [],
   "source": [
    "#import sklearn modules\n",
    "from sklearn import tree\n",
    "from time import *\n",
    "from sklearn.ensemble import RandomForestRegressor"
   ]
  },
  {
   "cell_type": "code",
   "execution_count": 26,
   "id": "53c4263d",
   "metadata": {},
   "outputs": [],
   "source": [
    "start_time = time()\n",
    "simpleTree = RandomForestRegressor(max_depth=10, n_estimators=500)\n",
    "#Xây dựng cây hồi quy với độ sâu cây là 10 (Random forest), 500 cây\n",
    "simpleTree.fit(X_train, Y_train)\n",
    "end_time = time()\n",
    "elapsed_time = end_time - start_time\n",
    "print(\"Time to train model: %.3f seconds\" % elapsed_time)"
   ]
  },
  {
   "cell_type": "markdown",
   "id": "35ba925a",
   "metadata": {},
   "source": [
    "# Graph Predicted Values with Training Set"
   ]
  },
  {
   "cell_type": "code",
   "execution_count": 27,
   "id": "d9a4bb41",
   "metadata": {},
   "outputs": [],
   "source": [
    "# Importance of variables\n",
    "features = X_train.columns\n",
    "importances = simpleTree.feature_importances_\n",
    "indices = np.argsort(importances)\n",
    "plt.figure(figsize=(12,12))\n",
    "plt.barh(range(len(indices)), importances[indices])\n",
    "plt.yticks(range(len(indices)), features[indices])\n",
    "plt.title(\"Variables Ranks in Period 1\")\n",
    "plt.show()"
   ]
  },
  {
   "cell_type": "code",
   "execution_count": 28,
   "id": "bda3d85c",
   "metadata": {},
   "outputs": [],
   "source": [
    "total_without_date = total.drop('Date', axis=1)\n",
    "#total_without_date = total_without_date.drop('NEXT_CLOSE', axis=1)\n",
    "\n",
    "#total_without_date "
   ]
  },
  {
   "cell_type": "code",
   "execution_count": 29,
   "id": "54a48092",
   "metadata": {},
   "outputs": [],
   "source": [
    "#total_without_date.corr()"
   ]
  },
  {
   "cell_type": "code",
   "execution_count": 30,
   "id": "c896e71c",
   "metadata": {},
   "outputs": [],
   "source": [
    "import seaborn as sns\n",
    "#sns.heatmap(total_without_date.corr(), cmap=\"viridis\")\n",
    "#sns.heatmap(total_without_date.corr(), cmap=\"plasma\")\n",
    "#sns.heatmap(total_without_date.corr(), cmap=\"inferno\")\n",
    "#sns.heatmap(total_without_date.corr(), cmap=\"magma\")\n",
    "#sns.heatmap(total_without_date.corr(), cmap=\"cividis\")\n",
    "sns.heatmap(total_without_date.corr(), cmap=\"RdBu\")\n",
    "#sns.heatmap(total_without_date.corr(), cmap=\"YlGnBu\")\n",
    "#sns.heatmap(total_without_date.corr(), cmap=\"YlOrBr\")\n",
    "\n"
   ]
  },
  {
   "cell_type": "markdown",
   "id": "368006c9",
   "metadata": {},
   "source": [
    "# Graph Predicted Values with Test Set"
   ]
  },
  {
   "cell_type": "code",
   "execution_count": 31,
   "id": "aa7a7be1",
   "metadata": {},
   "outputs": [],
   "source": [
    "#so sanh cac gia tri du doan va quan sat\n",
    "Y_pred = simpleTree.predict(X_test)\n",
    "#hien thi ket qua du doan\n",
    "fig, ax = plt.subplots(1, 1, figsize=(14, 5))\n",
    "ax.plot(Y_test, color = 'red', label=\"Bitcoin Price\")\n",
    "ax.plot(Y_pred, color = 'green', label=\"Predicted Bitcoin Price\", linestyle=\"dashed\")\n",
    "ax.yaxis.set_major_formatter(plt.FuncFormatter(lambda x, loc: \"{:,}\".format(int(x))))  # .3f\n",
    "plt.title(\"Random Forest Regression for Period 1\")\n",
    "plt.legend()\n",
    "plt.show()"
   ]
  },
  {
   "cell_type": "markdown",
   "id": "72b721c2",
   "metadata": {},
   "source": [
    "# Visualising the results"
   ]
  },
  {
   "cell_type": "code",
   "execution_count": 32,
   "id": "e15c2c36",
   "metadata": {},
   "outputs": [],
   "source": [
    "fig, ax = plt.subplots(1, 1, figsize=(20, 4))\n",
    "ax.plot(total['Date'], total['BTC_close'], color='red', label=\"Bitcoin Price\")\n",
    "ax.plot(total['Date'][:len(Y_pred)], Y_pred, color='green', label=\"Predicted Bitcoin Price\", linestyle=\"dashed\")\n",
    "ax.yaxis.set_major_formatter(plt.FuncFormatter(lambda x, loc: \"{:,}\".format(int(x))))  # .3f\n",
    "plt.title(\"Random Forest Regression for Period 1\")\n",
    "plt.legend()\n",
    "plt.show()\n"
   ]
  },
  {
   "cell_type": "code",
   "execution_count": 33,
   "id": "b52ed10b",
   "metadata": {},
   "outputs": [],
   "source": [
    "fig, ax = plt.subplots(figsize=(13, 5))\n",
    "\n",
    "ax.plot(total['Date'], total['BTC_close'], color='blue', label=\"Bitcoin Price\")\n",
    "ax.plot(total['Date'][-len(Y_train):], Y_train, color='pink', label=\"Training Data\")\n",
    "ax.plot(total['Date'][:len(Y_test)], Y_test, color='orange', label=\"Test Data\")\n",
    "ax.plot(total['Date'][:len(Y_pred)], Y_pred, color='purple', label=\"Predicted Bitcoin Price\", linestyle=\"dashed\")\n",
    "ax.yaxis.set_major_formatter(plt.FuncFormatter(lambda x, loc: \"{:,}\".format(int(x)))) # Định dạng đường trục y\n",
    "plt.legend()\n",
    "plt.show()\n"
   ]
  },
  {
   "cell_type": "markdown",
   "id": "38cf62f0",
   "metadata": {},
   "source": [
    "# Evaluation metrics RMSE, MAPE, DA"
   ]
  },
  {
   "cell_type": "code",
   "execution_count": 34,
   "id": "b8122476",
   "metadata": {},
   "outputs": [],
   "source": [
    "#tinh toan loi du doan\n",
    "#RMSE\n",
    "from time import *\n",
    "from sklearn.metrics import mean_squared_error\n",
    "\n",
    "start_time = time()\n",
    "\n",
    "print(\"RMSE:\", np.sqrt(mean_squared_error(Y_test, Y_pred)))\n",
    "print()\n",
    "\n",
    "#MAPE\n",
    "MAPE = np.average(np.abs((Y_test.values - Y_pred) / Y_test.values))\n",
    "print(\"MAPE:\", MAPE)\n",
    "print()\n",
    "\n",
    "#DA\n",
    "Y_test_DA = np.array(Y_test)\n",
    "Y_pred_0 = Y_pred[1:] - Y_test_DA[:-1]\n",
    "Y_test_0 = Y_test[1:] - Y_test_DA[:-1]\n",
    "DA = (Y_pred_0<0) == (Y_test_0<0)\n",
    "print(\"DA accuracy:\", f\"{round(np.mean(DA)*100, 2)}%\")\n",
    "\n",
    "end_time = time()\n",
    "elapsed_time = end_time - start_time\n",
    "print(\"Time to evaluate model: %.3f seconds\" % elapsed_time)"
   ]
  },
  {
   "cell_type": "markdown",
   "id": "086cd6b1",
   "metadata": {},
   "source": [
    "# Some Importance Features \n"
   ]
  },
  {
   "cell_type": "code",
   "execution_count": 35,
   "id": "f2117e00",
   "metadata": {},
   "outputs": [],
   "source": [
    "X1 = train_dataset.loc[:, 'BTC_close':'BTC_low']\n",
    "X2 = train_dataset.loc[:, 'ETH':'XRP']\n",
    "X3 = train_dataset.loc[:, 'COPPER':'JP225']\n",
    "\n",
    "Xtrain = pd.concat([X1, X2, X3], axis=1)\n",
    "Xtrain.head()\n"
   ]
  },
  {
   "cell_type": "markdown",
   "id": "0a3855ca",
   "metadata": {},
   "source": [
    "# Visualising the Results when Removing some Importance Features"
   ]
  },
  {
   "cell_type": "code",
   "execution_count": 37,
   "id": "48b51ef0",
   "metadata": {},
   "outputs": [],
   "source": [
    "RMSE_list = []\n",
    "MAPE_list = []\n",
    "DA_list = []\n",
    "\n",
    "for columnName in Xtrain:\n",
    "    X_train_re = X_train.drop([columnName],axis=1)[1:]\n",
    "    Y_train_re = X_train['BTC_close'][:-1]\n",
    "    \n",
    "    print(X_train_re.head(3))\n",
    "    print(Y_train_re.head(3))\n",
    "    \n",
    "    X_test_re = X_test.drop([columnName],axis=1)[1:]\n",
    "    Y_test_re = X_test['BTC_close'][:-1]\n",
    "    print(X_test_re.head(3))\n",
    "    print(Y_test_re.head(3))\n",
    "    \n",
    "    simpleTree = RandomForestRegressor(max_depth=10, n_estimators=500)\n",
    "    simpleTree.fit(X_train_re, Y_train_re)\n",
    "    Y_pred_re = simpleTree.predict(X_test_re)\n",
    "    \n",
    " \"\"\"   \n",
    "    #tinh toan loi du doan\n",
    "    #RMSE\n",
    "    from sklearn.metrics import mean_squared_error\n",
    "    print(\"RMSE:\", np.sqrt(mean_squared_error(Y_test_re, Y_pred_re)))\n",
    "    print()\n",
    "    RMSE_list.append(np.sqrt(mean_squared_error(Y_test_re, Y_pred_re)))\n",
    "    \n",
    "labels = Xtrain.columns.tolist()\n",
    "x = np.arange(len(labels))  # the label locations\n",
    "width = 0.3  # the width of the bars\n",
    "\n",
    "fig, ax = plt.subplots(figsize=(14,5))\n",
    "rects2 = ax.bar(x, RMSE_list, width, label='RMSE')\n",
    "\n",
    "# Add some text for labels, title and custom x-axis tick labels, etc.\n",
    "ax.set_ylabel('Score')\n",
    "ax.set_title('Comparison of RMSE, and DA')\n",
    "ax.set_xticks(x)\n",
    "ax.set_xticklabels(labels)\n",
    "ax.legend()\n",
    "\n",
    "fig.tight_layout()\n",
    "\n",
    "plt.show()\"\"\""
   ]
  },
  {
   "cell_type": "code",
   "execution_count": null,
   "id": "498894e1",
   "metadata": {},
   "outputs": [],
   "source": []
  },
  {
   "cell_type": "code",
   "execution_count": null,
   "id": "9bac15c6",
   "metadata": {},
   "outputs": [],
   "source": []
  },
  {
   "cell_type": "code",
   "execution_count": null,
   "id": "e5e09009",
   "metadata": {},
   "outputs": [],
   "source": []
  }
 ],
 "metadata": {
  "kernelspec": {
   "display_name": "Python 3 (ipykernel)",
   "language": "python",
   "name": "python3"
  },
  "language_info": {
   "codemirror_mode": {
    "name": "ipython",
    "version": 3
   },
   "file_extension": ".py",
   "mimetype": "text/x-python",
   "name": "python",
   "nbconvert_exporter": "python",
   "pygments_lexer": "ipython3",
   "version": "3.10.9"
  }
 },
 "nbformat": 4,
 "nbformat_minor": 5
}
