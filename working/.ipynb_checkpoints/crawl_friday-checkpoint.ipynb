{
 "cells": [
  {
   "cell_type": "code",
   "execution_count": null,
   "metadata": {},
   "outputs": [],
   "source": [
    "import pandas as pd\n",
    "\n",
    "# Đọc tập dữ liệu\n",
    "df = pd.read_csv(\"working/test_friday.csv\")  # Thay thế \"du_lieu.csv\" bằng đường dẫn và tên tập dữ liệu của bạn\n",
    "\n",
    "# Kiểm tra và xác định các dòng dữ liệu thiếu\n",
    "missing_rows = df[(df[\"Date\"].dt.weekday == 5) | (df[\"Date\"].dt.weekday == 6) & df.isnull().any(axis=1)]\n",
    "\n",
    "# Lấy giá trị cuối cùng từ thứ 6\n",
    "last_friday_data = df.loc[df[\"Date\"].dt.weekday == 4].iloc[-1]\n",
    "\n",
    "# Điền dữ liệu thiếu\n",
    "for column in df.columns:\n",
    "    df.loc[missing_rows.index, column] = last_friday_data[column]\n",
    "\n",
    "# Lưu tập dữ liệu đã điền\n",
    "df.to_csv(\"working/du_lieu_da_dien.csv\", index=False)  # Thay thế \"du_lieu_da_dien.csv\" bằng đường dẫn và tên tập dữ liệu đã điền của bạn\n"
   ]
  },
  {
   "cell_type": "code",
   "execution_count": null,
   "metadata": {},
   "outputs": [],
   "source": []
  }
 ],
 "metadata": {
  "kernelspec": {
   "display_name": "Python 3 (ipykernel)",
   "language": "python",
   "name": "python3"
  },
  "language_info": {
   "codemirror_mode": {
    "name": "ipython",
    "version": 3
   },
   "file_extension": ".py",
   "mimetype": "text/x-python",
   "name": "python",
   "nbconvert_exporter": "python",
   "pygments_lexer": "ipython3",
   "version": "3.10.9"
  }
 },
 "nbformat": 4,
 "nbformat_minor": 2
}
