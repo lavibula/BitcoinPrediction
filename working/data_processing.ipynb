{
 "cells": [
  {
   "cell_type": "code",
   "execution_count": null,
   "metadata": {},
   "outputs": [],
   "source": [
    "import pandas as pd\n",
    "from datetime import datetime, date"
   ]
  },
  {
   "cell_type": "code",
   "execution_count": null,
   "metadata": {},
   "outputs": [],
   "source": [
    "# Đọc tập dữ liệu\n",
    "df = pd.read_csv(\"https://raw.githubusercontent.com/lavibula/ML20222.PredictionBitcoin/main/working/Data_working.csv\")\n",
    "df = df.loc[:4654,:] "
   ]
  },
  {
   "cell_type": "code",
   "execution_count": null,
   "metadata": {},
   "outputs": [],
   "source": [
    "\n",
    "# Exclude missing values and convert 'Date' column to datetime\n",
    "df['Date'] = pd.to_datetime(df['Date'], dayfirst=True, errors='coerce')\n",
    "\n",
    "# Get the earliest date by excluding missing values\n",
    "earliest_date = df['Date'].dropna().min()\n",
    "\n",
    "# Iterate over each row in the DataFrame\n",
    "for index, row in df.iterrows():\n",
    "    date = row['Date']\n",
    "    # Check if the date value is missing (NaN)\n",
    "    if pd.isnull(date):\n",
    "        # Assign the earliest date to the missing value\n",
    "        df.at[index, 'Date'] = earliest_date\n",
    "\n",
    "# Convert the 'Date' column to datetime\n",
    "df['Date'] = pd.to_datetime(df['Date'])"
   ]
  },
  {
   "cell_type": "code",
   "execution_count": null,
   "metadata": {},
   "outputs": [],
   "source": [
    "df.head()"
   ]
  },
  {
   "cell_type": "code",
   "execution_count": null,
   "metadata": {},
   "outputs": [],
   "source": [
    "df = df.sort_values('Date', ascending=True)\n",
    "\n",
    "#df.head(20)"
   ]
  },
  {
   "cell_type": "code",
   "execution_count": null,
   "metadata": {},
   "outputs": [],
   "source": [
    "df_filled = df.fillna(method='ffill', axis=0)"
   ]
  },
  {
   "cell_type": "code",
   "execution_count": null,
   "metadata": {},
   "outputs": [],
   "source": [
    "print(\"Is There any 'NaN' value: \", df_filled.isnull().values.any())\n",
    "print(\"Is there any duplicate value: \", df_filled.index.duplicated().any())"
   ]
  },
  {
   "cell_type": "code",
   "execution_count": null,
   "metadata": {},
   "outputs": [],
   "source": [
    "#df_filled"
   ]
  },
  {
   "cell_type": "code",
   "execution_count": null,
   "metadata": {},
   "outputs": [],
   "source": [
    "df_filled.to_csv(\"/Users/ibulmnie/Documents/GitHub/ML20222.PredictionBitcoin/working/saved_data.csv\", index=False)"
   ]
  },
  {
   "cell_type": "markdown",
   "metadata": {},
   "source": [
    "dữ liệu chúng ta lấy ETH xuất hiện từ 10/3 -> trễ vài tháng so với các kênh dữ liệu khác, nhưng mà thật ra chả ảnh hưởng nhiều\n",
    "\n",
    "6/3/2017 tất cả các cột đều full data"
   ]
  },
  {
   "cell_type": "code",
   "execution_count": null,
   "metadata": {},
   "outputs": [],
   "source": [
    "# Lọc dữ liệu từ ngày 19/07/2010 đến ngày 07/08/2015\n",
    "start_date = pd.to_datetime('19/07/2010', dayfirst=True)\n",
    "end_date = pd.to_datetime('10/03/2016', dayfirst=True)\n",
    "filtered_df = df_filled.loc[(df_filled['Date'] >= start_date) & (df_filled['Date'] <= end_date)]\n",
    "\n",
    "# In dữ liệu đã lọc\n",
    "#filtered_df\n"
   ]
  },
  {
   "cell_type": "code",
   "execution_count": null,
   "metadata": {},
   "outputs": [],
   "source": [
    "# Lọc dữ liệu từ ngày 19/07/2010 đến ngày 07/08/2015\n",
    "start_date = pd.to_datetime('06/07/2017', dayfirst=True)\n",
    "end_date = pd.to_datetime('16/04/2023', dayfirst=True)\n",
    "filtered_df_new = df_filled.loc[(df_filled['Date'] >= start_date) & (df_filled['Date'] <= end_date)]\n",
    "\n",
    "# In dữ liệu đã lọc\n",
    "filtered_df_new.tail()"
   ]
  },
  {
   "cell_type": "code",
   "execution_count": null,
   "metadata": {},
   "outputs": [],
   "source": [
    "print(\"Is There any 'NaN' value: \", filtered_df_new.isnull().values.any())\n",
    "print(\"Is there any duplicate value: \", filtered_df_new.index.duplicated().any())"
   ]
  },
  {
   "cell_type": "code",
   "execution_count": null,
   "metadata": {},
   "outputs": [],
   "source": []
  }
 ],
 "metadata": {
  "kernelspec": {
   "display_name": "Python 3 (ipykernel)",
   "language": "python",
   "name": "python3"
  },
  "language_info": {
   "codemirror_mode": {
    "name": "ipython",
    "version": 3
   },
   "file_extension": ".py",
   "mimetype": "text/x-python",
   "name": "python",
   "nbconvert_exporter": "python",
   "pygments_lexer": "ipython3",
   "version": "3.10.9"
  }
 },
 "nbformat": 4,
 "nbformat_minor": 2
}
