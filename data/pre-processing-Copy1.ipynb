{
 "cells": [
  {
   "cell_type": "markdown",
   "id": "5315d982",
   "metadata": {},
   "source": [
    "# Data Pre-processing"
   ]
  },
  {
   "cell_type": "markdown",
   "id": "39efd413",
   "metadata": {},
   "source": [
    "## A. Data Entry"
   ]
  },
  {
   "cell_type": "code",
   "execution_count": 5,
   "id": "3d452011",
   "metadata": {},
   "outputs": [],
   "source": [
    "import numpy as np \n",
    "import pandas as pd\n",
    "import matplotlib.pyplot as plt \n",
    "import seaborn as sns\n",
    "import utils\n",
    "from scipy.stats import skew\n",
    "import math\n",
    "import re\n",
    "from collections import deque"
   ]
  },
  {
   "cell_type": "code",
   "execution_count": 10,
   "id": "80116c66",
   "metadata": {},
   "outputs": [],
   "source": [
    "# load the data set\n",
    "df = pd.read_csv(\"https://raw.githubusercontent.com/lavibula/ML20222.PredictionBitcoin/main/data/raw_data.csv\")"
   ]
  },
  {
   "cell_type": "code",
   "execution_count": 11,
   "id": "1e2dcfc4",
   "metadata": {},
   "outputs": [
    {
     "data": {
      "text/html": [
       "<div>\n",
       "<style scoped>\n",
       "    .dataframe tbody tr th:only-of-type {\n",
       "        vertical-align: middle;\n",
       "    }\n",
       "\n",
       "    .dataframe tbody tr th {\n",
       "        vertical-align: top;\n",
       "    }\n",
       "\n",
       "    .dataframe thead th {\n",
       "        text-align: right;\n",
       "    }\n",
       "</style>\n",
       "<table border=\"1\" class=\"dataframe\">\n",
       "  <thead>\n",
       "    <tr style=\"text-align: right;\">\n",
       "      <th></th>\n",
       "      <th>Date</th>\n",
       "      <th>BTC_close</th>\n",
       "      <th>BTC_open</th>\n",
       "      <th>BTC_high</th>\n",
       "      <th>BTC_low</th>\n",
       "      <th>BTC_volume</th>\n",
       "      <th>BTC_change</th>\n",
       "      <th>difficulty</th>\n",
       "      <th>addresses_active_count</th>\n",
       "      <th>sum_block_weight</th>\n",
       "      <th>...</th>\n",
       "      <th>ETH</th>\n",
       "      <th>LTC</th>\n",
       "      <th>XRP</th>\n",
       "      <th>DOGE</th>\n",
       "      <th>COPPER</th>\n",
       "      <th>GOLD</th>\n",
       "      <th>SILVER</th>\n",
       "      <th>SPX</th>\n",
       "      <th>JP225</th>\n",
       "      <th>DJI</th>\n",
       "    </tr>\n",
       "  </thead>\n",
       "  <tbody>\n",
       "    <tr>\n",
       "      <th>0</th>\n",
       "      <td>6/22/2023</td>\n",
       "      <td>29890.5</td>\n",
       "      <td>29992.8</td>\n",
       "      <td>30497.8</td>\n",
       "      <td>29590.4</td>\n",
       "      <td>79.22</td>\n",
       "      <td>-0.0035</td>\n",
       "      <td>52350439455487</td>\n",
       "      <td>1000988</td>\n",
       "      <td>547153915</td>\n",
       "      <td>...</td>\n",
       "      <td>1872.32</td>\n",
       "      <td>85.97</td>\n",
       "      <td>0.49401</td>\n",
       "      <td>0.065567</td>\n",
       "      <td>3.8900</td>\n",
       "      <td>1923.70</td>\n",
       "      <td>22.467</td>\n",
       "      <td>4381.89</td>\n",
       "      <td>33445.0</td>\n",
       "      <td>34210.0</td>\n",
       "    </tr>\n",
       "    <tr>\n",
       "      <th>1</th>\n",
       "      <td>6/21/2023</td>\n",
       "      <td>29996.9</td>\n",
       "      <td>28307.7</td>\n",
       "      <td>30769.5</td>\n",
       "      <td>28270.5</td>\n",
       "      <td>143.49</td>\n",
       "      <td>0.0597</td>\n",
       "      <td>52350439455487</td>\n",
       "      <td>920555</td>\n",
       "      <td>483181576</td>\n",
       "      <td>...</td>\n",
       "      <td>1889.87</td>\n",
       "      <td>85.12</td>\n",
       "      <td>0.49995</td>\n",
       "      <td>0.065644</td>\n",
       "      <td>3.9135</td>\n",
       "      <td>1944.90</td>\n",
       "      <td>22.810</td>\n",
       "      <td>4365.69</td>\n",
       "      <td>33390.0</td>\n",
       "      <td>34235.0</td>\n",
       "    </tr>\n",
       "    <tr>\n",
       "      <th>2</th>\n",
       "      <td>6/20/2023</td>\n",
       "      <td>28307.7</td>\n",
       "      <td>26845.9</td>\n",
       "      <td>28393.0</td>\n",
       "      <td>26665.5</td>\n",
       "      <td>100.55</td>\n",
       "      <td>0.0544</td>\n",
       "      <td>52350439455487</td>\n",
       "      <td>951926</td>\n",
       "      <td>543133484</td>\n",
       "      <td>...</td>\n",
       "      <td>1791.61</td>\n",
       "      <td>80.31</td>\n",
       "      <td>0.49270</td>\n",
       "      <td>0.063108</td>\n",
       "      <td>3.8835</td>\n",
       "      <td>1947.70</td>\n",
       "      <td>23.234</td>\n",
       "      <td>4388.71</td>\n",
       "      <td>33155.0</td>\n",
       "      <td>34356.0</td>\n",
       "    </tr>\n",
       "    <tr>\n",
       "      <th>3</th>\n",
       "      <td>6/19/2023</td>\n",
       "      <td>26845.9</td>\n",
       "      <td>26339.7</td>\n",
       "      <td>27029.7</td>\n",
       "      <td>26295.1</td>\n",
       "      <td>46.45</td>\n",
       "      <td>0.0192</td>\n",
       "      <td>52350439455487</td>\n",
       "      <td>920552</td>\n",
       "      <td>567091224</td>\n",
       "      <td>...</td>\n",
       "      <td>1737.06</td>\n",
       "      <td>77.51</td>\n",
       "      <td>0.49341</td>\n",
       "      <td>0.062429</td>\n",
       "      <td>3.8643</td>\n",
       "      <td>1964.05</td>\n",
       "      <td>24.062</td>\n",
       "      <td>NaN</td>\n",
       "      <td>NaN</td>\n",
       "      <td>NaN</td>\n",
       "    </tr>\n",
       "    <tr>\n",
       "      <th>4</th>\n",
       "      <td>6/18/2023</td>\n",
       "      <td>26339.7</td>\n",
       "      <td>26515.0</td>\n",
       "      <td>26679.3</td>\n",
       "      <td>26290.6</td>\n",
       "      <td>27.31</td>\n",
       "      <td>-0.0066</td>\n",
       "      <td>52350439455487</td>\n",
       "      <td>883864</td>\n",
       "      <td>603064705</td>\n",
       "      <td>...</td>\n",
       "      <td>1720.98</td>\n",
       "      <td>77.20</td>\n",
       "      <td>0.48699</td>\n",
       "      <td>0.062107</td>\n",
       "      <td>3.8738</td>\n",
       "      <td>1969.45</td>\n",
       "      <td>24.198</td>\n",
       "      <td>NaN</td>\n",
       "      <td>NaN</td>\n",
       "      <td>NaN</td>\n",
       "    </tr>\n",
       "  </tbody>\n",
       "</table>\n",
       "<p>5 rows × 25 columns</p>\n",
       "</div>"
      ],
      "text/plain": [
       "        Date  BTC_close  BTC_open  BTC_high  BTC_low BTC_volume  BTC_change   \n",
       "0  6/22/2023    29890.5   29992.8   30497.8  29590.4      79.22     -0.0035  \\\n",
       "1  6/21/2023    29996.9   28307.7   30769.5  28270.5     143.49      0.0597   \n",
       "2  6/20/2023    28307.7   26845.9   28393.0  26665.5     100.55      0.0544   \n",
       "3  6/19/2023    26845.9   26339.7   27029.7  26295.1      46.45      0.0192   \n",
       "4  6/18/2023    26339.7   26515.0   26679.3  26290.6      27.31     -0.0066   \n",
       "\n",
       "       difficulty  addresses_active_count  sum_block_weight  ...      ETH   \n",
       "0  52350439455487                 1000988         547153915  ...  1872.32  \\\n",
       "1  52350439455487                  920555         483181576  ...  1889.87   \n",
       "2  52350439455487                  951926         543133484  ...  1791.61   \n",
       "3  52350439455487                  920552         567091224  ...  1737.06   \n",
       "4  52350439455487                  883864         603064705  ...  1720.98   \n",
       "\n",
       "     LTC      XRP      DOGE  COPPER     GOLD  SILVER      SPX    JP225   \n",
       "0  85.97  0.49401  0.065567  3.8900  1923.70  22.467  4381.89  33445.0  \\\n",
       "1  85.12  0.49995  0.065644  3.9135  1944.90  22.810  4365.69  33390.0   \n",
       "2  80.31  0.49270  0.063108  3.8835  1947.70  23.234  4388.71  33155.0   \n",
       "3  77.51  0.49341  0.062429  3.8643  1964.05  24.062      NaN      NaN   \n",
       "4  77.20  0.48699  0.062107  3.8738  1969.45  24.198      NaN      NaN   \n",
       "\n",
       "       DJI  \n",
       "0  34210.0  \n",
       "1  34235.0  \n",
       "2  34356.0  \n",
       "3      NaN  \n",
       "4      NaN  \n",
       "\n",
       "[5 rows x 25 columns]"
      ]
     },
     "execution_count": 11,
     "metadata": {},
     "output_type": "execute_result"
    }
   ],
   "source": [
    "df.head()"
   ]
  },
  {
   "cell_type": "raw",
   "id": "d2fffec3",
   "metadata": {},
   "source": [
    "Check the number of rows and columns"
   ]
  },
  {
   "cell_type": "code",
   "execution_count": 12,
   "id": "bcd3b9a8",
   "metadata": {},
   "outputs": [
    {
     "name": "stdout",
     "output_type": "stream",
     "text": [
      "There are 2661 rows.\n",
      "There are 25 columns.\n"
     ]
    }
   ],
   "source": [
    "rows, cols = df.shape\n",
    "print(\"There are {} rows.\".format(rows))\n",
    "print(\"There are {} columns.\".format(cols))"
   ]
  },
  {
   "cell_type": "code",
   "execution_count": 13,
   "id": "e9bed342",
   "metadata": {},
   "outputs": [
    {
     "name": "stdout",
     "output_type": "stream",
     "text": [
      "<class 'pandas.core.frame.DataFrame'>\n",
      "RangeIndex: 2661 entries, 0 to 2660\n",
      "Data columns (total 25 columns):\n",
      " #   Column                  Non-Null Count  Dtype  \n",
      "---  ------                  --------------  -----  \n",
      " 0   Date                    2661 non-null   object \n",
      " 1   BTC_close               2661 non-null   float64\n",
      " 2   BTC_open                2661 non-null   float64\n",
      " 3   BTC_high                2661 non-null   float64\n",
      " 4   BTC_low                 2661 non-null   float64\n",
      " 5   BTC_volume              2661 non-null   object \n",
      " 6   BTC_change              2661 non-null   float64\n",
      " 7   difficulty              2661 non-null   int64  \n",
      " 8   addresses_active_count  2661 non-null   int64  \n",
      " 9   sum_block_weight        2661 non-null   int64  \n",
      " 10  mean_block_size_bytes   2661 non-null   float64\n",
      " 11  total_fees_usd          2661 non-null   float64\n",
      " 12  mean_hash_rate          2661 non-null   float64\n",
      " 13  xfer_cnt                2661 non-null   int64  \n",
      " 14  mean_tx_size_usd        2661 non-null   float64\n",
      " 15  ETH                     2211 non-null   float64\n",
      " 16  LTC                     2211 non-null   float64\n",
      " 17  XRP                     2211 non-null   float64\n",
      " 18  DOGE                    2211 non-null   float64\n",
      " 19  COPPER                  1791 non-null   float64\n",
      " 20  GOLD                    1791 non-null   float64\n",
      " 21  SILVER                  1791 non-null   float64\n",
      " 22  SPX                     1770 non-null   float64\n",
      " 23  JP225                   1770 non-null   float64\n",
      " 24  DJI                     1770 non-null   float64\n",
      "dtypes: float64(19), int64(4), object(2)\n",
      "memory usage: 519.9+ KB\n"
     ]
    }
   ],
   "source": [
    "# check data type\n",
    "df.info(verbose = True)"
   ]
  },
  {
   "cell_type": "markdown",
   "id": "3381eec2",
   "metadata": {},
   "source": [
    "## B. Data Preprocessing"
   ]
  },
  {
   "cell_type": "markdown",
   "id": "32097d89",
   "metadata": {},
   "source": [
    "This section focuses on enhancing the data quality by finding the caveats of the data set and manipulating and dropping data before feeding them into the model's input pipeline. \n",
    "It also involves feature selection methods aimed at eliminating features that have the least impact on the target variable."
   ]
  },
  {
   "cell_type": "markdown",
   "id": "c73bfd5a",
   "metadata": {},
   "source": [
    "## 1. Evaluating Target Variables"
   ]
  },
  {
   "cell_type": "markdown",
   "id": "8cbc55cb",
   "metadata": {},
   "source": [
    "Since the objective is to predict the price of Bitcoin, which is represented by the \"BTC_close\" variable, it is essential to ensure that \"BTC_close\" is valid for all records. \n",
    "Otherwise, if there are missing or invalid values in the \"BTC_close\" variable, it would result in the absence of a target variable for the predictive model."
   ]
  },
  {
   "cell_type": "code",
   "execution_count": 14,
   "id": "7b8855ef",
   "metadata": {},
   "outputs": [
    {
     "data": {
      "text/plain": [
       "count     2661.000000\n",
       "mean     16198.044645\n",
       "std      16290.779916\n",
       "min        408.200000\n",
       "25%       4145.100000\n",
       "50%       9310.800000\n",
       "75%      23474.900000\n",
       "max      67527.900000\n",
       "Name: BTC_close, dtype: float64"
      ]
     },
     "execution_count": 14,
     "metadata": {},
     "output_type": "execute_result"
    }
   ],
   "source": [
    "df['BTC_close'].describe()"
   ]
  },
  {
   "cell_type": "code",
   "execution_count": 15,
   "id": "865cf2a5",
   "metadata": {},
   "outputs": [
    {
     "name": "stdout",
     "output_type": "stream",
     "text": [
      "Number of records with NULL price:  0\n"
     ]
    }
   ],
   "source": [
    "print(\"Number of records with NULL price: \", df['BTC_close'].isna().sum())"
   ]
  },
  {
   "cell_type": "code",
   "execution_count": 16,
   "id": "d0956192",
   "metadata": {},
   "outputs": [
    {
     "name": "stdout",
     "output_type": "stream",
     "text": [
      "Number of records with NULL price:  0\n",
      "--------------------------------------------------\n",
      "There are 2661 rows.\n",
      "There are 25 columns.\n"
     ]
    }
   ],
   "source": [
    "# collect the row indices where pice is NULL\n",
    "price_isna_idx = np.where(df['BTC_close'].isna()==True)[0]\n",
    "# remove the rows where target price is not available \n",
    "df.drop(price_isna_idx, axis=0, inplace=True)\n",
    "print(\"Number of records with NULL price: \", df['BTC_close'].isna().sum())\n",
    "print(\"-\"*50)\n",
    "rows, cols = df.shape\n",
    "print(\"There are {} rows.\".format(rows))\n",
    "print(\"There are {} columns.\".format(cols))"
   ]
  },
  {
   "cell_type": "markdown",
   "id": "8b04f034",
   "metadata": {},
   "source": [
    "Before clipping the values of the target variables"
   ]
  },
  {
   "cell_type": "code",
   "execution_count": 17,
   "id": "3e481280",
   "metadata": {},
   "outputs": [
    {
     "name": "stdout",
     "output_type": "stream",
     "text": [
      "Skewness:  1.2199621647733099\n"
     ]
    },
    {
     "data": {
      "image/png": "[encoded data removed]",
      "text/plain": [
       "<Figure size 800x500 with 1 Axes>"
      ]
     },
     "metadata": {},
     "output_type": "display_data"
    }
   ],
   "source": [
    "sns.set_theme()\n",
    "price_dist = sns.displot(df['BTC_close'], kde=True)\n",
    "price_dist.fig.set_size_inches(8,5)\n",
    "print(\"Skewness: \", df['BTC_close'].skew())"
   ]
  },
  {
   "cell_type": "markdown",
   "id": "0a62ed2f",
   "metadata": {},
   "source": [
    "?????? Các giá trị ngoại lai có thể mang thông tin quan trọng hoặc đại diện cho các biến động đặc biệt trong thị trường Bitcoin. Nếu xóa các giá trị này, có thể mất đi một phần quan trọng của thông tin và dẫn đến kết quả dự đoán không chính xác. => không xoá nhỉ\n",
    "Lý do: \n",
    "1. Quan sát biến động cao: Giá Bitcoin có thể biến động mạnh và có những giai đoạn tăng giá đáng kể. Các giá trị ngoại lai có thể đại diện cho những biến động này và mang thông tin quan trọng về sự biến động của thị trường Bitcoin. Bằng cách giữ lại các giá trị ngoại lai, bạn có thể cho phép mô hình học hỏi và ứng phó với những biến động tương tự trong tương lai.\n",
    "\n",
    "2. Quan tâm đến sự biến đổi đặc biệt: Các giá trị ngoại lai có thể đại diện cho các sự kiện đặc biệt hoặc các yếu tố độc đáo trong thị trường Bitcoin. Bằng cách giữ lại các giá trị này, bạn có thể cho phép mô hình nhận biết và tìm hiểu về các yếu tố đặc biệt này, giúp cải thiện khả năng dự đoán trong tương lai.\n",
    "\n",
    "3. Tiềm năng lợi nhuận cao: Vì giá Bitcoin có thể tăng lên rất cao, việc giữ lại các giá trị ngoại lai có thể mang lại tiềm năng lợi nhuận cao trong trường hợp mô hình dự đoán chính xác các biến động này. Nếu bạn xóa các giá trị ngoại lai, bạn có thể mất đi cơ hội tận dụng những biến động giá trị Bitcoin tiềm năng.\n",
    "\n",
    "4. Quan sát các xu hướng dài hạn: Bằng cách giữ lại các giá trị ngoại lai, bạn có thể giúp mô hình nhận biết và quan sát các xu hướng dài hạn của giá Bitcoin. Điều này có thể cung cấp thông tin giá trị về sự phát triển và tiềm năng tương lai của Bitcoin, giúp cải thiện khả năng dự đoán.\n",
    "\n",
    "5. Tính chất đặc biệt của Bitcoin: Bitcoin có tính chất độc đáo và có thể trải qua các biến động rất lớn trong giá trị. Điều này có thể dẫn đến sự lệch trong biểu đồ khi các giá trị ngoại lai biểu thị những biến động này. Biểu đồ lệch có thể phản ánh tính chất không thường xuyên và không đồng nhất của dữ liệu Bitcoin.\n"
   ]
  },
  {
   "cell_type": "markdown",
   "id": "26b14d5e",
   "metadata": {},
   "source": [
    "## 2. Handling NULL Values"
   ]
  },
  {
   "cell_type": "markdown",
   "id": "cdfb3989",
   "metadata": {},
   "source": [
    "#### a. Dealing with the datetime feature"
   ]
  },
  {
   "cell_type": "code",
   "execution_count": 19,
   "id": "bf2dfe80",
   "metadata": {},
   "outputs": [],
   "source": [
    "# Convert 'Date' column to datetime\n",
    "df['Date'] = pd.to_datetime(df['Date'], dayfirst=True, errors='coerce')"
   ]
  },
  {
   "cell_type": "markdown",
   "id": "afb95307",
   "metadata": {},
   "source": [
    "#### b. NULL values"
   ]
  },
  {
   "cell_type": "code",
   "execution_count": 20,
   "id": "cc67183e",
   "metadata": {},
   "outputs": [
    {
     "name": "stdout",
     "output_type": "stream",
     "text": [
      "DJI                       891\n",
      "JP225                     891\n",
      "SPX                       891\n",
      "SILVER                    870\n",
      "GOLD                      870\n",
      "COPPER                    870\n",
      "DOGE                      450\n",
      "XRP                       450\n",
      "LTC                       450\n",
      "ETH                       450\n",
      "xfer_cnt                    0\n",
      "mean_tx_size_usd            0\n",
      "Date                        0\n",
      "BTC_close                   0\n",
      "total_fees_usd              0\n",
      "mean_block_size_bytes       0\n",
      "sum_block_weight            0\n",
      "addresses_active_count      0\n",
      "difficulty                  0\n",
      "BTC_change                  0\n",
      "BTC_volume                  0\n",
      "BTC_low                     0\n",
      "BTC_high                    0\n",
      "BTC_open                    0\n",
      "mean_hash_rate              0\n",
      "dtype: int64\n"
     ]
    }
   ],
   "source": [
    "null_count_arr = df.isna().sum()\n",
    "print(null_count_arr.sort_values(ascending=False))"
   ]
  },
  {
   "cell_type": "code",
   "execution_count": 21,
   "id": "f3c003da",
   "metadata": {},
   "outputs": [
    {
     "data": {
      "text/plain": [
       "Text(0.5, 1.0, 'Percentage of Missing Values by Features')"
      ]
     },
     "execution_count": 21,
     "metadata": {},
     "output_type": "execute_result"
    },
    {
     "data": {
      "image/png": "[encoded data removed]",
      "text/plain": [
       "<Figure size 1500x800 with 1 Axes>"
      ]
     },
     "metadata": {},
     "output_type": "display_data"
    }
   ],
   "source": [
    "# plot the distribution of missing values by 24 features \n",
    "null_ratio = (null_count_arr.sort_values(ascending=False)[:24]/df.shape[0])*100\n",
    "plt.figure(figsize=(15,8))\n",
    "plt.xticks(rotation='vertical')\n",
    "sns.barplot(x = null_ratio.index, y = null_ratio)\n",
    "plt.xlabel('Features', fontsize = 15)\n",
    "plt.ylabel('Missing Values (%)', fontsize = 5)\n",
    "plt.title('Percentage of Missing Values by Features', fontsize = 15)"
   ]
  },
  {
   "cell_type": "markdown",
   "id": "c39e5437",
   "metadata": {},
   "source": [
    "By observing the above information, we realize there are two problems with NULL data.\n",
    "\n",
    "Firstly: Market Index including (S&P500, DJI, JP225) and Commodities (Gold, Silver, Copper) have no transactions on Saturday, and Sunday. If you look at our data set, they are all NULL on Saturdays and Sundays.\n",
    "\n",
    "----> Solution: fill in the null value of Saturday, Sunday using the Friday of the last trading session of that week\n",
    "\n",
    "Second: Other Cryptocurrencies (DOGE, LTC, ETH, XRP) have a NULL price because it is newly released later, specifically as follows:\n",
    "XRP : 22/01/2015\n",
    "ETH : 10/03/2016\n",
    "LTC : April 28, 2016\n",
    "DOGE : 03/06/2017\n",
    "----> Solution: fill null value with 0 representing the non-occurrence"
   ]
  },
  {
   "cell_type": "markdown",
   "id": "a51b2d3c",
   "metadata": {},
   "source": [
    "#### The first problem"
   ]
  },
  {
   "cell_type": "code",
   "execution_count": 22,
   "id": "b5adcd4a",
   "metadata": {},
   "outputs": [],
   "source": [
    "# Get the earliest date by excluding missing values\n",
    "earliest_date = df['Date'].dropna().min()\n",
    "\n",
    "# Iterate over each row in the DataFrame\n",
    "for index, row in df.iterrows():\n",
    "    date = row['Date']\n",
    "    # Check if the date value is missing (NaN)\n",
    "    if pd.isnull(date):\n",
    "        # Assign the earliest date to the missing value\n",
    "        df.at[index, 'Date'] = earliest_date"
   ]
  },
  {
   "cell_type": "code",
   "execution_count": 23,
   "id": "c3818556",
   "metadata": {},
   "outputs": [
    {
     "data": {
      "text/html": [
       "<div>\n",
       "<style scoped>\n",
       "    .dataframe tbody tr th:only-of-type {\n",
       "        vertical-align: middle;\n",
       "    }\n",
       "\n",
       "    .dataframe tbody tr th {\n",
       "        vertical-align: top;\n",
       "    }\n",
       "\n",
       "    .dataframe thead th {\n",
       "        text-align: right;\n",
       "    }\n",
       "</style>\n",
       "<table border=\"1\" class=\"dataframe\">\n",
       "  <thead>\n",
       "    <tr style=\"text-align: right;\">\n",
       "      <th></th>\n",
       "      <th>Date</th>\n",
       "      <th>BTC_close</th>\n",
       "      <th>BTC_open</th>\n",
       "      <th>BTC_high</th>\n",
       "      <th>BTC_low</th>\n",
       "      <th>BTC_volume</th>\n",
       "      <th>BTC_change</th>\n",
       "      <th>difficulty</th>\n",
       "      <th>addresses_active_count</th>\n",
       "      <th>sum_block_weight</th>\n",
       "      <th>...</th>\n",
       "      <th>ETH</th>\n",
       "      <th>LTC</th>\n",
       "      <th>XRP</th>\n",
       "      <th>DOGE</th>\n",
       "      <th>COPPER</th>\n",
       "      <th>GOLD</th>\n",
       "      <th>SILVER</th>\n",
       "      <th>SPX</th>\n",
       "      <th>JP225</th>\n",
       "      <th>DJI</th>\n",
       "    </tr>\n",
       "  </thead>\n",
       "  <tbody>\n",
       "    <tr>\n",
       "      <th>0</th>\n",
       "      <td>2023-06-22</td>\n",
       "      <td>29890.5</td>\n",
       "      <td>29992.8</td>\n",
       "      <td>30497.8</td>\n",
       "      <td>29590.4</td>\n",
       "      <td>79.22</td>\n",
       "      <td>-0.0035</td>\n",
       "      <td>52350439455487</td>\n",
       "      <td>1000988</td>\n",
       "      <td>547153915</td>\n",
       "      <td>...</td>\n",
       "      <td>1872.32</td>\n",
       "      <td>85.97</td>\n",
       "      <td>0.49401</td>\n",
       "      <td>0.065567</td>\n",
       "      <td>3.8900</td>\n",
       "      <td>1923.70</td>\n",
       "      <td>22.467</td>\n",
       "      <td>4381.89</td>\n",
       "      <td>33445.0</td>\n",
       "      <td>34210.0</td>\n",
       "    </tr>\n",
       "    <tr>\n",
       "      <th>1</th>\n",
       "      <td>2023-06-21</td>\n",
       "      <td>29996.9</td>\n",
       "      <td>28307.7</td>\n",
       "      <td>30769.5</td>\n",
       "      <td>28270.5</td>\n",
       "      <td>143.49</td>\n",
       "      <td>0.0597</td>\n",
       "      <td>52350439455487</td>\n",
       "      <td>920555</td>\n",
       "      <td>483181576</td>\n",
       "      <td>...</td>\n",
       "      <td>1889.87</td>\n",
       "      <td>85.12</td>\n",
       "      <td>0.49995</td>\n",
       "      <td>0.065644</td>\n",
       "      <td>3.9135</td>\n",
       "      <td>1944.90</td>\n",
       "      <td>22.810</td>\n",
       "      <td>4365.69</td>\n",
       "      <td>33390.0</td>\n",
       "      <td>34235.0</td>\n",
       "    </tr>\n",
       "    <tr>\n",
       "      <th>2</th>\n",
       "      <td>2023-06-20</td>\n",
       "      <td>28307.7</td>\n",
       "      <td>26845.9</td>\n",
       "      <td>28393.0</td>\n",
       "      <td>26665.5</td>\n",
       "      <td>100.55</td>\n",
       "      <td>0.0544</td>\n",
       "      <td>52350439455487</td>\n",
       "      <td>951926</td>\n",
       "      <td>543133484</td>\n",
       "      <td>...</td>\n",
       "      <td>1791.61</td>\n",
       "      <td>80.31</td>\n",
       "      <td>0.49270</td>\n",
       "      <td>0.063108</td>\n",
       "      <td>3.8835</td>\n",
       "      <td>1947.70</td>\n",
       "      <td>23.234</td>\n",
       "      <td>4388.71</td>\n",
       "      <td>33155.0</td>\n",
       "      <td>34356.0</td>\n",
       "    </tr>\n",
       "    <tr>\n",
       "      <th>3</th>\n",
       "      <td>2023-06-19</td>\n",
       "      <td>26845.9</td>\n",
       "      <td>26339.7</td>\n",
       "      <td>27029.7</td>\n",
       "      <td>26295.1</td>\n",
       "      <td>46.45</td>\n",
       "      <td>0.0192</td>\n",
       "      <td>52350439455487</td>\n",
       "      <td>920552</td>\n",
       "      <td>567091224</td>\n",
       "      <td>...</td>\n",
       "      <td>1737.06</td>\n",
       "      <td>77.51</td>\n",
       "      <td>0.49341</td>\n",
       "      <td>0.062429</td>\n",
       "      <td>3.8643</td>\n",
       "      <td>1964.05</td>\n",
       "      <td>24.062</td>\n",
       "      <td>NaN</td>\n",
       "      <td>NaN</td>\n",
       "      <td>NaN</td>\n",
       "    </tr>\n",
       "    <tr>\n",
       "      <th>4</th>\n",
       "      <td>2023-06-18</td>\n",
       "      <td>26339.7</td>\n",
       "      <td>26515.0</td>\n",
       "      <td>26679.3</td>\n",
       "      <td>26290.6</td>\n",
       "      <td>27.31</td>\n",
       "      <td>-0.0066</td>\n",
       "      <td>52350439455487</td>\n",
       "      <td>883864</td>\n",
       "      <td>603064705</td>\n",
       "      <td>...</td>\n",
       "      <td>1720.98</td>\n",
       "      <td>77.20</td>\n",
       "      <td>0.48699</td>\n",
       "      <td>0.062107</td>\n",
       "      <td>3.8738</td>\n",
       "      <td>1969.45</td>\n",
       "      <td>24.198</td>\n",
       "      <td>NaN</td>\n",
       "      <td>NaN</td>\n",
       "      <td>NaN</td>\n",
       "    </tr>\n",
       "  </tbody>\n",
       "</table>\n",
       "<p>5 rows × 25 columns</p>\n",
       "</div>"
      ],
      "text/plain": [
       "        Date  BTC_close  BTC_open  BTC_high  BTC_low BTC_volume  BTC_change   \n",
       "0 2023-06-22    29890.5   29992.8   30497.8  29590.4      79.22     -0.0035  \\\n",
       "1 2023-06-21    29996.9   28307.7   30769.5  28270.5     143.49      0.0597   \n",
       "2 2023-06-20    28307.7   26845.9   28393.0  26665.5     100.55      0.0544   \n",
       "3 2023-06-19    26845.9   26339.7   27029.7  26295.1      46.45      0.0192   \n",
       "4 2023-06-18    26339.7   26515.0   26679.3  26290.6      27.31     -0.0066   \n",
       "\n",
       "       difficulty  addresses_active_count  sum_block_weight  ...      ETH   \n",
       "0  52350439455487                 1000988         547153915  ...  1872.32  \\\n",
       "1  52350439455487                  920555         483181576  ...  1889.87   \n",
       "2  52350439455487                  951926         543133484  ...  1791.61   \n",
       "3  52350439455487                  920552         567091224  ...  1737.06   \n",
       "4  52350439455487                  883864         603064705  ...  1720.98   \n",
       "\n",
       "     LTC      XRP      DOGE  COPPER     GOLD  SILVER      SPX    JP225   \n",
       "0  85.97  0.49401  0.065567  3.8900  1923.70  22.467  4381.89  33445.0  \\\n",
       "1  85.12  0.49995  0.065644  3.9135  1944.90  22.810  4365.69  33390.0   \n",
       "2  80.31  0.49270  0.063108  3.8835  1947.70  23.234  4388.71  33155.0   \n",
       "3  77.51  0.49341  0.062429  3.8643  1964.05  24.062      NaN      NaN   \n",
       "4  77.20  0.48699  0.062107  3.8738  1969.45  24.198      NaN      NaN   \n",
       "\n",
       "       DJI  \n",
       "0  34210.0  \n",
       "1  34235.0  \n",
       "2  34356.0  \n",
       "3      NaN  \n",
       "4      NaN  \n",
       "\n",
       "[5 rows x 25 columns]"
      ]
     },
     "execution_count": 23,
     "metadata": {},
     "output_type": "execute_result"
    }
   ],
   "source": [
    "df.head()"
   ]
  },
  {
   "cell_type": "markdown",
   "id": "2f6dba20",
   "metadata": {},
   "source": [
    "#### The second problem"
   ]
  },
  {
   "cell_type": "code",
   "execution_count": 24,
   "id": "86517101",
   "metadata": {},
   "outputs": [],
   "source": [
    "# # Fill in the missing data with 0 value\n",
    "df_filled = df.fillna(0)\n"
   ]
  },
  {
   "cell_type": "code",
   "execution_count": 25,
   "id": "6457cf0e",
   "metadata": {},
   "outputs": [
    {
     "name": "stdout",
     "output_type": "stream",
     "text": [
      "Is There any 'NaN' value:  False\n",
      "Is there any duplicate value:  False\n"
     ]
    }
   ],
   "source": [
    "# Check existence of NaN value in DataFrame\n",
    "print(\"Is There any 'NaN' value: \", df_filled.isnull().values.any())\n",
    "\n",
    "# Check existence of duplicate values in DataFrame\n",
    "print(\"Is there any duplicate value: \", df_filled.index.duplicated().any())\n"
   ]
  },
  {
   "cell_type": "markdown",
   "id": "6fe542e9",
   "metadata": {},
   "source": [
    "## 3. Correlation Analysis"
   ]
  },
  {
   "cell_type": "code",
   "execution_count": 28,
   "id": "ec08c58a",
   "metadata": {},
   "outputs": [
    {
     "ename": "ValueError",
     "evalue": "could not convert string to float: '1.04B'",
     "output_type": "error",
     "traceback": [
      "\u001b[0;31m---------------------------------------------------------------------------\u001b[0m",
      "\u001b[0;31mValueError\u001b[0m                                Traceback (most recent call last)",
      "Cell \u001b[0;32mIn[28], line 2\u001b[0m\n\u001b[1;32m      1\u001b[0m ds \u001b[38;5;241m=\u001b[39m df\u001b[38;5;241m.\u001b[39mset_index(\u001b[38;5;124m'\u001b[39m\u001b[38;5;124mDate\u001b[39m\u001b[38;5;124m'\u001b[39m) \n\u001b[0;32m----> 2\u001b[0m sns\u001b[38;5;241m.\u001b[39mheatmap(\u001b[43mds\u001b[49m\u001b[38;5;241;43m.\u001b[39;49m\u001b[43mcorr\u001b[49m\u001b[43m(\u001b[49m\u001b[43m)\u001b[49m, cmap\u001b[38;5;241m=\u001b[39m\u001b[38;5;124m\"\u001b[39m\u001b[38;5;124mRdBu\u001b[39m\u001b[38;5;124m\"\u001b[39m)\n",
      "File \u001b[0;32m/usr/local/lib/python3.10/site-packages/pandas/core/frame.py:10054\u001b[0m, in \u001b[0;36mDataFrame.corr\u001b[0;34m(self, method, min_periods, numeric_only)\u001b[0m\n\u001b[1;32m  10052\u001b[0m cols \u001b[38;5;241m=\u001b[39m data\u001b[38;5;241m.\u001b[39mcolumns\n\u001b[1;32m  10053\u001b[0m idx \u001b[38;5;241m=\u001b[39m cols\u001b[38;5;241m.\u001b[39mcopy()\n\u001b[0;32m> 10054\u001b[0m mat \u001b[38;5;241m=\u001b[39m \u001b[43mdata\u001b[49m\u001b[38;5;241;43m.\u001b[39;49m\u001b[43mto_numpy\u001b[49m\u001b[43m(\u001b[49m\u001b[43mdtype\u001b[49m\u001b[38;5;241;43m=\u001b[39;49m\u001b[38;5;28;43mfloat\u001b[39;49m\u001b[43m,\u001b[49m\u001b[43m \u001b[49m\u001b[43mna_value\u001b[49m\u001b[38;5;241;43m=\u001b[39;49m\u001b[43mnp\u001b[49m\u001b[38;5;241;43m.\u001b[39;49m\u001b[43mnan\u001b[49m\u001b[43m,\u001b[49m\u001b[43m \u001b[49m\u001b[43mcopy\u001b[49m\u001b[38;5;241;43m=\u001b[39;49m\u001b[38;5;28;43;01mFalse\u001b[39;49;00m\u001b[43m)\u001b[49m\n\u001b[1;32m  10056\u001b[0m \u001b[38;5;28;01mif\u001b[39;00m method \u001b[38;5;241m==\u001b[39m \u001b[38;5;124m\"\u001b[39m\u001b[38;5;124mpearson\u001b[39m\u001b[38;5;124m\"\u001b[39m:\n\u001b[1;32m  10057\u001b[0m     correl \u001b[38;5;241m=\u001b[39m libalgos\u001b[38;5;241m.\u001b[39mnancorr(mat, minp\u001b[38;5;241m=\u001b[39mmin_periods)\n",
      "File \u001b[0;32m/usr/local/lib/python3.10/site-packages/pandas/core/frame.py:1837\u001b[0m, in \u001b[0;36mDataFrame.to_numpy\u001b[0;34m(self, dtype, copy, na_value)\u001b[0m\n\u001b[1;32m   1835\u001b[0m \u001b[38;5;28;01mif\u001b[39;00m dtype \u001b[38;5;129;01mis\u001b[39;00m \u001b[38;5;129;01mnot\u001b[39;00m \u001b[38;5;28;01mNone\u001b[39;00m:\n\u001b[1;32m   1836\u001b[0m     dtype \u001b[38;5;241m=\u001b[39m np\u001b[38;5;241m.\u001b[39mdtype(dtype)\n\u001b[0;32m-> 1837\u001b[0m result \u001b[38;5;241m=\u001b[39m \u001b[38;5;28;43mself\u001b[39;49m\u001b[38;5;241;43m.\u001b[39;49m\u001b[43m_mgr\u001b[49m\u001b[38;5;241;43m.\u001b[39;49m\u001b[43mas_array\u001b[49m\u001b[43m(\u001b[49m\u001b[43mdtype\u001b[49m\u001b[38;5;241;43m=\u001b[39;49m\u001b[43mdtype\u001b[49m\u001b[43m,\u001b[49m\u001b[43m \u001b[49m\u001b[43mcopy\u001b[49m\u001b[38;5;241;43m=\u001b[39;49m\u001b[43mcopy\u001b[49m\u001b[43m,\u001b[49m\u001b[43m \u001b[49m\u001b[43mna_value\u001b[49m\u001b[38;5;241;43m=\u001b[39;49m\u001b[43mna_value\u001b[49m\u001b[43m)\u001b[49m\n\u001b[1;32m   1838\u001b[0m \u001b[38;5;28;01mif\u001b[39;00m result\u001b[38;5;241m.\u001b[39mdtype \u001b[38;5;129;01mis\u001b[39;00m \u001b[38;5;129;01mnot\u001b[39;00m dtype:\n\u001b[1;32m   1839\u001b[0m     result \u001b[38;5;241m=\u001b[39m np\u001b[38;5;241m.\u001b[39marray(result, dtype\u001b[38;5;241m=\u001b[39mdtype, copy\u001b[38;5;241m=\u001b[39m\u001b[38;5;28;01mFalse\u001b[39;00m)\n",
      "File \u001b[0;32m/usr/local/lib/python3.10/site-packages/pandas/core/internals/managers.py:1732\u001b[0m, in \u001b[0;36mBlockManager.as_array\u001b[0;34m(self, dtype, copy, na_value)\u001b[0m\n\u001b[1;32m   1730\u001b[0m         arr\u001b[38;5;241m.\u001b[39mflags\u001b[38;5;241m.\u001b[39mwriteable \u001b[38;5;241m=\u001b[39m \u001b[38;5;28;01mFalse\u001b[39;00m\n\u001b[1;32m   1731\u001b[0m \u001b[38;5;28;01melse\u001b[39;00m:\n\u001b[0;32m-> 1732\u001b[0m     arr \u001b[38;5;241m=\u001b[39m \u001b[38;5;28;43mself\u001b[39;49m\u001b[38;5;241;43m.\u001b[39;49m\u001b[43m_interleave\u001b[49m\u001b[43m(\u001b[49m\u001b[43mdtype\u001b[49m\u001b[38;5;241;43m=\u001b[39;49m\u001b[43mdtype\u001b[49m\u001b[43m,\u001b[49m\u001b[43m \u001b[49m\u001b[43mna_value\u001b[49m\u001b[38;5;241;43m=\u001b[39;49m\u001b[43mna_value\u001b[49m\u001b[43m)\u001b[49m\n\u001b[1;32m   1733\u001b[0m     \u001b[38;5;66;03m# The underlying data was copied within _interleave, so no need\u001b[39;00m\n\u001b[1;32m   1734\u001b[0m     \u001b[38;5;66;03m# to further copy if copy=True or setting na_value\u001b[39;00m\n\u001b[1;32m   1736\u001b[0m \u001b[38;5;28;01mif\u001b[39;00m na_value \u001b[38;5;129;01mis\u001b[39;00m \u001b[38;5;129;01mnot\u001b[39;00m lib\u001b[38;5;241m.\u001b[39mno_default:\n",
      "File \u001b[0;32m/usr/local/lib/python3.10/site-packages/pandas/core/internals/managers.py:1794\u001b[0m, in \u001b[0;36mBlockManager._interleave\u001b[0;34m(self, dtype, na_value)\u001b[0m\n\u001b[1;32m   1792\u001b[0m     \u001b[38;5;28;01melse\u001b[39;00m:\n\u001b[1;32m   1793\u001b[0m         arr \u001b[38;5;241m=\u001b[39m blk\u001b[38;5;241m.\u001b[39mget_values(dtype)\n\u001b[0;32m-> 1794\u001b[0m     \u001b[43mresult\u001b[49m\u001b[43m[\u001b[49m\u001b[43mrl\u001b[49m\u001b[38;5;241;43m.\u001b[39;49m\u001b[43mindexer\u001b[49m\u001b[43m]\u001b[49m \u001b[38;5;241m=\u001b[39m arr\n\u001b[1;32m   1795\u001b[0m     itemmask[rl\u001b[38;5;241m.\u001b[39mindexer] \u001b[38;5;241m=\u001b[39m \u001b[38;5;241m1\u001b[39m\n\u001b[1;32m   1797\u001b[0m \u001b[38;5;28;01mif\u001b[39;00m \u001b[38;5;129;01mnot\u001b[39;00m itemmask\u001b[38;5;241m.\u001b[39mall():\n",
      "\u001b[0;31mValueError\u001b[0m: could not convert string to float: '1.04B'"
     ]
    }
   ],
   "source": [
    "ds = df.set_index('Date') \n",
    "sns.heatmap(ds.corr(), cmap=\"RdBu\")"
   ]
  },
  {
   "cell_type": "code",
   "execution_count": 27,
   "id": "fdfbdda1",
   "metadata": {},
   "outputs": [
    {
     "name": "stdout",
     "output_type": "stream",
     "text": [
      "Number of categorical fields:  1\n",
      "Number of numerical fields:  23\n"
     ]
    }
   ],
   "source": [
    "# Retrieve the number of categorical fields and numerical fields\n",
    "# field indices where column is categorical\n",
    "categorical_col_idx = np.where(ds.dtypes == object)[0]\n",
    "# field indices where column is numerical\n",
    "numerical_col_idx = np.where(ds.dtypes != object)[0]\n",
    "print(\"Number of categorical fields: \",categorical_col_idx.shape[0])\n",
    "print(\"Number of numerical fields: \",numerical_col_idx.shape[0])"
   ]
  },
  {
   "cell_type": "markdown",
   "id": "9929e733",
   "metadata": {},
   "source": [
    "## 4. Finding outliers"
   ]
  },
  {
   "cell_type": "code",
   "execution_count": null,
   "id": "a3b3ec00",
   "metadata": {},
   "outputs": [],
   "source": [
    "continuous_features = df.drop(\"Date\", axis=1).columns.tolist()"
   ]
  },
  {
   "cell_type": "code",
   "execution_count": null,
   "id": "f33a089d",
   "metadata": {},
   "outputs": [],
   "source": [
    "for feature in continuous_features:\n",
    "    df_copy = df.copy()\n",
    "    df_copy[feature] = np.log1p(df_copy[feature])\n",
    "    df_copy.boxplot(column=feature)\n",
    "    plt.ylabel(feature)\n",
    "    plt.show()"
   ]
  },
  {
   "cell_type": "markdown",
   "id": "889170e6",
   "metadata": {},
   "source": [
    "## 5. Feature Engineering"
   ]
  },
  {
   "cell_type": "markdown",
   "id": "67c2b683",
   "metadata": {},
   "source": [
    "#### a. Preparing X and y to do train test split"
   ]
  },
  {
   "cell_type": "raw",
   "id": "39614a5b",
   "metadata": {},
   "source": [
    "This part is for task 6"
   ]
  },
  {
   "cell_type": "code",
   "execution_count": null,
   "id": "dfc5bab6",
   "metadata": {},
   "outputs": [],
   "source": [
    "X = df_filled.iloc[:, 1:]\n",
    "y = df_filled.iloc[:, 0]\n",
    "print(X.shape, y.shape)"
   ]
  },
  {
   "cell_type": "markdown",
   "id": "8807c007",
   "metadata": {},
   "source": [
    "#### b. The sample of the training and test files for the models"
   ]
  },
  {
   "cell_type": "markdown",
   "id": "4d10fccc",
   "metadata": {},
   "source": [
    "###### IF the way you divide is to use the date call to meet the set ratio"
   ]
  },
  {
   "cell_type": "markdown",
   "id": "c146ce64",
   "metadata": {},
   "source": [
    "Train, Test = 85, 15"
   ]
  },
  {
   "cell_type": "code",
   "execution_count": null,
   "id": "45e24116",
   "metadata": {},
   "outputs": [],
   "source": [
    "\"\"\"from datetime import datetime\n",
    "\n",
    "for index in total.index:\n",
    "    total.loc[index, \"Date\"] = datetime.strptime(str(total.loc[index, \"Date\"])[:10], '%Y-%m-%d').date()\n",
    "\n",
    "Start_day = date(2016, 3, 10)\n",
    "Test_day = date(2022,3,1)\n",
    "End_day = date(2023,4,16)\n",
    "\n",
    "\n",
    "# train, test\n",
    "total = total[(total[\"Date\"] >= Start_day) & (total[\"Date\"] <= End_day)].reset_index(drop = True)\n",
    "train_dataset = total[total[\"Date\"] < Test_day].reset_index(drop = True)\n",
    "test_dataset = total[total[\"Date\"] >= Test_day].reset_index(drop = True)\"\"\""
   ]
  },
  {
   "cell_type": "code",
   "execution_count": null,
   "id": "cc5a62f1",
   "metadata": {},
   "outputs": [],
   "source": [
    "\"\"\"X_train = train_dataset.drop([\"Date\"], axis=1)[:-1]\n",
    "y_train = train_dataset[\"BTC_close\"][1:].reset_index(drop=True)\n",
    "\n",
    "X_test = test_dataset.drop([\"Date\"], axis=1)[:-1]\n",
    "y_test = test_dataset[\"BTC_close\"][1:].reset_index(drop=True)\"\"\""
   ]
  },
  {
   "cell_type": "code",
   "execution_count": null,
   "id": "9ae0f64e",
   "metadata": {},
   "outputs": [],
   "source": [
    "\"\"\"test_ratio = len(test_dataset) / len(total)\n",
    "\n",
    "print(\"Test_data/total:\", test_ratio)\"\"\""
   ]
  },
  {
   "cell_type": "code",
   "execution_count": null,
   "id": "f899c4d4",
   "metadata": {},
   "outputs": [],
   "source": [
    "\"\"\"print(\"X_train size:\", X_train.shape)\n",
    "print(\"Y_train size:\", y_train.shape)\n",
    "print(\"X_test size:\", X_test.shape)\n",
    "print(\"Size y_test:\", y_test.shape)\"\"\""
   ]
  },
  {
   "cell_type": "markdown",
   "id": "d051e3cd",
   "metadata": {},
   "source": [
    "###### IF the way you split is to use train_test_split from Sklearn library\n",
    "\n"
   ]
  },
  {
   "cell_type": "markdown",
   "id": "760b8661",
   "metadata": {},
   "source": [
    "Train, Valid, Test = 70,15,15"
   ]
  },
  {
   "cell_type": "code",
   "execution_count": null,
   "id": "7c8559cb",
   "metadata": {},
   "outputs": [],
   "source": [
    "\"\"\"from sklearn.model_selection import train_test_split\"\"\""
   ]
  },
  {
   "cell_type": "code",
   "execution_count": null,
   "id": "44a20344",
   "metadata": {},
   "outputs": [],
   "source": [
    "\"\"\"X_train, X_test, y_train, y_testn = train_test_split(X, y, test_size=0.3, shuffle=False)\n",
    "X_val, X_test, y_val, y_test = train_test_split(X_test, y_test, test_size=0.5, shuffle=False)\"\"\""
   ]
  },
  {
   "cell_type": "markdown",
   "id": "79c7e68a",
   "metadata": {},
   "source": [
    "## 6. Feature Selection"
   ]
  },
  {
   "cell_type": "markdown",
   "id": "aff1b303",
   "metadata": {},
   "source": [
    "Using the \"Extra Trees Regressor\" tool of the Scikitlearn library to create a graph that visually shows the importance of the independent variables X to the dependent variable Y in the forecasting model"
   ]
  },
  {
   "cell_type": "code",
   "execution_count": null,
   "id": "4d963639",
   "metadata": {},
   "outputs": [],
   "source": [
    "from sklearn.ensemble import ExtraTreesRegressor\n",
    "\n",
    "feat_selection = ExtraTreesRegressor()\n",
    "feat_selection.fit(X,y)"
   ]
  },
  {
   "cell_type": "code",
   "execution_count": null,
   "id": "074ebf68",
   "metadata": {},
   "outputs": [],
   "source": [
    "print(feat_selection.feature_importances_)"
   ]
  },
  {
   "cell_type": "code",
   "execution_count": null,
   "id": "6e2c817b",
   "metadata": {},
   "outputs": [],
   "source": [
    "#plot a graph of feature importances\n",
    "feat_importances = pd.Series(feat_selection.feature_importances_, index=X.columns)\n",
    "feat_importances.nlargest(23).plot(kind='barh')\n",
    "plt.show()"
   ]
  },
  {
   "cell_type": "markdown",
   "id": "6ab2b871",
   "metadata": {},
   "source": [
    "But for our case the number of features are less and our purpose so we will use all of them."
   ]
  },
  {
   "cell_type": "markdown",
   "id": "b10c3dd7",
   "metadata": {},
   "source": [
    "## 7. Feature Scaling"
   ]
  },
  {
   "cell_type": "markdown",
   "id": "134381a9",
   "metadata": {},
   "source": [
    "## C. Finishing Touch"
   ]
  },
  {
   "cell_type": "code",
   "execution_count": null,
   "id": "d62564fc",
   "metadata": {},
   "outputs": [],
   "source": [
    "# save preprocessed data in .csv format for model building\n",
    "#df_filled.to_csv('data.csv', index=False)"
   ]
  }
 ],
 "metadata": {
  "kernelspec": {
   "display_name": "Python 3 (ipykernel)",
   "language": "python",
   "name": "python3"
  },
  "language_info": {
   "codemirror_mode": {
    "name": "ipython",
    "version": 3
   },
   "file_extension": ".py",
   "mimetype": "text/x-python",
   "name": "python",
   "nbconvert_exporter": "python",
   "pygments_lexer": "ipython3",
   "version": "3.10.11"
  }
 },
 "nbformat": 4,
 "nbformat_minor": 5
}
